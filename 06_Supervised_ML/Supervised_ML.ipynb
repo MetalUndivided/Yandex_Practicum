{
 "cells": [
  {
   "cell_type": "markdown",
   "id": "6c178c35",
   "metadata": {
    "toc": true
   },
   "source": [
    "<h1>Table of Contents<span class=\"tocSkip\"></span></h1>\n",
    "<div class=\"toc\"><ul class=\"toc-item\"><li><span><a href=\"#Подготовка-данных\" data-toc-modified-id=\"Подготовка-данных-1\"><span class=\"toc-item-num\">1&nbsp;&nbsp;</span>Подготовка данных</a></span><ul class=\"toc-item\"><li><span><a href=\"#Импорт-данных\" data-toc-modified-id=\"Импорт-данных-1.1\"><span class=\"toc-item-num\">1.1&nbsp;&nbsp;</span>Импорт данных</a></span></li><li><span><a href=\"#Изучение-данных\" data-toc-modified-id=\"Изучение-данных-1.2\"><span class=\"toc-item-num\">1.2&nbsp;&nbsp;</span>Изучение данных</a></span></li><li><span><a href=\"#Удаление-дубликатов\" data-toc-modified-id=\"Удаление-дубликатов-1.3\"><span class=\"toc-item-num\">1.3&nbsp;&nbsp;</span>Удаление дубликатов</a></span></li><li><span><a href=\"#Изучение-и-фильтрация-аномальных-значений\" data-toc-modified-id=\"Изучение-и-фильтрация-аномальных-значений-1.4\"><span class=\"toc-item-num\">1.4&nbsp;&nbsp;</span>Изучение и фильтрация аномальных значений</a></span></li><li><span><a href=\"#Обработка-пропущенных-значений\" data-toc-modified-id=\"Обработка-пропущенных-значений-1.5\"><span class=\"toc-item-num\">1.5&nbsp;&nbsp;</span>Обработка пропущенных значений</a></span></li></ul></li><li><span><a href=\"#Исследование-задачи\" data-toc-modified-id=\"Исследование-задачи-2\"><span class=\"toc-item-num\">2&nbsp;&nbsp;</span>Исследование задачи</a></span><ul class=\"toc-item\"><li><span><a href=\"#Подготовка-данных-к-обучению\" data-toc-modified-id=\"Подготовка-данных-к-обучению-2.1\"><span class=\"toc-item-num\">2.1&nbsp;&nbsp;</span>Подготовка данных к обучению</a></span></li><li><span><a href=\"#Наивное-обучение:-baseline\" data-toc-modified-id=\"Наивное-обучение:-baseline-2.2\"><span class=\"toc-item-num\">2.2&nbsp;&nbsp;</span>Наивное обучение: baseline</a></span></li><li><span><a href=\"#Наивное-обучение:-логистическая-регрессия\" data-toc-modified-id=\"Наивное-обучение:-логистическая-регрессия-2.3\"><span class=\"toc-item-num\">2.3&nbsp;&nbsp;</span>Наивное обучение: логистическая регрессия</a></span></li><li><span><a href=\"#Наивное-обучение:-дерево-решений\" data-toc-modified-id=\"Наивное-обучение:-дерево-решений-2.4\"><span class=\"toc-item-num\">2.4&nbsp;&nbsp;</span>Наивное обучение: дерево решений</a></span></li><li><span><a href=\"#Наивное-обучение:-случайный-лес\" data-toc-modified-id=\"Наивное-обучение:-случайный-лес-2.5\"><span class=\"toc-item-num\">2.5&nbsp;&nbsp;</span>Наивное обучение: случайный лес</a></span></li><li><span><a href=\"#Наивное-обучение:-k-ближайших-соседей\" data-toc-modified-id=\"Наивное-обучение:-k-ближайших-соседей-2.6\"><span class=\"toc-item-num\">2.6&nbsp;&nbsp;</span>Наивное обучение: k ближайших соседей</a></span></li><li><span><a href=\"#Наивное-обучение:-выводы\" data-toc-modified-id=\"Наивное-обучение:-выводы-2.7\"><span class=\"toc-item-num\">2.7&nbsp;&nbsp;</span>Наивное обучение: выводы</a></span></li></ul></li><li><span><a href=\"#Борьба-с-дисбалансом\" data-toc-modified-id=\"Борьба-с-дисбалансом-3\"><span class=\"toc-item-num\">3&nbsp;&nbsp;</span>Борьба с дисбалансом</a></span><ul class=\"toc-item\"><li><span><a href=\"#Веса-классов:-логистическая-регрессия\" data-toc-modified-id=\"Веса-классов:-логистическая-регрессия-3.1\"><span class=\"toc-item-num\">3.1&nbsp;&nbsp;</span>Веса классов: логистическая регрессия</a></span></li><li><span><a href=\"#Веса-классов:-дерево-решений\" data-toc-modified-id=\"Веса-классов:-дерево-решений-3.2\"><span class=\"toc-item-num\">3.2&nbsp;&nbsp;</span>Веса классов: дерево решений</a></span></li><li><span><a href=\"#Веса-классов:-случайный-лес\" data-toc-modified-id=\"Веса-классов:-случайный-лес-3.3\"><span class=\"toc-item-num\">3.3&nbsp;&nbsp;</span>Веса классов: случайный лес</a></span></li><li><span><a href=\"#Веса-классов:-выводы\" data-toc-modified-id=\"Веса-классов:-выводы-3.4\"><span class=\"toc-item-num\">3.4&nbsp;&nbsp;</span>Веса классов: выводы</a></span></li><li><span><a href=\"#Апсемплинг-данных\" data-toc-modified-id=\"Апсемплинг-данных-3.5\"><span class=\"toc-item-num\">3.5&nbsp;&nbsp;</span>Апсемплинг данных</a></span></li><li><span><a href=\"#Апсемплинг:-логистическая-регрессия\" data-toc-modified-id=\"Апсемплинг:-логистическая-регрессия-3.6\"><span class=\"toc-item-num\">3.6&nbsp;&nbsp;</span>Апсемплинг: логистическая регрессия</a></span></li><li><span><a href=\"#Апсемплинг:-дерево-решений\" data-toc-modified-id=\"Апсемплинг:-дерево-решений-3.7\"><span class=\"toc-item-num\">3.7&nbsp;&nbsp;</span>Апсемплинг: дерево решений</a></span></li><li><span><a href=\"#Апсемплинг:-случаный-лес\" data-toc-modified-id=\"Апсемплинг:-случаный-лес-3.8\"><span class=\"toc-item-num\">3.8&nbsp;&nbsp;</span>Апсемплинг: случаный лес</a></span></li><li><span><a href=\"#Апсемплинг:-kNN\" data-toc-modified-id=\"Апсемплинг:-kNN-3.9\"><span class=\"toc-item-num\">3.9&nbsp;&nbsp;</span>Апсемплинг: kNN</a></span></li><li><span><a href=\"#Апсемплинг:-выводы\" data-toc-modified-id=\"Апсемплинг:-выводы-3.10\"><span class=\"toc-item-num\">3.10&nbsp;&nbsp;</span>Апсемплинг: выводы</a></span></li></ul></li><li><span><a href=\"#Тестирование-модели\" data-toc-modified-id=\"Тестирование-модели-4\"><span class=\"toc-item-num\">4&nbsp;&nbsp;</span>Тестирование модели</a></span><ul class=\"toc-item\"><li><span><a href=\"#Тестирование-модели,-обученной-на-комбинированной-выборке\" data-toc-modified-id=\"Тестирование-модели,-обученной-на-комбинированной-выборке-4.1\"><span class=\"toc-item-num\">4.1&nbsp;&nbsp;</span>Тестирование модели, обученной на комбинированной выборке</a></span></li><li><span><a href=\"#График-сравнения-моделей\" data-toc-modified-id=\"График-сравнения-моделей-4.2\"><span class=\"toc-item-num\">4.2&nbsp;&nbsp;</span>График сравнения моделей</a></span></li></ul></li><li><span><a href=\"#Выводы\" data-toc-modified-id=\"Выводы-5\"><span class=\"toc-item-num\">5&nbsp;&nbsp;</span>Выводы</a></span></li><li><span><a href=\"#Чек-лист-готовности-проекта\" data-toc-modified-id=\"Чек-лист-готовности-проекта-6\"><span class=\"toc-item-num\">6&nbsp;&nbsp;</span>Чек-лист готовности проекта</a></span></li><li><span><a href=\"#Финальные-комментарии-ревьюера\" data-toc-modified-id=\"Финальные-комментарии-ревьюера-7\"><span class=\"toc-item-num\">7&nbsp;&nbsp;</span>Финальные комментарии ревьюера</a></span></li></ul></div>"
   ]
  },
  {
   "cell_type": "markdown",
   "id": "add7d823",
   "metadata": {},
   "source": [
    "# Отток клиентов"
   ]
  },
  {
   "cell_type": "markdown",
   "id": "276fe4a2",
   "metadata": {},
   "source": [
    "Из «Бета-Банка» стали уходить клиенты. Каждый месяц. Немного, но заметно. Банковские маркетологи посчитали: сохранять текущих клиентов дешевле, чем привлекать новых.\n",
    "\n",
    "Нужно спрогнозировать, уйдёт клиент из банка в ближайшее время или нет. Предоставлены исторические данные о поведении клиентов и расторжении договоров с банком. \n",
    "\n",
    "Нужно построить модель с предельно большим значением *F1*-меры. Минмально необходимое значение метрики - 0.59.\n",
    "\n",
    "Источник данных: [https://www.kaggle.com/barelydedicated/bank-customer-churn-modeling](https://www.kaggle.com/barelydedicated/bank-customer-churn-modeling)"
   ]
  },
  {
   "cell_type": "markdown",
   "id": "2f562e1f",
   "metadata": {},
   "source": [
    "## Подготовка данных"
   ]
  },
  {
   "cell_type": "markdown",
   "id": "2baf7203",
   "metadata": {},
   "source": [
    "### Импорт данных"
   ]
  },
  {
   "cell_type": "code",
   "execution_count": 1,
   "id": "788b6e7e",
   "metadata": {},
   "outputs": [],
   "source": [
    "import pandas as pd\n",
    "import re\n",
    "import numpy as np\n",
    "from sklearn.model_selection import train_test_split\n",
    "from sklearn.metrics import roc_auc_score, f1_score\n",
    "from sklearn.preprocessing import StandardScaler\n",
    "from sklearn.linear_model import LogisticRegression\n",
    "from sklearn.tree import DecisionTreeClassifier\n",
    "from sklearn.ensemble import RandomForestClassifier\n",
    "from sklearn.neighbors import KNeighborsClassifier\n",
    "from sklearn.utils import shuffle\n",
    "import seaborn as sns\n",
    "from matplotlib import pyplot as plt"
   ]
  },
  {
   "cell_type": "code",
   "execution_count": 2,
   "id": "e6797878",
   "metadata": {},
   "outputs": [],
   "source": [
    "## Для открытия на локальной машине\n",
    "try:\n",
    "    data = pd.read_csv(\"churn.csv\")\n",
    "except FileNotFoundError:\n",
    "    data = pd.read_csv(\"/datasets/Churn.csv\")"
   ]
  },
  {
   "cell_type": "markdown",
   "id": "95ad4c20",
   "metadata": {},
   "source": [
    "Данные загружены, перейдем к их изучению"
   ]
  },
  {
   "cell_type": "markdown",
   "id": "655dfdac",
   "metadata": {},
   "source": [
    "### Изучение данных"
   ]
  },
  {
   "cell_type": "code",
   "execution_count": 3,
   "id": "fa079fc0",
   "metadata": {},
   "outputs": [
    {
     "name": "stdout",
     "output_type": "stream",
     "text": [
      "<class 'pandas.core.frame.DataFrame'>\n",
      "RangeIndex: 10000 entries, 0 to 9999\n",
      "Data columns (total 14 columns):\n",
      " #   Column           Non-Null Count  Dtype  \n",
      "---  ------           --------------  -----  \n",
      " 0   RowNumber        10000 non-null  int64  \n",
      " 1   CustomerId       10000 non-null  int64  \n",
      " 2   Surname          10000 non-null  object \n",
      " 3   CreditScore      10000 non-null  int64  \n",
      " 4   Geography        10000 non-null  object \n",
      " 5   Gender           10000 non-null  object \n",
      " 6   Age              10000 non-null  int64  \n",
      " 7   Tenure           9091 non-null   float64\n",
      " 8   Balance          10000 non-null  float64\n",
      " 9   NumOfProducts    10000 non-null  int64  \n",
      " 10  HasCrCard        10000 non-null  int64  \n",
      " 11  IsActiveMember   10000 non-null  int64  \n",
      " 12  EstimatedSalary  10000 non-null  float64\n",
      " 13  Exited           10000 non-null  int64  \n",
      "dtypes: float64(3), int64(8), object(3)\n",
      "memory usage: 1.1+ MB\n",
      "None\n"
     ]
    }
   ],
   "source": [
    "print(data.info())"
   ]
  },
  {
   "cell_type": "code",
   "execution_count": 4,
   "id": "37da16ae",
   "metadata": {},
   "outputs": [
    {
     "name": "stdout",
     "output_type": "stream",
     "text": [
      "      RowNumber  CustomerId         Surname  CreditScore Geography  Gender  \\\n",
      "7030       7031    15610042           Brown          574    France    Male   \n",
      "1230       1231    15742480       Igwebuike          775   Germany    Male   \n",
      "4240       4241    15736730            Soto          634    France  Female   \n",
      "3592       3593    15628886         Matlock          677     Spain    Male   \n",
      "4711       4712    15758831        Thornton          754    France    Male   \n",
      "7092       7093    15723884       Nekrasova          758     Spain    Male   \n",
      "665         666    15645772        Onwumelu          661    France    Male   \n",
      "3496       3497    15812324            King          779    France    Male   \n",
      "6936       6937    15679928        Horsfall          592    France  Female   \n",
      "7504       7505    15587038       Ogochukwu          654     Spain  Female   \n",
      "5950       5951    15806808            Hope          834   Germany  Female   \n",
      "3812       3813    15790267          Onuoha          625    France  Female   \n",
      "7120       7121    15603683         Ofodile          796     Spain  Female   \n",
      "1195       1196    15578866          Hughes          676    France  Female   \n",
      "4046       4047    15806403              Hu          650    France    Male   \n",
      "7628       7629    15624423             Liu          850    France    Male   \n",
      "389         390    15717225       Ikemefuna          544    France  Female   \n",
      "8793       8794    15574554            Pugh          537   Germany    Male   \n",
      "9685       9686    15644280       Udegbunam          593    France    Male   \n",
      "9984       9985    15696175  Echezonachukwu          602   Germany    Male   \n",
      "\n",
      "      Age  Tenure    Balance  NumOfProducts  HasCrCard  IsActiveMember  \\\n",
      "7030   33     8.0  100267.03              1          1               0   \n",
      "1230   36     2.0  109949.05              2          0               1   \n",
      "4240   45     2.0       0.00              1          1               1   \n",
      "3592   56     NaN  123959.97              1          1               1   \n",
      "4711   39     3.0   74896.33              1          0               0   \n",
      "7092   40     3.0       0.00              2          0               0   \n",
      "665    33     9.0       0.00              2          1               1   \n",
      "3496   27     NaN       0.00              2          1               1   \n",
      "6936   31     NaN   84102.11              2          0               1   \n",
      "7504   32     2.0       0.00              1          1               1   \n",
      "5950   57     8.0  112281.60              3          1               0   \n",
      "3812   40     NaN  141267.67              1          0               1   \n",
      "7120   23     3.0  146584.19              2          0               0   \n",
      "1195   43     2.0       0.00              1          1               1   \n",
      "4046   37     9.0       0.00              2          1               0   \n",
      "7628   28     8.0   99986.98              1          1               0   \n",
      "389    21    10.0  161525.96              2          1               0   \n",
      "8793   66     8.0  103291.25              2          1               1   \n",
      "9685   45     4.0  138825.19              1          0               0   \n",
      "9984   35     7.0   90602.42              2          1               1   \n",
      "\n",
      "      EstimatedSalary  Exited  \n",
      "7030        103006.27       0  \n",
      "1230         71682.54       0  \n",
      "4240        143458.31       0  \n",
      "3592         60590.72       1  \n",
      "4711         34430.16       0  \n",
      "7092         96097.65       0  \n",
      "665          84174.81       0  \n",
      "3496        190623.02       0  \n",
      "6936        116385.24       0  \n",
      "7504         51972.92       1  \n",
      "5950        140225.14       1  \n",
      "3812        177397.49       0  \n",
      "7120        125445.80       0  \n",
      "1195         55119.53       0  \n",
      "4046         17974.08       0  \n",
      "7628        196582.55       0  \n",
      "389           9262.77       0  \n",
      "8793        130664.79       0  \n",
      "9685         10828.78       0  \n",
      "9984         51695.41       0  \n"
     ]
    }
   ],
   "source": [
    "print(data.sample(20))"
   ]
  },
  {
   "cell_type": "markdown",
   "id": "e4bbcbbd",
   "metadata": {},
   "source": [
    "На первый взгляд датасет в весьма приличном виде.\n",
    "\n",
    "Данные полно представлены (за исключением столбца *Tenure*), типы данных соответствуют содержимому.\n",
    "\n",
    "Но для начала я бы переименовал названия столбцов в snakecase и дропнул столбец *RowNumber*, он не несет в себе полезной информации и эффективно является копией индекса датафрейма."
   ]
  },
  {
   "cell_type": "code",
   "execution_count": 5,
   "id": "95b70acf",
   "metadata": {},
   "outputs": [],
   "source": [
    "regex = re.compile(r\"(?<!^)(?=[A-Z])\")\n",
    "\n",
    "column_names = {column:re.sub(regex, \"_\", column).lower() for column in data.columns}\n",
    "#print(column_names)\n",
    "\n",
    "data.rename(columns=column_names, inplace=True)"
   ]
  },
  {
   "cell_type": "code",
   "execution_count": 6,
   "id": "fe89c5e1",
   "metadata": {},
   "outputs": [],
   "source": [
    "data.drop(\"row_number\", axis=1, inplace=True)"
   ]
  },
  {
   "cell_type": "markdown",
   "id": "870fd2cb",
   "metadata": {},
   "source": [
    "### Удаление дубликатов"
   ]
  },
  {
   "cell_type": "markdown",
   "id": "faead099",
   "metadata": {},
   "source": [
    "Проверим, не дублируются ли id клиентов"
   ]
  },
  {
   "cell_type": "code",
   "execution_count": 7,
   "id": "fe07dcbc",
   "metadata": {},
   "outputs": [
    {
     "name": "stdout",
     "output_type": "stream",
     "text": [
      "Дубликатов нет\n"
     ]
    }
   ],
   "source": [
    "print(\"Дубликатов нет\") if data.shape[0] == len(set(data[\"customer_id\"].unique())) else print(\"Найдено дубликатов:\").format(data.shape[0] - len(set(data[\"customer_id\"].unique())))"
   ]
  },
  {
   "cell_type": "markdown",
   "id": "83468ce3",
   "metadata": {},
   "source": [
    "Больше нам столбец *customer_id* не понадобится по тем же причинам, что и *row_number*, можно от него избавиться."
   ]
  },
  {
   "cell_type": "code",
   "execution_count": 8,
   "id": "607d6765",
   "metadata": {},
   "outputs": [],
   "source": [
    "data.drop(\"customer_id\", axis=1, inplace=True)"
   ]
  },
  {
   "cell_type": "markdown",
   "id": "4f963956",
   "metadata": {},
   "source": [
    "### Изучение и фильтрация аномальных значений"
   ]
  },
  {
   "cell_type": "markdown",
   "id": "0bfcecef",
   "metadata": {},
   "source": [
    "Проверим, есть ли в данных аномальные значения"
   ]
  },
  {
   "cell_type": "code",
   "execution_count": 9,
   "id": "a4595565",
   "metadata": {},
   "outputs": [
    {
     "data": {
      "image/png": "[encoded data removed]",
      "text/plain": [
       "<Figure size 2160x1440 with 9 Axes>"
      ]
     },
     "metadata": {
      "needs_background": "light"
     },
     "output_type": "display_data"
    }
   ],
   "source": [
    "data.hist(figsize=(30, 20), bins=50);"
   ]
  },
  {
   "cell_type": "markdown",
   "id": "501ffdd8",
   "metadata": {},
   "source": [
    "Аномальных значений не наблюдается.\n",
    "\n",
    "Стоит отметить, что:\n",
    "* Есть серьезный дисбаланс классов в нашем целевом признаке *exited*: примерно 1:4 в пользу \"нулей\"\n",
    "* Существенная часть клиентов (~35%) имеют баланс, близкий к нулю\n",
    "* Подозрительно выглядит гистограмма оценочного заработка: я бы ожидал гауссово распределение, а не ровное плато."
   ]
  },
  {
   "cell_type": "markdown",
   "id": "7198fb70",
   "metadata": {},
   "source": [
    "### Обработка пропущенных значений"
   ]
  },
  {
   "cell_type": "markdown",
   "id": "c8effcab",
   "metadata": {},
   "source": [
    "Пропущенные значения имеются только в столбце *tenure*.\n",
    "\n",
    "Не могу найти объяснений, что могло бы скрываться за пропусками кроме банального отсутствия данных."
   ]
  },
  {
   "cell_type": "code",
   "execution_count": 10,
   "id": "ff9566b1",
   "metadata": {},
   "outputs": [],
   "source": [
    "#data.dropna(inplace=True)\n",
    "#print(data.info())"
   ]
  },
  {
   "cell_type": "markdown",
   "id": "5d43eba3",
   "metadata": {},
   "source": [
    "Заменим пропуски на медиану."
   ]
  },
  {
   "cell_type": "code",
   "execution_count": 11,
   "id": "2f3ee152",
   "metadata": {},
   "outputs": [],
   "source": [
    "data.fillna({\"tenure\":data[\"tenure\"].median()}, inplace=True)"
   ]
  },
  {
   "cell_type": "markdown",
   "id": "9a4d9f12",
   "metadata": {},
   "source": [
    "## Исследование задачи"
   ]
  },
  {
   "cell_type": "markdown",
   "id": "ecda90dd",
   "metadata": {},
   "source": [
    "Перед нами стоит классическая задача классификации.\n",
    "\n",
    "Как уже было упомянуто выше, в целевом признаке *exited* есть существенный дисбаланс классов: на 1го покинувшего банк клиента приходится 4 непокинвуших.\n"
   ]
  },
  {
   "cell_type": "code",
   "execution_count": 12,
   "id": "0ffec727",
   "metadata": {},
   "outputs": [
    {
     "name": "stdout",
     "output_type": "stream",
     "text": [
      "Разделение целевого признака:\n",
      "0    0.7963\n",
      "1    0.2037\n",
      "Name: exited, dtype: float64\n"
     ]
    }
   ],
   "source": [
    "print(\"Разделение целевого признака:\")\n",
    "print(data[\"exited\"].value_counts(normalize=True))"
   ]
  },
  {
   "cell_type": "markdown",
   "id": "35d40601",
   "metadata": {},
   "source": [
    "Для начала попробуем наивно обучить модель на имеющихся данных без всяких трансформаций: во-первых может оказаться, что дальнейших действий с данными не требуется, а во-вторых, если они понадобятся, это даст понимание того, насколько важна борьба с дисбалансом."
   ]
  },
  {
   "cell_type": "markdown",
   "id": "5879f943",
   "metadata": {},
   "source": [
    "### Подготовка данных к обучению"
   ]
  },
  {
   "cell_type": "markdown",
   "id": "4c15fe11",
   "metadata": {},
   "source": [
    "Но прежде всего нужно выделить столбцы, которые являются признаками.\n",
    "\n",
    "Из того, что осталось в датасете в признаки не пойдет только *surname* - фамилия человека никак не может предсказать, прекратит ли он быть клиентом банка или нет."
   ]
  },
  {
   "cell_type": "code",
   "execution_count": 13,
   "id": "b6d8f6da",
   "metadata": {},
   "outputs": [],
   "source": [
    "data.drop(\"surname\", axis=1, inplace=True)"
   ]
  },
  {
   "cell_type": "markdown",
   "id": "5a7eaa72",
   "metadata": {},
   "source": [
    "Теперь закодируем категориальные признаки, а именно *geography* и *gender* OHE кодировкой."
   ]
  },
  {
   "cell_type": "code",
   "execution_count": 14,
   "id": "5f7fe718",
   "metadata": {},
   "outputs": [],
   "source": [
    "data = pd.get_dummies(data, columns=[\"gender\", \"geography\"], drop_first=True)"
   ]
  },
  {
   "cell_type": "code",
   "execution_count": 16,
   "id": "7a9b1edb",
   "metadata": {},
   "outputs": [
    {
     "data": {
      "image/png": "[encoded data removed]",
      "text/plain": [
       "<Figure size 2160x1440 with 12 Axes>"
      ]
     },
     "metadata": {
      "needs_background": "light"
     },
     "output_type": "display_data"
    }
   ],
   "source": [
    "data.hist(figsize=(30, 20), bins=50);"
   ]
  },
  {
   "cell_type": "markdown",
   "id": "ab177abe",
   "metadata": {},
   "source": [
    "Теперь данные нужно разделить на обучающую, тестовую и валидационные выборки.\n",
    "\n",
    "Делить будем в пропорции:\n",
    "\n",
    "Обучающая | Валидационная | Тестовая\n",
    "\n",
    "    60%   |       20%     |    20%"
   ]
  },
  {
   "cell_type": "code",
   "execution_count": 17,
   "id": "24352b70",
   "metadata": {},
   "outputs": [],
   "source": [
    "seed = 111  ## Глобальный сид для воспроизводимости результатов"
   ]
  },
  {
   "cell_type": "code",
   "execution_count": 18,
   "id": "cb655dcc",
   "metadata": {},
   "outputs": [],
   "source": [
    "features = data.drop(\"exited\", axis=1)\n",
    "target = data[\"exited\"]\n",
    "\n",
    "features_train, features_remainder, target_train, target_remainder = train_test_split(features, target, \n",
    "                                                                                      train_size=.6, random_state=seed\n",
    "                                                                                     )\n",
    "\n",
    "features_valid, features_test, target_valid, target_test = train_test_split(features_remainder, target_remainder, \n",
    "                                                                                      train_size=.5, random_state=seed\n",
    "                                                                                     )\n",
    "\n",
    "#print(features_train.shape)\n",
    "#print(features_valid.shape)\n",
    "#print(features_test.shape)"
   ]
  },
  {
   "cell_type": "markdown",
   "id": "a7d2775a",
   "metadata": {},
   "source": [
    "Еще стоит отмасштабировать численные признаки, т.к. значения, которые они принимают, могут запросто различаться на несколько порядков.\n",
    "\n",
    "Для масштабирования будем использовать StandardScaler()."
   ]
  },
  {
   "cell_type": "code",
   "execution_count": 19,
   "id": "99c32d69",
   "metadata": {},
   "outputs": [
    {
     "name": "stderr",
     "output_type": "stream",
     "text": [
      "C:\\Software\\Anaconda\\lib\\site-packages\\pandas\\core\\frame.py:3678: SettingWithCopyWarning: \n",
      "A value is trying to be set on a copy of a slice from a DataFrame.\n",
      "Try using .loc[row_indexer,col_indexer] = value instead\n",
      "\n",
      "See the caveats in the documentation: https://pandas.pydata.org/pandas-docs/stable/user_guide/indexing.html#returning-a-view-versus-a-copy\n",
      "  self[col] = igetitem(value, i)\n",
      "C:\\Software\\Anaconda\\lib\\site-packages\\pandas\\core\\frame.py:3678: SettingWithCopyWarning: \n",
      "A value is trying to be set on a copy of a slice from a DataFrame.\n",
      "Try using .loc[row_indexer,col_indexer] = value instead\n",
      "\n",
      "See the caveats in the documentation: https://pandas.pydata.org/pandas-docs/stable/user_guide/indexing.html#returning-a-view-versus-a-copy\n",
      "  self[col] = igetitem(value, i)\n",
      "C:\\Software\\Anaconda\\lib\\site-packages\\pandas\\core\\frame.py:3678: SettingWithCopyWarning: \n",
      "A value is trying to be set on a copy of a slice from a DataFrame.\n",
      "Try using .loc[row_indexer,col_indexer] = value instead\n",
      "\n",
      "See the caveats in the documentation: https://pandas.pydata.org/pandas-docs/stable/user_guide/indexing.html#returning-a-view-versus-a-copy\n",
      "  self[col] = igetitem(value, i)\n"
     ]
    }
   ],
   "source": [
    "scaler = StandardScaler()\n",
    "\n",
    "numeric_columns = [\"credit_score\", \"age\", \"tenure\", \"balance\", \"estimated_salary\", \"num_of_products\"]\n",
    "scaler.fit(features_train[numeric_columns])\n",
    "\n",
    "features_train[numeric_columns] = scaler.transform(features_train[numeric_columns])\n",
    "features_valid[numeric_columns] = scaler.transform(features_valid[numeric_columns])\n",
    "features_test[numeric_columns] = scaler.transform(features_test[numeric_columns])"
   ]
  },
  {
   "cell_type": "markdown",
   "id": "51e00869",
   "metadata": {},
   "source": [
    "Данные подготовлены, можно пробовать обучать модели."
   ]
  },
  {
   "cell_type": "markdown",
   "id": "5a0e1460",
   "metadata": {},
   "source": [
    "### Наивное обучение: baseline"
   ]
  },
  {
   "cell_type": "markdown",
   "id": "b27a12ef",
   "metadata": {},
   "source": [
    "Прежде чем смотреть на F1 и AUC-ROC обучаемых моделей, неплохо бы понимать, какие значения будут заведомо неадекватными.\n",
    "\n",
    "Для этого посчитаем метрики на \"модели\", которая всегда предсказывает самый часто встречаемый целевой класс."
   ]
  },
  {
   "cell_type": "code",
   "execution_count": 20,
   "id": "74508db8",
   "metadata": {},
   "outputs": [
    {
     "name": "stdout",
     "output_type": "stream",
     "text": [
      "F1 Score: 0.0000\n",
      "AUC-ROC: 0.5000\n"
     ]
    }
   ],
   "source": [
    "baseline_prediction = pd.Series(0, index=target_valid.index)\n",
    "\n",
    "print(\"F1 Score: {0:.4f}\".format(f1_score(target_valid, baseline_prediction)))\n",
    "print(\"AUC-ROC: {0:.4f}\".format(roc_auc_score(target_valid, baseline_prediction)))"
   ]
  },
  {
   "cell_type": "markdown",
   "id": "c1122986",
   "metadata": {},
   "source": [
    "Ну что ж, значения удобные, легко запоминаются."
   ]
  },
  {
   "cell_type": "markdown",
   "id": "d4b9c9e9",
   "metadata": {},
   "source": [
    "### Наивное обучение: логистическая регрессия"
   ]
  },
  {
   "cell_type": "markdown",
   "id": "57197ef6",
   "metadata": {},
   "source": [
    "Обучим модель логистической регрессии и посмотрим, какие результаты получатся."
   ]
  },
  {
   "cell_type": "code",
   "execution_count": 21,
   "id": "2f1ef8f9",
   "metadata": {},
   "outputs": [],
   "source": [
    "model_results_f1 = {}  ## Для построения итогового графика\n",
    "model_results_models = {}  ## Для хранения лучших моделей каждого типа"
   ]
  },
  {
   "cell_type": "code",
   "execution_count": 22,
   "id": "ff4792bb",
   "metadata": {},
   "outputs": [
    {
     "name": "stdout",
     "output_type": "stream",
     "text": [
      "F1 Score: 0.3321\n",
      "AUC-ROC: 0.7697\n"
     ]
    }
   ],
   "source": [
    "model = LogisticRegression()\n",
    "model.fit(features_train, target_train)\n",
    "prediction = model.predict(features_valid)\n",
    "\n",
    "model_results_f1[\"Logistic Naive\"] = f1_score(target_valid, prediction)\n",
    "model_results_models[\"Logistic Naive\"] = model\n",
    "\n",
    "print(\"F1 Score: {0:.4f}\".format(f1_score(target_valid, prediction)))\n",
    "print(\"AUC-ROC: {0:.4f}\".format(roc_auc_score(target_valid, model.predict_proba(features_valid)[:, 1])))"
   ]
  },
  {
   "cell_type": "markdown",
   "id": "f4833722",
   "metadata": {},
   "source": [
    "F1, конечно, очень далек от целевого минимума по условию задания, но, в целом, пожалуй, выше, чем я ожидал.\n",
    "\n",
    "Попробуем обучить дерево."
   ]
  },
  {
   "cell_type": "markdown",
   "id": "aa46912d",
   "metadata": {},
   "source": [
    "### Наивное обучение: дерево решений"
   ]
  },
  {
   "cell_type": "markdown",
   "id": "a353bfdb",
   "metadata": {},
   "source": [
    "Переберем диапазон гиперпараметров с целью найти лучшие."
   ]
  },
  {
   "cell_type": "code",
   "execution_count": 23,
   "id": "a5f40075",
   "metadata": {},
   "outputs": [
    {
     "name": "stdout",
     "output_type": "stream",
     "text": [
      "Лучший F1 Score: 0.5182\n",
      "Лучший AUC-ROC: 0.7427\n",
      "Параметры лучшей модели:\n",
      " DecisionTreeClassifier(max_depth=2, max_leaf_nodes=4, random_state=111)\n"
     ]
    }
   ],
   "source": [
    "best_model = None\n",
    "best_f1 = 0\n",
    "\n",
    "for depth in range(1, 20):\n",
    "    for leaves in range(2, 8):\n",
    "        model = DecisionTreeClassifier(max_depth=depth, max_leaf_nodes=leaves, random_state=seed)\n",
    "        model.fit(features_train, target_train)\n",
    "        prediction = model.predict(features_valid)\n",
    "        model_f1 = f1_score(target_valid, prediction)\n",
    "        \n",
    "        if model_f1 > best_f1:\n",
    "            best_f1 = model_f1\n",
    "            best_model = model\n",
    "        \n",
    "\n",
    "model_results_f1[\"Decision Tree Naive\"] = best_f1\n",
    "model_results_models[\"Decision Tree Naive\"] = best_model\n",
    "        \n",
    "print(\"Лучший F1 Score: {0:.4f}\".format(best_f1))\n",
    "print(\"Лучший AUC-ROC: {0:.4f}\".format(roc_auc_score(target_valid, best_model.predict_proba(features_valid)[:, 1])))\n",
    "print(\"Параметры лучшей модели:\\n\", best_model)"
   ]
  },
  {
   "cell_type": "markdown",
   "id": "2295b09f",
   "metadata": {},
   "source": [
    "Это значение F1 уже намного интереснее и ближе к целевому минимуму.\n",
    "\n",
    "Посмотрим, удастся ли его улучшить с помощтю случайного леса."
   ]
  },
  {
   "cell_type": "markdown",
   "id": "450e2f34",
   "metadata": {},
   "source": [
    "### Наивное обучение: случайный лес"
   ]
  },
  {
   "cell_type": "markdown",
   "id": "e60788d5",
   "metadata": {},
   "source": [
    "Аналогично переберем гиперпараметры для поиска лучшей модели."
   ]
  },
  {
   "cell_type": "code",
   "execution_count": 24,
   "id": "bf2e8044",
   "metadata": {},
   "outputs": [
    {
     "name": "stdout",
     "output_type": "stream",
     "text": [
      "Лучший F1 Score: 0.6376\n",
      "Лучший AUC-ROC: 0.8688\n",
      "Параметры лучшей модели:\n",
      " RandomForestClassifier(max_depth=19, n_estimators=90, random_state=111)\n",
      "Wall time: 36.5 s\n"
     ]
    }
   ],
   "source": [
    "%%time\n",
    "best_model = None\n",
    "best_f1 = 0\n",
    "\n",
    "for estimators in range(10, 100, 10):\n",
    "    for depth in range(1, 20):\n",
    "        model = RandomForestClassifier(n_estimators=estimators, max_depth=depth, random_state=seed)\n",
    "        model.fit(features_train, target_train)\n",
    "        prediction = model.predict(features_valid)\n",
    "        model_f1 = f1_score(target_valid, prediction)\n",
    "\n",
    "        if model_f1 > best_f1:\n",
    "            best_f1 = model_f1\n",
    "            best_model = model\n",
    "        \n",
    "        \n",
    "model_results_f1[\"Random Forest Naive\"] = best_f1\n",
    "model_results_models[\"Random Forest Naive\"] = best_model\n",
    "        \n",
    "print(\"Лучший F1 Score: {0:.4f}\".format(best_f1))\n",
    "print(\"Лучший AUC-ROC: {0:.4f}\".format(roc_auc_score(target_valid, best_model.predict_proba(features_valid)[:, 1])))\n",
    "print(\"Параметры лучшей модели:\\n\", best_model)"
   ]
  },
  {
   "cell_type": "markdown",
   "id": "84db0b26",
   "metadata": {},
   "source": [
    "А вот это выглядит уже куда интересней: F1 ощутимо выше единственного дерева и выше минимального по условию задачи. На этом поиск модели можно было бы считать законченным, но все же проверим еще одну модель и попробуем сбалансировать классы."
   ]
  },
  {
   "cell_type": "markdown",
   "id": "9c7886e3",
   "metadata": {},
   "source": [
    "### Наивное обучение: k ближайших соседей"
   ]
  },
  {
   "cell_type": "code",
   "execution_count": 25,
   "id": "e12b0113",
   "metadata": {},
   "outputs": [
    {
     "name": "stdout",
     "output_type": "stream",
     "text": [
      "Лучший F1 Score: 0.5550\n",
      "Лучший AUC-ROC: 0.8567\n",
      "Параметры лучшей модели:\n",
      " KNeighborsClassifier(n_neighbors=13)\n"
     ]
    }
   ],
   "source": [
    "best_model = None\n",
    "best_f1 = 0\n",
    "\n",
    "for neighbours in range(1, 50):\n",
    "    model = KNeighborsClassifier(n_neighbors=neighbours)\n",
    "    model.fit(features_train, target_train)\n",
    "    prediction = model.predict(features_valid)\n",
    "    model_f1 = f1_score(target_valid, prediction)\n",
    "\n",
    "    if model_f1 > best_f1:\n",
    "        best_f1 = model_f1\n",
    "        best_model = model\n",
    "        \n",
    "        \n",
    "model_results_f1[\"kNN Naive\"] = best_f1\n",
    "model_results_models[\"kNN Naive\"] = best_model\n",
    "        \n",
    "print(\"Лучший F1 Score: {0:.4f}\".format(best_f1))\n",
    "print(\"Лучший AUC-ROC: {0:.4f}\".format(roc_auc_score(target_valid, model.predict_proba(features_valid)[:, 1])))\n",
    "print(\"Параметры лучшей модели:\\n\", best_model)"
   ]
  },
  {
   "cell_type": "markdown",
   "id": "4d4258f7",
   "metadata": {},
   "source": [
    "F1 примерно сравним с деревом решений."
   ]
  },
  {
   "cell_type": "markdown",
   "id": "130297e2",
   "metadata": {},
   "source": [
    "Основные модели опробованы, на валидационной выборке необходимую точность показал только случайный лес.\n",
    "\n",
    "Теперь стоит проверить, удастся ли улучшить качество предсказаний путем устранения дисбаланса в целевом признаке."
   ]
  },
  {
   "cell_type": "markdown",
   "id": "e709376e",
   "metadata": {},
   "source": [
    "### Наивное обучение: выводы"
   ]
  },
  {
   "cell_type": "markdown",
   "id": "aa6c7f7b",
   "metadata": {},
   "source": [
    "* 3 из 4 моделей не доходят до граничного значения F1 и не могу использоваться в таком виде.\n",
    "* Наилучший показатель метрики F1 дает модель случайного леса (.6376)."
   ]
  },
  {
   "cell_type": "markdown",
   "id": "8fd7e7f0",
   "metadata": {},
   "source": [
    "## Борьба с дисбалансом"
   ]
  },
  {
   "cell_type": "markdown",
   "id": "6126ae9d",
   "metadata": {},
   "source": [
    "Для борьбы с дисбалансом попробуем 2 подхода:\n",
    "1) Простой - задание весов классов для моделей\n",
    "\n",
    "2) Сложный - апсемплинг данных. Можно попробовать и даунсемплинг, но он не такой интересный.\n",
    "\n",
    "Начнем с весов, т.к. после манипуляций с исходными данными в них смысла не будет."
   ]
  },
  {
   "cell_type": "markdown",
   "id": "85d1c630",
   "metadata": {},
   "source": [
    "### Веса классов: логистическая регрессия"
   ]
  },
  {
   "cell_type": "code",
   "execution_count": 26,
   "id": "85435a07",
   "metadata": {},
   "outputs": [
    {
     "name": "stdout",
     "output_type": "stream",
     "text": [
      "F1 Score: 0.4845\n",
      "AUC-ROC: 0.7729\n"
     ]
    }
   ],
   "source": [
    "model = LogisticRegression(class_weight='balanced')\n",
    "model.fit(features_train, target_train)\n",
    "prediction = model.predict(features_valid)\n",
    "\n",
    "model_results_f1[\"Logistic Weighted\"] = f1_score(target_valid, prediction)\n",
    "model_results_models[\"Logistic Weighted\"] = model\n",
    "\n",
    "print(\"F1 Score: {0:.4f}\".format(f1_score(target_valid, prediction)))\n",
    "print(\"AUC-ROC: {0:.4f}\".format(roc_auc_score(target_valid, model.predict_proba(features_valid)[:, 1])))"
   ]
  },
  {
   "cell_type": "markdown",
   "id": "f6d823da",
   "metadata": {},
   "source": [
    "F1 улучшился с .3321 до .4845. Неплохо, но все же, существенно ниже, чем минимум по условию задания."
   ]
  },
  {
   "cell_type": "markdown",
   "id": "96cea031",
   "metadata": {},
   "source": [
    "### Веса классов: дерево решений"
   ]
  },
  {
   "cell_type": "code",
   "execution_count": 27,
   "id": "a921b398",
   "metadata": {},
   "outputs": [
    {
     "name": "stdout",
     "output_type": "stream",
     "text": [
      "Лучший F1 Score: 0.5230\n",
      "Лучший AUC-ROC: 0.7996\n",
      "Параметры лучшей модели:\n",
      " DecisionTreeClassifier(class_weight='balanced', max_depth=3, max_leaf_nodes=6,\n",
      "                       random_state=111)\n"
     ]
    }
   ],
   "source": [
    "best_model = None\n",
    "best_f1 = 0\n",
    "\n",
    "for depth in range(1, 20):\n",
    "    for leaves in range(2, 8):\n",
    "        model = DecisionTreeClassifier(class_weight=\"balanced\", max_depth=depth, max_leaf_nodes=leaves, random_state=seed)\n",
    "        model.fit(features_train, target_train)\n",
    "        prediction = model.predict(features_valid)\n",
    "        model_f1 = f1_score(target_valid, prediction)\n",
    "        \n",
    "        if model_f1 > best_f1:\n",
    "            best_f1 = model_f1\n",
    "            best_model = model\n",
    "        \n",
    "model_results_f1[\"Decision Tree Weighted\"] = best_f1\n",
    "model_results_models[\"Decision Tree Weighted\"] = best_model\n",
    "        \n",
    "print(\"Лучший F1 Score: {0:.4f}\".format(best_f1))\n",
    "print(\"Лучший AUC-ROC: {0:.4f}\".format(roc_auc_score(target_valid, best_model.predict_proba(features_valid)[:, 1])))\n",
    "print(\"Параметры лучшей модели:\\n\", best_model)"
   ]
  },
  {
   "cell_type": "markdown",
   "id": "649170c9",
   "metadata": {},
   "source": [
    "Есть незначительная разница (F1 .5182 -> .5230). Думаю, можно считать, что результаты с весами и без эквивалентны."
   ]
  },
  {
   "cell_type": "markdown",
   "id": "6168efc4",
   "metadata": {},
   "source": [
    "### Веса классов: случайный лес"
   ]
  },
  {
   "cell_type": "code",
   "execution_count": 28,
   "id": "2cf4dbe2",
   "metadata": {
    "scrolled": true
   },
   "outputs": [
    {
     "name": "stdout",
     "output_type": "stream",
     "text": [
      "Лучший F1 Score: 0.6500\n",
      "Лучший AUC-ROC: 0.8776\n",
      "Параметры лучшей модели:\n",
      " RandomForestClassifier(class_weight='balanced', max_depth=11, n_estimators=90,\n",
      "                       random_state=111)\n",
      "Wall time: 36.8 s\n"
     ]
    }
   ],
   "source": [
    "%%time\n",
    "best_model = None\n",
    "best_f1 = 0\n",
    "\n",
    "for estimators in range(10, 100, 10):\n",
    "    for depth in range(1, 20):\n",
    "        model = RandomForestClassifier(class_weight=\"balanced\", n_estimators=estimators, max_depth=depth, random_state=seed)\n",
    "        model.fit(features_train, target_train)\n",
    "        prediction = model.predict(features_valid)\n",
    "        model_f1 = f1_score(target_valid, prediction)\n",
    "\n",
    "        if model_f1 > best_f1:\n",
    "            best_f1 = model_f1\n",
    "            best_model = model\n",
    "        \n",
    "model_results_f1[\"Random Forest Weighted\"] = best_f1\n",
    "model_results_models[\"Random Forest Weighted\"] = best_model\n",
    "        \n",
    "print(\"Лучший F1 Score: {0:.4f}\".format(best_f1))\n",
    "print(\"Лучший AUC-ROC: {0:.4f}\".format(roc_auc_score(target_valid, best_model.predict_proba(features_valid)[:, 1])))\n",
    "print(\"Параметры лучшей модели:\\n\", best_model)"
   ]
  },
  {
   "cell_type": "markdown",
   "id": "800cb2f5",
   "metadata": {},
   "source": [
    "Как и с деревом, есть незначительно улучшение F1: .6376 -> .6500\n",
    "\n",
    "С kNN трюк с весами классов не сработает, ему такой аргумент не передать.\n",
    "\n",
    "Дальше будем пробовать апсемплить данные и смотреть, что из этого получится."
   ]
  },
  {
   "cell_type": "markdown",
   "id": "227f128b",
   "metadata": {},
   "source": [
    "### Веса классов: выводы"
   ]
  },
  {
   "cell_type": "markdown",
   "id": "0680c801",
   "metadata": {},
   "source": [
    "* Использование весов позволило существенно увеличить величину F1 для логистической регрессии (.3321 -> .4845), однако метрика все равно остается ниже пороговой.\n",
    "* Для моделей дерева решений и случайного леса данный метод привел к незначительному улучшению значения F1: .5182 -> .5230 для дерева решений и .6376 -> .6500 для случайного леса."
   ]
  },
  {
   "cell_type": "markdown",
   "id": "3098692f",
   "metadata": {},
   "source": [
    "### Апсемплинг данных"
   ]
  },
  {
   "cell_type": "markdown",
   "id": "dbe4315a",
   "metadata": {},
   "source": [
    "Точки редкого класса скопируем несколько раз и добавим к данным, после чего все перемешаем. В результате нулей и единиц в целевом параметре должно оказаться примерно поровну."
   ]
  },
  {
   "cell_type": "code",
   "execution_count": 30,
   "id": "af929e1e",
   "metadata": {},
   "outputs": [],
   "source": [
    "def upsample(features:pd.DataFrame, target:pd.DataFrame, factor:int, seed:int) -> tuple:\n",
    "    features_ones = features[target == 1]\n",
    "    features_zeroes = features[target == 0]\n",
    "    target_ones = target[target == 1]\n",
    "    target_zeroes = target[target == 0]\n",
    "    \n",
    "    features = pd.concat([features_zeroes] + [features_ones] * factor)\n",
    "    target = pd.concat([target_zeroes] + [target_ones] * factor)\n",
    "    \n",
    "    features, target = shuffle(features, target, random_state=seed)\n",
    "    \n",
    "    return features, target"
   ]
  },
  {
   "cell_type": "code",
   "execution_count": 31,
   "id": "9fcaeeeb",
   "metadata": {},
   "outputs": [
    {
     "name": "stdout",
     "output_type": "stream",
     "text": [
      "1    4928\n",
      "0    4768\n",
      "Name: exited, dtype: int64\n"
     ]
    }
   ],
   "source": [
    "features_train_ups, target_train_ups = upsample(features_train, target_train, factor=4, seed=seed)\n",
    "print(target_train_ups.value_counts())"
   ]
  },
  {
   "cell_type": "markdown",
   "id": "cef9d5e2",
   "metadata": {},
   "source": [
    "Теперь количество точек примерно сравнимо. Можно пробовать обучать модели на этом новом датасете.\n",
    "\n",
    "Но прежде, чем обучать, нужно выделить обучающую выборку. Остальные выборки здесь не нужны, проверочные выборки останутся исходных размера и содержания."
   ]
  },
  {
   "cell_type": "markdown",
   "id": "99dd3d15",
   "metadata": {},
   "source": [
    "### Апсемплинг: логистическая регрессия"
   ]
  },
  {
   "cell_type": "code",
   "execution_count": 33,
   "id": "8188914c",
   "metadata": {},
   "outputs": [
    {
     "name": "stdout",
     "output_type": "stream",
     "text": [
      "F1 Score: 0.4852\n",
      "AUC-ROC: 0.7729\n"
     ]
    }
   ],
   "source": [
    "model = LogisticRegression()\n",
    "model.fit(features_train_ups, target_train_ups)\n",
    "prediction = model.predict(features_valid)\n",
    "\n",
    "model_results_f1[\"Logistic Upsampled\"] = f1_score(target_valid, prediction)\n",
    "model_results_models[\"Logistic Upsampled\"] = model\n",
    "\n",
    "print(\"F1 Score: {0:.4f}\".format(f1_score(target_valid, prediction)))\n",
    "print(\"AUC-ROC: {0:.4f}\".format(roc_auc_score(target_valid, model.predict_proba(features_valid)[:, 1])))"
   ]
  },
  {
   "cell_type": "markdown",
   "id": "eb83a56e",
   "metadata": {},
   "source": [
    "Результат можно считать идентичным заданию весов, F1 увеличился .4845 -> .4852. Незначительно, в общем, увеличился.\n",
    "\n",
    "Пробуем дерево."
   ]
  },
  {
   "cell_type": "markdown",
   "id": "d5b20c85",
   "metadata": {},
   "source": [
    "### Апсемплинг: дерево решений"
   ]
  },
  {
   "cell_type": "code",
   "execution_count": 34,
   "id": "9a9d7aea",
   "metadata": {},
   "outputs": [
    {
     "name": "stdout",
     "output_type": "stream",
     "text": [
      "Лучший F1 Score: 0.5230\n",
      "Лучший AUC-ROC: 0.7996\n",
      "Параметры лучшей модели:\n",
      " DecisionTreeClassifier(max_depth=3, max_leaf_nodes=6, random_state=111)\n"
     ]
    }
   ],
   "source": [
    "best_model = None\n",
    "best_f1 = 0\n",
    "\n",
    "for depth in range(1, 20):\n",
    "    for leaves in range(2, 8):\n",
    "        model = DecisionTreeClassifier(max_depth=depth, max_leaf_nodes=leaves, random_state=seed)\n",
    "        model.fit(features_train_ups, target_train_ups)\n",
    "        prediction = model.predict(features_valid)\n",
    "        model_f1 = f1_score(target_valid, prediction)\n",
    "        \n",
    "        if model_f1 > best_f1:\n",
    "            best_f1 = model_f1\n",
    "            best_model = model\n",
    "        \n",
    "model_results_f1[\"Decision Tree Upsampled\"] = best_f1\n",
    "model_results_models[\"Decision Tree Upsampled\"] = best_model\n",
    "        \n",
    "print(\"Лучший F1 Score: {0:.4f}\".format(best_f1))\n",
    "print(\"Лучший AUC-ROC: {0:.4f}\".format(roc_auc_score(target_valid, best_model.predict_proba(features_valid)[:, 1])))\n",
    "print(\"Параметры лучшей модели:\\n\", best_model)"
   ]
  },
  {
   "cell_type": "markdown",
   "id": "03ae3c1e",
   "metadata": {},
   "source": [
    "Результат точно такой же, как и с весами: .5230."
   ]
  },
  {
   "cell_type": "markdown",
   "id": "e6f68585",
   "metadata": {},
   "source": [
    "### Апсемплинг: случаный лес"
   ]
  },
  {
   "cell_type": "code",
   "execution_count": 35,
   "id": "23e671e8",
   "metadata": {},
   "outputs": [
    {
     "name": "stdout",
     "output_type": "stream",
     "text": [
      "Лучший F1 Score: 0.6571\n",
      "Лучший AUC-ROC: 0.8699\n",
      "Параметры лучшей модели:\n",
      " RandomForestClassifier(max_depth=14, n_estimators=80, random_state=111)\n",
      "Wall time: 58 s\n"
     ]
    }
   ],
   "source": [
    "%%time\n",
    "best_model = None\n",
    "best_f1 = 0\n",
    "\n",
    "for estimators in range(10, 100, 10):\n",
    "    for depth in range(1, 20):\n",
    "        model = RandomForestClassifier(n_estimators=estimators, max_depth=depth, random_state=seed)\n",
    "        model.fit(features_train_ups, target_train_ups)\n",
    "        prediction = model.predict(features_valid)\n",
    "        model_f1 = f1_score(target_valid, prediction)\n",
    "\n",
    "        if model_f1 > best_f1:\n",
    "            best_f1 = model_f1\n",
    "            best_model = model\n",
    "        \n",
    "model_results_f1[\"Random Forest Upsampled\"] = best_f1\n",
    "model_results_models[\"Random Forest Upsampled\"] = best_model\n",
    "        \n",
    "print(\"Лучший F1 Score: {0:.4f}\".format(best_f1))\n",
    "print(\"Лучший AUC-ROC: {0:.4f}\".format(roc_auc_score(target_valid, best_model.predict_proba(features_valid)[:, 1])))\n",
    "print(\"Параметры лучшей модели:\\n\", best_model)"
   ]
  },
  {
   "cell_type": "markdown",
   "id": "60ae30ed",
   "metadata": {},
   "source": [
    "Есть незначительное улучшение F1: .6500 -> .6571\n",
    "\n",
    "Пробуем еще kNN"
   ]
  },
  {
   "cell_type": "markdown",
   "id": "2874653d",
   "metadata": {},
   "source": [
    "### Апсемплинг: kNN"
   ]
  },
  {
   "cell_type": "code",
   "execution_count": 36,
   "id": "e8ed912f",
   "metadata": {},
   "outputs": [
    {
     "name": "stdout",
     "output_type": "stream",
     "text": [
      "Лучший F1 Score: 0.5958\n",
      "Лучший AUC-ROC: 0.8405\n",
      "Параметры лучшей модели:\n",
      " KNeighborsClassifier(n_neighbors=16)\n"
     ]
    }
   ],
   "source": [
    "best_model = None\n",
    "best_f1 = 0\n",
    "\n",
    "for neighbours in range(1, 50):\n",
    "    model = KNeighborsClassifier(n_neighbors=neighbours)\n",
    "    model.fit(features_train_ups, target_train_ups)\n",
    "    prediction = model.predict(features_valid)\n",
    "    model_f1 = f1_score(target_valid, prediction)\n",
    "\n",
    "    if model_f1 > best_f1:\n",
    "        best_f1 = model_f1\n",
    "        best_model = model\n",
    "        \n",
    "        \n",
    "model_results_f1[\"kNN Upsampled\"] = best_f1\n",
    "model_results_models[\"kNN Upsampled\"] = best_model\n",
    "        \n",
    "print(\"Лучший F1 Score: {0:.4f}\".format(best_f1))\n",
    "print(\"Лучший AUC-ROC: {0:.4f}\".format(roc_auc_score(target_valid, best_model.predict_proba(features_valid)[:, 1])))\n",
    "print(\"Параметры лучшей модели:\\n\", best_model)"
   ]
  },
  {
   "cell_type": "markdown",
   "id": "6fb396c7",
   "metadata": {},
   "source": [
    "F1 существенно вырос относительно несбалансированного обучения и перешел порог: .5550 -> .5958."
   ]
  },
  {
   "cell_type": "markdown",
   "id": "938a657a",
   "metadata": {},
   "source": [
    "Теперь осталось проверить модель с лучшими показателями на тестовой выборке и сделать выводы."
   ]
  },
  {
   "cell_type": "markdown",
   "id": "088a73f5",
   "metadata": {},
   "source": [
    "### Апсемплинг: выводы"
   ]
  },
  {
   "cell_type": "markdown",
   "id": "74ff41c2",
   "metadata": {},
   "source": [
    "* Применением апсемплинга оказало незначительный положительный эффект на F1 логистической регрессии относительно задания весов (.4845 -> .4852)\n",
    "* На дерево решений апсемплинг не оказал никакого эффекта относительно задания весов (F1 .5230 -> 0.5230)\n",
    "* На случайный лес апсемплинг оказал незначительный положительный эффект относительно задания весов (F1 .6500 -> .6571)\n",
    "* Также существенный положительный эффект достигнут для k ближайших соседей (F1 .5550 -> .5958)\n",
    "* Модель случайного леса показала наибольшее значение метрик F1 и AUC-ROC и будет проверена на тестовой выборке."
   ]
  },
  {
   "cell_type": "markdown",
   "id": "0b9ec6c3",
   "metadata": {},
   "source": [
    "## Тестирование модели"
   ]
  },
  {
   "cell_type": "markdown",
   "id": "d238f4cb",
   "metadata": {},
   "source": [
    "Лучшие показатели F1 и AUC-ROC показала модель решающего дерева, ее и будем проверять на тестовой выборке."
   ]
  },
  {
   "cell_type": "code",
   "execution_count": 37,
   "id": "6c079ce0",
   "metadata": {},
   "outputs": [
    {
     "name": "stdout",
     "output_type": "stream",
     "text": [
      "Итоговый F1 Score: 0.6054\n",
      "Итоговый AUC-ROC: 0.8354\n"
     ]
    }
   ],
   "source": [
    "candidate_model = model_results_models[\"Random Forest Upsampled\"]\n",
    "\n",
    "prediction = candidate_model.predict(features_test)\n",
    "f1_test = f1_score(target_test, prediction)\n",
    "auc_roc_test = roc_auc_score(target_test, candidate_model.predict_proba(features_test)[:, 1])\n",
    "\n",
    "print(\"Итоговый F1 Score: {0:.4f}\".format(f1_test))\n",
    "print(\"Итоговый AUC-ROC: {0:.4f}\".format(auc_roc_test))"
   ]
  },
  {
   "cell_type": "markdown",
   "id": "38434e60",
   "metadata": {},
   "source": [
    "Итоговый F1 <b>.6054</b>, AUC-ROC <b>.8354</b>. Значения метрики модели удовлетворяют условиям задачи (.59) и модель может быть рекомендована к использованию."
   ]
  },
  {
   "cell_type": "markdown",
   "id": "2a9b676e",
   "metadata": {},
   "source": [
    "### Тестирование модели, обученной на комбинированной выборке"
   ]
  },
  {
   "cell_type": "markdown",
   "id": "d88c4435",
   "metadata": {},
   "source": [
    "Еще попробуем обучить модель на комбинации тренировочной и валидационной выборок."
   ]
  },
  {
   "cell_type": "code",
   "execution_count": 39,
   "id": "a1da845d",
   "metadata": {},
   "outputs": [
    {
     "data": {
      "text/plain": [
       "1    6484\n",
       "0    6379\n",
       "Name: exited, dtype: int64"
      ]
     },
     "execution_count": 39,
     "metadata": {},
     "output_type": "execute_result"
    }
   ],
   "source": [
    "features_valid_ups, target_valid_ups = upsample(features_valid, target_valid, factor=4, seed=seed)\n",
    "\n",
    "features_mix = pd.concat([features_train_ups, features_valid_ups])\n",
    "target_mix = pd.concat([target_train_ups, target_valid_ups])\n",
    "\n",
    "target_mix.value_counts()"
   ]
  },
  {
   "cell_type": "code",
   "execution_count": 40,
   "id": "9b822107",
   "metadata": {},
   "outputs": [
    {
     "name": "stdout",
     "output_type": "stream",
     "text": [
      "Итоговый F1 Score: 0.5872\n",
      "Итоговый AUC-ROC: 0.8372\n"
     ]
    }
   ],
   "source": [
    "candidate_model_mix = model_results_models[\"Random Forest Upsampled\"]\n",
    "\n",
    "candidate_model_mix.fit(features_mix, target_mix)\n",
    "prediction = candidate_model_mix.predict(features_test)\n",
    "f1_test = f1_score(target_test, prediction)\n",
    "auc_roc_test = roc_auc_score(target_test, candidate_model.predict_proba(features_test)[:, 1])\n",
    "\n",
    "print(\"Итоговый F1 Score: {0:.4f}\".format(f1_test))\n",
    "print(\"Итоговый AUC-ROC: {0:.4f}\".format(auc_roc_test))"
   ]
  },
  {
   "cell_type": "markdown",
   "id": "85371337",
   "metadata": {},
   "source": [
    "Маневр с переобучением на смешанной выборке не сработал, F1 уменьшился."
   ]
  },
  {
   "cell_type": "markdown",
   "id": "b5d03e03",
   "metadata": {},
   "source": [
    "### График сравнения моделей"
   ]
  },
  {
   "cell_type": "markdown",
   "id": "d7a62213",
   "metadata": {},
   "source": [
    "Еще для вывода построим сравнительный график результатов проверок моделей на валидационной выборке."
   ]
  },
  {
   "cell_type": "code",
   "execution_count": 41,
   "id": "3f92cade",
   "metadata": {},
   "outputs": [
    {
     "data": {
      "image/png": "[encoded data removed]",
      "text/plain": [
       "<Figure size 1080x432 with 1 Axes>"
      ]
     },
     "metadata": {
      "needs_background": "light"
     },
     "output_type": "display_data"
    }
   ],
   "source": [
    "chart_data = pd.DataFrame(model_results_f1, index=[0])\n",
    "chart_data = chart_data.melt()\n",
    "chart_data.columns = [\"Method\", \"F1 Score\"]\n",
    "\n",
    "plt.figure(figsize=(15,6))\n",
    "plt.title(\"Сравнение F1 моделей\")\n",
    "plt.xlim(0, 1)\n",
    "plt.axvline(.59, color=\"red\")\n",
    "sns.barplot(data=chart_data, y=\"Method\", x=\"F1 Score\", orient=\"h\");\n",
    "\n",
    "#print(model_results_f1)"
   ]
  },
  {
   "cell_type": "markdown",
   "id": "36447a57",
   "metadata": {},
   "source": [
    "## Выводы"
   ]
  },
  {
   "attachments": {
    "F1_barplot-3.PNG": {
     "image/png": "[encoded data removed]"
    }
   },
   "cell_type": "markdown",
   "id": "73f462db",
   "metadata": {},
   "source": [
    "* Имеющиеся данные были разделены на обучающую, валидационную и тестовую выборки в пророрции 60% - 20% - 20% соответственно\n",
    "* В исследовании участвовали модели 4 типов: логистическая регрессия, дерево решений, случайный лес и k ближайших соседей\n",
    "* Помимо обучения на имеющихся первичных данных, были применены 2 способа борьбы с дисбалансом классов в целевом признаке: задание весов классов и апсемплинг данных.\n",
    "* 4 обученных модели показали на валидационной выборке параметр F1 выше граничного по условию задачи (.59): случайный лес с дисбалансом классов (.6376), случайный лес с весами классов (.6500), случаный лес на апсемпленных данных (.6571) и k ближайших соседей на апсемпленных данных (.5958). Сравнительный график представлен ниже:\n",
    "![F1_barplot-3.PNG](attachment:F1_barplot-3.PNG)\n",
    "* Модель <b>случайного леса на апсемпленных данных</b> показала <b>наибольшее</b> значение метрик F1 (.6571) и AUC-ROC (.8699) на валидационной выборке, а так же воспроизвела приемлимые показатели на тестовой выборке (F1 = .6054, AUC-ROC = .8354) и <b>рекомендуется</b> к дальнейшему использованию.\n",
    "* Рекомендуемая модель хранится в переменной *candidate_model*"
   ]
  }
 ],
 "metadata": {
  "ExecuteTimeLog": [
   {
    "duration": 2065,
    "start_time": "2023-03-20T03:13:04.088Z"
   },
   {
    "duration": 138,
    "start_time": "2023-03-20T03:13:06.156Z"
   },
   {
    "duration": 16,
    "start_time": "2023-03-20T03:13:06.296Z"
   },
   {
    "duration": 14,
    "start_time": "2023-03-20T03:13:06.314Z"
   },
   {
    "duration": 4,
    "start_time": "2023-03-20T03:13:06.330Z"
   },
   {
    "duration": 7,
    "start_time": "2023-03-20T03:13:06.336Z"
   },
   {
    "duration": 10,
    "start_time": "2023-03-20T03:13:06.345Z"
   },
   {
    "duration": 7,
    "start_time": "2023-03-20T03:13:06.374Z"
   },
   {
    "duration": 2141,
    "start_time": "2023-03-20T03:13:06.387Z"
   },
   {
    "duration": 11,
    "start_time": "2023-03-20T03:13:08.532Z"
   },
   {
    "duration": 23,
    "start_time": "2023-03-20T03:13:08.545Z"
   },
   {
    "duration": 21,
    "start_time": "2023-03-20T03:13:08.570Z"
   },
   {
    "duration": 26,
    "start_time": "2023-03-20T03:13:08.593Z"
   },
   {
    "duration": 26,
    "start_time": "2023-03-20T03:13:08.620Z"
   },
   {
    "duration": 2637,
    "start_time": "2023-03-20T03:13:08.648Z"
   },
   {
    "duration": 3,
    "start_time": "2023-03-20T03:13:11.288Z"
   },
   {
    "duration": 26,
    "start_time": "2023-03-20T03:13:11.293Z"
   },
   {
    "duration": 13,
    "start_time": "2023-03-20T03:13:11.321Z"
   },
   {
    "duration": 3,
    "start_time": "2023-03-20T03:13:11.337Z"
   },
   {
    "duration": 361,
    "start_time": "2023-03-20T03:13:11.342Z"
   },
   {
    "duration": 1498,
    "start_time": "2023-03-20T03:13:11.773Z"
   },
   {
    "duration": 49625,
    "start_time": "2023-03-20T03:13:13.277Z"
   },
   {
    "duration": 9578,
    "start_time": "2023-03-20T03:14:02.905Z"
   },
   {
    "duration": 399,
    "start_time": "2023-03-20T03:14:12.493Z"
   },
   {
    "duration": 1692,
    "start_time": "2023-03-20T03:14:12.901Z"
   },
   {
    "duration": 49328,
    "start_time": "2023-03-20T03:14:14.596Z"
   },
   {
    "duration": 13,
    "start_time": "2023-03-20T03:15:03.926Z"
   },
   {
    "duration": 8,
    "start_time": "2023-03-20T03:15:03.942Z"
   },
   {
    "duration": 236,
    "start_time": "2023-03-20T03:15:03.952Z"
   },
   {
    "duration": 2041,
    "start_time": "2023-03-20T03:15:04.194Z"
   },
   {
    "duration": 68096,
    "start_time": "2023-03-20T03:15:06.237Z"
   },
   {
    "duration": 11555,
    "start_time": "2023-03-20T03:16:14.335Z"
   },
   {
    "duration": 40,
    "start_time": "2023-03-20T03:16:25.892Z"
   },
   {
    "duration": 407,
    "start_time": "2023-03-20T03:16:25.934Z"
   }
  ],
  "kernelspec": {
   "display_name": "Python 3 (ipykernel)",
   "language": "python",
   "name": "python3"
  },
  "language_info": {
   "codemirror_mode": {
    "name": "ipython",
    "version": 3
   },
   "file_extension": ".py",
   "mimetype": "text/x-python",
   "name": "python",
   "nbconvert_exporter": "python",
   "pygments_lexer": "ipython3",
   "version": "3.9.16"
  },
  "toc": {
   "base_numbering": 1,
   "nav_menu": {},
   "number_sections": true,
   "sideBar": true,
   "skip_h1_title": true,
   "title_cell": "Table of Contents",
   "title_sidebar": "Contents",
   "toc_cell": true,
   "toc_position": {
    "height": "calc(100% - 180px)",
    "left": "10px",
    "top": "150px",
    "width": "165px"
   },
   "toc_section_display": true,
   "toc_window_display": true
  }
 },
 "nbformat": 4,
 "nbformat_minor": 5
}
