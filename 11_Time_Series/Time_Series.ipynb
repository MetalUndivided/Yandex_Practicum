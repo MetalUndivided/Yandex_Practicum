{
 "cells": [
  {
   "cell_type": "markdown",
   "id": "3c2b13e2",
   "metadata": {
    "toc": true
   },
   "source": [
    "<h1>Table of Contents<span class=\"tocSkip\"></span></h1>\n",
    "<div class=\"toc\"><ul class=\"toc-item\"><li><span><a href=\"#Подготовка\" data-toc-modified-id=\"Подготовка-1\"><span class=\"toc-item-num\">1&nbsp;&nbsp;</span>Подготовка</a></span><ul class=\"toc-item\"><li><span><a href=\"#Импорт-данных-и-библиотек\" data-toc-modified-id=\"Импорт-данных-и-библиотек-1.1\"><span class=\"toc-item-num\">1.1&nbsp;&nbsp;</span>Импорт данных и библиотек</a></span></li><li><span><a href=\"#Ресемплинг-данных\" data-toc-modified-id=\"Ресемплинг-данных-1.2\"><span class=\"toc-item-num\">1.2&nbsp;&nbsp;</span>Ресемплинг данных</a></span></li></ul></li><li><span><a href=\"#Анализ\" data-toc-modified-id=\"Анализ-2\"><span class=\"toc-item-num\">2&nbsp;&nbsp;</span>Анализ</a></span><ul class=\"toc-item\"><li><span><a href=\"#Гистограммы-и-первичный-осмотр\" data-toc-modified-id=\"Гистограммы-и-первичный-осмотр-2.1\"><span class=\"toc-item-num\">2.1&nbsp;&nbsp;</span>Гистограммы и первичный осмотр</a></span></li><li><span><a href=\"#Анализ-стационарности\" data-toc-modified-id=\"Анализ-стационарности-2.2\"><span class=\"toc-item-num\">2.2&nbsp;&nbsp;</span>Анализ стационарности</a></span></li><li><span><a href=\"#Анализ-сезонности\" data-toc-modified-id=\"Анализ-сезонности-2.3\"><span class=\"toc-item-num\">2.3&nbsp;&nbsp;</span>Анализ сезонности</a></span><ul class=\"toc-item\"><li><span><a href=\"#Часовая-сезонность\" data-toc-modified-id=\"Часовая-сезонность-2.3.1\"><span class=\"toc-item-num\">2.3.1&nbsp;&nbsp;</span>Часовая сезонность</a></span></li><li><span><a href=\"#Дневная-сезонность\" data-toc-modified-id=\"Дневная-сезонность-2.3.2\"><span class=\"toc-item-num\">2.3.2&nbsp;&nbsp;</span>Дневная сезонность</a></span></li></ul></li><li><span><a href=\"#Промежуточные-выводы\" data-toc-modified-id=\"Промежуточные-выводы-2.4\"><span class=\"toc-item-num\">2.4&nbsp;&nbsp;</span>Промежуточные выводы</a></span></li></ul></li><li><span><a href=\"#Обучение\" data-toc-modified-id=\"Обучение-3\"><span class=\"toc-item-num\">3&nbsp;&nbsp;</span>Обучение</a></span><ul class=\"toc-item\"><li><span><a href=\"#Генерация-признаков-и-разделение-данных\" data-toc-modified-id=\"Генерация-признаков-и-разделение-данных-3.1\"><span class=\"toc-item-num\">3.1&nbsp;&nbsp;</span>Генерация признаков и разделение данных</a></span><ul class=\"toc-item\"><li><span><a href=\"#Разбиение-данных\" data-toc-modified-id=\"Разбиение-данных-3.1.1\"><span class=\"toc-item-num\">3.1.1&nbsp;&nbsp;</span>Разбиение данных</a></span></li><li><span><a href=\"#Поиск-оптимальных-параметров-для-генерации-признаков\" data-toc-modified-id=\"Поиск-оптимальных-параметров-для-генерации-признаков-3.1.2\"><span class=\"toc-item-num\">3.1.2&nbsp;&nbsp;</span>Поиск оптимальных параметров для генерации признаков</a></span></li><li><span><a href=\"#Генерация-признаков\" data-toc-modified-id=\"Генерация-признаков-3.1.3\"><span class=\"toc-item-num\">3.1.3&nbsp;&nbsp;</span>Генерация признаков</a></span></li></ul></li><li><span><a href=\"#Поиск-оптимальной-модели\" data-toc-modified-id=\"Поиск-оптимальной-модели-3.2\"><span class=\"toc-item-num\">3.2&nbsp;&nbsp;</span>Поиск оптимальной модели</a></span><ul class=\"toc-item\"><li><span><a href=\"#Простая-модель\" data-toc-modified-id=\"Простая-модель-3.2.1\"><span class=\"toc-item-num\">3.2.1&nbsp;&nbsp;</span>Простая модель</a></span></li><li><span><a href=\"#Линейная-регрессия\" data-toc-modified-id=\"Линейная-регрессия-3.2.2\"><span class=\"toc-item-num\">3.2.2&nbsp;&nbsp;</span>Линейная регрессия</a></span></li><li><span><a href=\"#Дерево-решений\" data-toc-modified-id=\"Дерево-решений-3.2.3\"><span class=\"toc-item-num\">3.2.3&nbsp;&nbsp;</span>Дерево решений</a></span></li><li><span><a href=\"#Случайный-лес\" data-toc-modified-id=\"Случайный-лес-3.2.4\"><span class=\"toc-item-num\">3.2.4&nbsp;&nbsp;</span>Случайный лес</a></span></li><li><span><a href=\"#Градиентный-бустинг\" data-toc-modified-id=\"Градиентный-бустинг-3.2.5\"><span class=\"toc-item-num\">3.2.5&nbsp;&nbsp;</span>Градиентный бустинг</a></span></li></ul></li><li><span><a href=\"#Промежуточные-выводы\" data-toc-modified-id=\"Промежуточные-выводы-3.3\"><span class=\"toc-item-num\">3.3&nbsp;&nbsp;</span>Промежуточные выводы</a></span></li></ul></li><li><span><a href=\"#Тестирование\" data-toc-modified-id=\"Тестирование-4\"><span class=\"toc-item-num\">4&nbsp;&nbsp;</span>Тестирование</a></span></li><li><span><a href=\"#Выводы\" data-toc-modified-id=\"Выводы-5\"><span class=\"toc-item-num\">5&nbsp;&nbsp;</span>Выводы</a></span></li></ul></div>"
   ]
  },
  {
   "cell_type": "markdown",
   "id": "c0326e96",
   "metadata": {},
   "source": [
    "#  Прогнозирование заказов такси"
   ]
  },
  {
   "cell_type": "markdown",
   "id": "9da82429",
   "metadata": {},
   "source": [
    "Компания «Чётенькое такси» собрала исторические данные о заказах такси в аэропортах. Чтобы привлекать больше водителей в период пиковой нагрузки, нужно спрогнозировать количество заказов такси на следующий час.  Нужно построить модель для такого предсказания.\n",
    "\n",
    "Значение метрики *RMSE* на тестовой выборке должно быть не больше 48."
   ]
  },
  {
   "cell_type": "markdown",
   "id": "e1f60697",
   "metadata": {},
   "source": [
    "## Подготовка"
   ]
  },
  {
   "cell_type": "markdown",
   "id": "487c1c7f",
   "metadata": {},
   "source": [
    "### Импорт данных и библиотек"
   ]
  },
  {
   "cell_type": "code",
   "execution_count": 1,
   "id": "fddf76cd",
   "metadata": {},
   "outputs": [],
   "source": [
    "import pandas as pd\n",
    "import numpy as np\n",
    "import seaborn as sns\n",
    "import matplotlib.pyplot as plt\n",
    "\n",
    "from statsmodels.tsa.seasonal import seasonal_decompose\n",
    "\n",
    "from catboost import CatBoostRegressor\n",
    "\n",
    "from sklearn.model_selection import train_test_split, TimeSeriesSplit, GridSearchCV\n",
    "from sklearn.preprocessing import FunctionTransformer\n",
    "from sklearn.pipeline import Pipeline\n",
    "from sklearn.linear_model import LinearRegression\n",
    "from sklearn.metrics import make_scorer, mean_squared_error\n",
    "from sklearn.tree import DecisionTreeRegressor\n",
    "from sklearn.ensemble import RandomForestRegressor"
   ]
  },
  {
   "cell_type": "code",
   "execution_count": 2,
   "id": "a76c9af4",
   "metadata": {},
   "outputs": [],
   "source": [
    "try:\n",
    "    data = pd.read_csv(\"/datasets/taxi.csv\")\n",
    "except FileNotFoundError:\n",
    "    data = pd.read_csv(\"taxi.csv\")"
   ]
  },
  {
   "cell_type": "code",
   "execution_count": 3,
   "id": "b0fabaa3",
   "metadata": {},
   "outputs": [
    {
     "data": {
      "text/html": [
       "<div>\n",
       "<style scoped>\n",
       "    .dataframe tbody tr th:only-of-type {\n",
       "        vertical-align: middle;\n",
       "    }\n",
       "\n",
       "    .dataframe tbody tr th {\n",
       "        vertical-align: top;\n",
       "    }\n",
       "\n",
       "    .dataframe thead th {\n",
       "        text-align: right;\n",
       "    }\n",
       "</style>\n",
       "<table border=\"1\" class=\"dataframe\">\n",
       "  <thead>\n",
       "    <tr style=\"text-align: right;\">\n",
       "      <th></th>\n",
       "      <th>datetime</th>\n",
       "      <th>num_orders</th>\n",
       "    </tr>\n",
       "  </thead>\n",
       "  <tbody>\n",
       "    <tr>\n",
       "      <th>0</th>\n",
       "      <td>2018-03-01 00:00:00</td>\n",
       "      <td>9</td>\n",
       "    </tr>\n",
       "    <tr>\n",
       "      <th>1</th>\n",
       "      <td>2018-03-01 00:10:00</td>\n",
       "      <td>14</td>\n",
       "    </tr>\n",
       "    <tr>\n",
       "      <th>2</th>\n",
       "      <td>2018-03-01 00:20:00</td>\n",
       "      <td>28</td>\n",
       "    </tr>\n",
       "    <tr>\n",
       "      <th>3</th>\n",
       "      <td>2018-03-01 00:30:00</td>\n",
       "      <td>20</td>\n",
       "    </tr>\n",
       "    <tr>\n",
       "      <th>4</th>\n",
       "      <td>2018-03-01 00:40:00</td>\n",
       "      <td>32</td>\n",
       "    </tr>\n",
       "  </tbody>\n",
       "</table>\n",
       "</div>"
      ],
      "text/plain": [
       "              datetime  num_orders\n",
       "0  2018-03-01 00:00:00           9\n",
       "1  2018-03-01 00:10:00          14\n",
       "2  2018-03-01 00:20:00          28\n",
       "3  2018-03-01 00:30:00          20\n",
       "4  2018-03-01 00:40:00          32"
      ]
     },
     "metadata": {},
     "output_type": "display_data"
    }
   ],
   "source": [
    "display(data.head())"
   ]
  },
  {
   "cell_type": "code",
   "execution_count": 4,
   "id": "fd44661e",
   "metadata": {},
   "outputs": [
    {
     "name": "stdout",
     "output_type": "stream",
     "text": [
      "<class 'pandas.core.frame.DataFrame'>\n",
      "RangeIndex: 26496 entries, 0 to 26495\n",
      "Data columns (total 2 columns):\n",
      " #   Column      Non-Null Count  Dtype \n",
      "---  ------      --------------  ----- \n",
      " 0   datetime    26496 non-null  object\n",
      " 1   num_orders  26496 non-null  int64 \n",
      "dtypes: int64(1), object(1)\n",
      "memory usage: 414.1+ KB\n",
      "None\n"
     ]
    }
   ],
   "source": [
    "print(data.info())"
   ]
  },
  {
   "cell_type": "markdown",
   "id": "8c799a72",
   "metadata": {},
   "source": [
    "Данные успешно загружены, можно начинать их осматривать и преобразовывать."
   ]
  },
  {
   "cell_type": "markdown",
   "id": "7741613b",
   "metadata": {},
   "source": [
    "### Ресемплинг данных"
   ]
  },
  {
   "cell_type": "markdown",
   "id": "33547553",
   "metadata": {},
   "source": [
    "Для ресемплинга нужно столбец времени превратить во время и сделать индексом."
   ]
  },
  {
   "cell_type": "code",
   "execution_count": 5,
   "id": "cb929cde",
   "metadata": {},
   "outputs": [],
   "source": [
    "data[\"datetime\"] = pd.to_datetime(data[\"datetime\"], format=\"%Y-%m-%d %H:%M:%S\")"
   ]
  },
  {
   "cell_type": "code",
   "execution_count": 6,
   "id": "44e44088",
   "metadata": {},
   "outputs": [],
   "source": [
    "data.index = data[\"datetime\"]\n",
    "data.drop(\"datetime\", axis=1, inplace=True)"
   ]
  },
  {
   "cell_type": "markdown",
   "id": "e8e773ff",
   "metadata": {},
   "source": [
    "В качестве аггрегирующей функции для ресемплинга будем использовать сумму, т.к. тогда мы получим накопленное число заказов в каждый час."
   ]
  },
  {
   "cell_type": "code",
   "execution_count": 7,
   "id": "ef62e198",
   "metadata": {},
   "outputs": [],
   "source": [
    "data = data.resample(\"1H\").sum()"
   ]
  },
  {
   "cell_type": "code",
   "execution_count": 8,
   "id": "2c2d24f1",
   "metadata": {},
   "outputs": [
    {
     "data": {
      "text/html": [
       "<div>\n",
       "<style scoped>\n",
       "    .dataframe tbody tr th:only-of-type {\n",
       "        vertical-align: middle;\n",
       "    }\n",
       "\n",
       "    .dataframe tbody tr th {\n",
       "        vertical-align: top;\n",
       "    }\n",
       "\n",
       "    .dataframe thead th {\n",
       "        text-align: right;\n",
       "    }\n",
       "</style>\n",
       "<table border=\"1\" class=\"dataframe\">\n",
       "  <thead>\n",
       "    <tr style=\"text-align: right;\">\n",
       "      <th></th>\n",
       "      <th>num_orders</th>\n",
       "    </tr>\n",
       "    <tr>\n",
       "      <th>datetime</th>\n",
       "      <th></th>\n",
       "    </tr>\n",
       "  </thead>\n",
       "  <tbody>\n",
       "    <tr>\n",
       "      <th>2018-03-01 00:00:00</th>\n",
       "      <td>124</td>\n",
       "    </tr>\n",
       "    <tr>\n",
       "      <th>2018-03-01 01:00:00</th>\n",
       "      <td>85</td>\n",
       "    </tr>\n",
       "    <tr>\n",
       "      <th>2018-03-01 02:00:00</th>\n",
       "      <td>71</td>\n",
       "    </tr>\n",
       "    <tr>\n",
       "      <th>2018-03-01 03:00:00</th>\n",
       "      <td>66</td>\n",
       "    </tr>\n",
       "    <tr>\n",
       "      <th>2018-03-01 04:00:00</th>\n",
       "      <td>43</td>\n",
       "    </tr>\n",
       "  </tbody>\n",
       "</table>\n",
       "</div>"
      ],
      "text/plain": [
       "                     num_orders\n",
       "datetime                       \n",
       "2018-03-01 00:00:00         124\n",
       "2018-03-01 01:00:00          85\n",
       "2018-03-01 02:00:00          71\n",
       "2018-03-01 03:00:00          66\n",
       "2018-03-01 04:00:00          43"
      ]
     },
     "metadata": {},
     "output_type": "display_data"
    }
   ],
   "source": [
    "display(data.head())"
   ]
  },
  {
   "cell_type": "markdown",
   "id": "44835988",
   "metadata": {},
   "source": [
    "Данные успешно ресемплены.\n",
    "\n",
    "Дальше с ними никаких операций проводить не нужно, можно переходить к анализу."
   ]
  },
  {
   "cell_type": "markdown",
   "id": "684e4516",
   "metadata": {},
   "source": [
    "## Анализ"
   ]
  },
  {
   "cell_type": "markdown",
   "id": "4e0f06cd",
   "metadata": {},
   "source": [
    "### Гистограммы и первичный осмотр"
   ]
  },
  {
   "cell_type": "markdown",
   "id": "9c66a2f0",
   "metadata": {},
   "source": [
    "Сначала взглянем на распределение числа заказов и общий вид графика."
   ]
  },
  {
   "cell_type": "code",
   "execution_count": 9,
   "id": "3f57d268",
   "metadata": {},
   "outputs": [
    {
     "data": {
      "image/png": "[encoded data removed]",
      "text/plain": [
       "<Figure size 432x288 with 1 Axes>"
      ]
     },
     "metadata": {
      "needs_background": "light"
     },
     "output_type": "display_data"
    }
   ],
   "source": [
    "data.hist(bins=30);"
   ]
  },
  {
   "cell_type": "markdown",
   "id": "f335baec",
   "metadata": {},
   "source": [
    "Ождиаемое гауссово распределение со смещением вправо и довольно длинным хвостом."
   ]
  },
  {
   "cell_type": "code",
   "execution_count": 10,
   "id": "55c7d755",
   "metadata": {},
   "outputs": [
    {
     "data": {
      "image/png": "[encoded data removed]",
      "text/plain": [
       "<Figure size 432x288 with 1 Axes>"
      ]
     },
     "metadata": {
      "needs_background": "light"
     },
     "output_type": "display_data"
    }
   ],
   "source": [
    "data.plot();"
   ]
  },
  {
   "cell_type": "markdown",
   "id": "a5aba4e7",
   "metadata": {},
   "source": [
    "Сразу бросается в глаза, что процесс нестационарный: со временем точно растет среднее, и, вероятно, стандартное отклонение.\n",
    "\n",
    "Так же наблюдается некая сезонность, но оценить ее на этом графике сложно.\n",
    "\n",
    "Добавим на график для наглядности скользящее среднее и стандартное отклонение."
   ]
  },
  {
   "cell_type": "markdown",
   "id": "93a460d6",
   "metadata": {},
   "source": [
    "### Анализ стационарности"
   ]
  },
  {
   "cell_type": "code",
   "execution_count": 11,
   "id": "826ddf03",
   "metadata": {},
   "outputs": [],
   "source": [
    "data[\"rolling_mean\"] = data[\"num_orders\"].rolling(24).mean()"
   ]
  },
  {
   "cell_type": "code",
   "execution_count": 12,
   "id": "b3c8db37",
   "metadata": {},
   "outputs": [],
   "source": [
    "data[\"sd\"] = data[\"num_orders\"].rolling(24).std()"
   ]
  },
  {
   "cell_type": "code",
   "execution_count": 13,
   "id": "2c44f1b0",
   "metadata": {},
   "outputs": [
    {
     "data": {
      "image/png": "[encoded data removed]",
      "text/plain": [
       "<Figure size 432x288 with 1 Axes>"
      ]
     },
     "metadata": {
      "needs_background": "light"
     },
     "output_type": "display_data"
    }
   ],
   "source": [
    "data.plot();"
   ]
  },
  {
   "cell_type": "markdown",
   "id": "8f644b90",
   "metadata": {},
   "source": [
    "Теперь гораздо лучше видно, что ряд нестационарный: скользящее среднее монотонно растет на всем интервале времени. Стандартное отклонение к концу временного интервала тоже начинает расти."
   ]
  },
  {
   "cell_type": "markdown",
   "id": "460e9790",
   "metadata": {},
   "source": [
    "### Анализ сезонности"
   ]
  },
  {
   "cell_type": "markdown",
   "id": "1729342d",
   "metadata": {},
   "source": [
    "#### Часовая сезонность"
   ]
  },
  {
   "cell_type": "markdown",
   "id": "00eea97a",
   "metadata": {},
   "source": [
    "Из графиков выше заметно, что флуктуации количества заказов цикличны с некой периодичностью.\n",
    "\n",
    "Выделим сезонную составляющую из данных и посмотрим, как она выглядит."
   ]
  },
  {
   "cell_type": "markdown",
   "id": "d7cf26f5",
   "metadata": {},
   "source": [
    "Поскольку данные у нас представлены только за несколько месяцев, то увидеть сезонность можно только в размерности час или сутки.\n",
    "\n",
    "Начнем с сезонности по часам."
   ]
  },
  {
   "cell_type": "code",
   "execution_count": 14,
   "id": "060cf9aa",
   "metadata": {},
   "outputs": [],
   "source": [
    "decomposed_hourly = seasonal_decompose(data[\"rolling_mean\"].dropna())"
   ]
  },
  {
   "cell_type": "code",
   "execution_count": 15,
   "id": "bf76a4c6",
   "metadata": {
    "scrolled": false
   },
   "outputs": [],
   "source": [
    "#decomposed_hourly.seasonal.plot(figsize=(20, 8));"
   ]
  },
  {
   "cell_type": "markdown",
   "id": "c6062a36",
   "metadata": {},
   "source": [
    "Выделим один день, на котором будем смотреть сезонность, иначе график получается нечитаемым."
   ]
  },
  {
   "cell_type": "code",
   "execution_count": 16,
   "id": "2fc41e3d",
   "metadata": {},
   "outputs": [
    {
     "data": {
      "image/png": "[encoded data removed]",
      "text/plain": [
       "<Figure size 432x288 with 1 Axes>"
      ]
     },
     "metadata": {
      "needs_background": "light"
     },
     "output_type": "display_data"
    }
   ],
   "source": [
    "decomposed_hourly.seasonal[\"2018-03-25\":\"2018-03-25\"].plot();"
   ]
  },
  {
   "cell_type": "markdown",
   "id": "d1d9b9dd",
   "metadata": {},
   "source": [
    "Видна следующая сезонность:\n",
    "- Наибольшее число заказов происходит в интервалах 04:00 - 05:00 и 16:00 - 17:00\n",
    "- Наименьшее число заказов происходит в интервале 14:00 - 15:00\n",
    "- В глобальном смысле с 16:00 до 06:00 число заказов существенно выше, чем в остальное время."
   ]
  },
  {
   "cell_type": "markdown",
   "id": "0128d953",
   "metadata": {},
   "source": [
    "#### Дневная сезонность"
   ]
  },
  {
   "cell_type": "markdown",
   "id": "a49b2132",
   "metadata": {},
   "source": [
    "Изучим еще и сезонность внутри недели: заресемплим данные в дневное разрешение и посмотрим, есть ли там некая сезонность."
   ]
  },
  {
   "cell_type": "code",
   "execution_count": 17,
   "id": "21f9aa53",
   "metadata": {},
   "outputs": [],
   "source": [
    "data_daily = data.resample(\"1D\").sum()"
   ]
  },
  {
   "cell_type": "code",
   "execution_count": 18,
   "id": "c8f1f417",
   "metadata": {},
   "outputs": [],
   "source": [
    "decomposed_daily = seasonal_decompose(data_daily[\"num_orders\"])"
   ]
  },
  {
   "cell_type": "code",
   "execution_count": 19,
   "id": "615ce41b",
   "metadata": {},
   "outputs": [
    {
     "data": {
      "image/png": "[encoded data removed]",
      "text/plain": [
       "<Figure size 432x288 with 1 Axes>"
      ]
     },
     "metadata": {
      "needs_background": "light"
     },
     "output_type": "display_data"
    }
   ],
   "source": [
    "decomposed_daily.seasonal[\"2018-03-19\":\"2018-03-25\"].plot();"
   ]
  },
  {
   "cell_type": "markdown",
   "id": "25f2a0dc",
   "metadata": {},
   "source": [
    "Диапазон я выбрал так, что первый день (19 марта) - понедельник.\n",
    "\n",
    "Наблюдения следующие:\n",
    "* Количество заказов минимально во вторник\n",
    "* Количество заказов монотонно растет в период вт-пт, при этом в пт число заказов близко к максимальному\n",
    "* Количетсво заказов в пн и пт сравнимо и максимально\n",
    "* Количество заказов на выходных сравнимо с числом в середине недели (вт-ср)"
   ]
  },
  {
   "cell_type": "markdown",
   "id": "0f9ac813",
   "metadata": {},
   "source": [
    "### Промежуточные выводы"
   ]
  },
  {
   "cell_type": "markdown",
   "id": "db916f34",
   "metadata": {},
   "source": [
    "* Наблюдается определенная сезонность в данных в зависимости от часа внутри суток:\n",
    "   - Наибольшее число заказов происходит в интервалах 04:00 - 05:00 и 16:00 - 17:00\n",
    "   - Наименьшее число заказов происходит в интервале 14:00 - 15:00\n",
    "   - В глобальном смысле с 16:00 до 06:00 число заказов существенно выше, чем в остальное время.\n",
    "* Также определенная сезонность наблюдается в данных в зависимости от дня недели:\n",
    "   * Количество заказов минимально во вторник\n",
    "   * Количество заказов монотонно растет в период вт-пт, при этом в пт число заказов близко к максимальному\n",
    "   * Количетсво заказов в пн и пт сравнимо и максимально\n",
    "   * Количество заказов на выходных сравнимо с числом в середине недели (вт-ср)"
   ]
  },
  {
   "cell_type": "markdown",
   "id": "ed450d65",
   "metadata": {},
   "source": [
    "## Обучение"
   ]
  },
  {
   "cell_type": "markdown",
   "id": "b7337c61",
   "metadata": {},
   "source": [
    "### Генерация признаков и разделение данных "
   ]
  },
  {
   "cell_type": "markdown",
   "id": "cc511421",
   "metadata": {},
   "source": [
    "Начнем с функции, которая сгенерирует признаки для нашей выборки."
   ]
  },
  {
   "cell_type": "code",
   "execution_count": 20,
   "id": "965c6b44",
   "metadata": {},
   "outputs": [],
   "source": [
    "def get_features(df:pd.DataFrame, column=str, rolling_steps=int, lag_size=int) -> pd.DataFrame:\n",
    "    \n",
    "    features = pd.DataFrame(index=df.index)\n",
    "    features[\"day\"] = df.index.day\n",
    "    features[\"weekday\"] = df.index.weekday\n",
    "    features[\"hour\"] = df.index.hour\n",
    "    ## Месяц включать не будем, т.к. данных за полный год нет\n",
    "    #features[\"month\"] = df.index.month\n",
    "    \n",
    "    features[\"rolling_avg\"] = df[column].shift().rolling(rolling_steps).mean()\n",
    "    \n",
    "    for i in range(1, lag_size + 1):\n",
    "        features[\"lag_\" + str(i)] = df[column].shift(i)\n",
    "        \n",
    "    return features"
   ]
  },
  {
   "cell_type": "markdown",
   "id": "dc6eb097",
   "metadata": {},
   "source": [
    "Функция готова, но теперь нужно определиться с тем, какие входные параметры для нее будут оптимальными.  \n",
    "По-хорошему, эти параметры должны быть частью поискового пространства для каждой модели наряду с гиперпараметрами.  \n",
    "Однако, есть один нюанс: применение этой фукнции приводит к появлению варьирующегося числа NaNов, с которыми модели работать не могут. NaNы можно сбросить, но тогда и с массива целевого признака нужно сбрасывать некое варьирующееся число строк, и мне не удалось найти способ это сделать внутри GridSearchCV.  \n",
    "\n",
    "Поэтому, будем пользоваться запасным вариантом: обучим несколько простых моделей, например, линейной регрессии, которым будем давать признаки, сгенерированные с различными параметрами. Те признаки, на которых модели дадут максимальную точность, в дальнейшем будем использовать для других моделей.\n",
    "\n",
    "Но сначала нужно выделить тестовую выборку. 90% данных пойдут в обучающую выборку, остальное - в тестовую, по условию задания."
   ]
  },
  {
   "cell_type": "markdown",
   "id": "c47a1fa6",
   "metadata": {},
   "source": [
    "#### Разбиение данных"
   ]
  },
  {
   "cell_type": "code",
   "execution_count": 21,
   "id": "9e5849f0",
   "metadata": {},
   "outputs": [],
   "source": [
    "data.drop([\"rolling_mean\", \"sd\"], axis=1, inplace=True)"
   ]
  },
  {
   "cell_type": "code",
   "execution_count": 22,
   "id": "63e993cf",
   "metadata": {},
   "outputs": [],
   "source": [
    "train, test = train_test_split(data, train_size=.9, shuffle=False)"
   ]
  },
  {
   "cell_type": "code",
   "execution_count": 23,
   "id": "ba27c821",
   "metadata": {},
   "outputs": [],
   "source": [
    "#print(train.shape)\n",
    "#print(test.shape)"
   ]
  },
  {
   "cell_type": "markdown",
   "id": "5f3acef8",
   "metadata": {},
   "source": [
    "Теперь на обучающей выборке будем искать оптимальные параметры для генерации признаков."
   ]
  },
  {
   "cell_type": "markdown",
   "id": "a8c8919b",
   "metadata": {},
   "source": [
    "#### Поиск оптимальных параметров для генерации признаков"
   ]
  },
  {
   "cell_type": "code",
   "execution_count": 24,
   "id": "30d0fd24",
   "metadata": {},
   "outputs": [
    {
     "name": "stdout",
     "output_type": "stream",
     "text": [
      "\n",
      "Лучший скор: -22.51\n",
      "При числе лагов: 168\n",
      "И окне среднего: 24\n",
      "\n"
     ]
    }
   ],
   "source": [
    "best_rs = None\n",
    "best_ls = None\n",
    "best_score = -1e9\n",
    "\n",
    "for rs in range(6, 7*24+1, 6):\n",
    "    for ls in range(6, 7*24+1, 6):\n",
    "        \n",
    "        data_search = train.copy(deep=True)\n",
    "        data_search = data_search.merge(\n",
    "            get_features(data_search, \"num_orders\", rs, ls),\n",
    "            left_index=True, right_index=True\n",
    "        ).dropna()\n",
    "        \n",
    "        search = GridSearchCV(LinearRegression(), scoring=\"neg_root_mean_squared_error\", param_grid={}, cv=TimeSeriesSplit())\n",
    "        search.fit(data_search.drop(\"num_orders\", axis=1), data_search[\"num_orders\"])\n",
    "        \n",
    "        if search.best_score_ > best_score:\n",
    "            best_score = search.best_score_\n",
    "            best_rs = rs\n",
    "            best_ls = ls\n",
    "            \n",
    "print(\n",
    "'''\n",
    "Лучший скор: {0:.2f}\n",
    "При числе лагов: {1}\n",
    "И окне среднего: {2}\n",
    "'''.format(best_score, best_ls, best_rs)\n",
    ")"
   ]
  },
  {
   "cell_type": "markdown",
   "id": "f5d61105",
   "metadata": {},
   "source": [
    "Выглядит, что качество модели продолжает улучшаться с увеличением числа столбцов с отстающими значениями.\n",
    "\n",
    "Думаю, остановиться на количестве в одну неделю, т.к. из EDA видно, что сезонность внутри недели точно присутствует.\n",
    "\n",
    "Теперь можно генерить признаки с найденными параметрами как для тестовой, так и для обучающей выборок."
   ]
  },
  {
   "cell_type": "markdown",
   "id": "5e37a3ab",
   "metadata": {},
   "source": [
    "#### Генерация признаков"
   ]
  },
  {
   "cell_type": "code",
   "execution_count": 25,
   "id": "58be2abb",
   "metadata": {},
   "outputs": [],
   "source": [
    "def features_wrapper(source, target_column, rolling_steps, lag_size, dropna=False):\n",
    "    \n",
    "    features = source.copy(deep=True)\n",
    "    features = features.merge(\n",
    "        get_features(features, target_column, rolling_steps=rolling_steps, lag_size=lag_size),\n",
    "        right_index=True,\n",
    "        left_index=True\n",
    "    )\n",
    "    \n",
    "    target = features[target_column]\n",
    "    \n",
    "    if dropna:\n",
    "        features.dropna(inplace=True)\n",
    "        target = features[target_column]\n",
    "        \n",
    "    features.drop(target_column, axis=1, inplace=True)\n",
    "    \n",
    "    return features, target"
   ]
  },
  {
   "cell_type": "code",
   "execution_count": 26,
   "id": "e0779918",
   "metadata": {},
   "outputs": [],
   "source": [
    "train_features, train_target = features_wrapper(train, \"num_orders\", rolling_steps=best_rs, lag_size=best_ls, dropna=True)"
   ]
  },
  {
   "cell_type": "markdown",
   "id": "d05a0ce4",
   "metadata": {},
   "source": [
    "Для обучающей выборки признаки и целевой параметр есть, теперь делаем то же для тестовой выборки.\n",
    "\n",
    "Недостающие значения средних и лагов возьмем с обучающей выборки."
   ]
  },
  {
   "cell_type": "code",
   "execution_count": 27,
   "id": "27d29db4",
   "metadata": {},
   "outputs": [],
   "source": [
    "test_features, test_target = features_wrapper(test, \"num_orders\", rolling_steps=best_rs, lag_size=best_ls)"
   ]
  },
  {
   "cell_type": "code",
   "execution_count": 28,
   "id": "cc712eda",
   "metadata": {},
   "outputs": [
    {
     "name": "stderr",
     "output_type": "stream",
     "text": [
      "/home/metal_undivided/anaconda3/envs/practicum/lib/python3.9/site-packages/pandas/core/indexing.py:1637: SettingWithCopyWarning: \n",
      "A value is trying to be set on a copy of a slice from a DataFrame\n",
      "\n",
      "See the caveats in the documentation: https://pandas.pydata.org/pandas-docs/stable/user_guide/indexing.html#returning-a-view-versus-a-copy\n",
      "  self._setitem_single_block(indexer, value, name)\n"
     ]
    }
   ],
   "source": [
    "source = train_features[\"rolling_avg\"]\n",
    "dest = test_features[\"rolling_avg\"]\n",
    "\n",
    "dest.iloc[:best_rs] = source.iloc[-best_rs:]\n",
    "\n",
    "for i in range(1, best_ls + 1):\n",
    "    source = train_target\n",
    "    dest = test_features[\"lag_\" + str(i)]\n",
    "\n",
    "    dest.iloc[:i] = source.iloc[-i:]"
   ]
  },
  {
   "cell_type": "markdown",
   "id": "ec2d156e",
   "metadata": {},
   "source": [
    "### Поиск оптимальной модели"
   ]
  },
  {
   "cell_type": "markdown",
   "id": "1e773484",
   "metadata": {},
   "source": [
    "Выборки и признаки подготовлены, можно переходить к поиску оптимальной модели."
   ]
  },
  {
   "cell_type": "markdown",
   "id": "c6bd31d8",
   "metadata": {},
   "source": [
    "#### Простая модель"
   ]
  },
  {
   "cell_type": "markdown",
   "id": "86c6d891",
   "metadata": {},
   "source": [
    "Начнем с простейшей модели, которая будет делать прогноз путем \"протягивания\" предыдущего значения."
   ]
  },
  {
   "cell_type": "code",
   "execution_count": 29,
   "id": "dbd00852",
   "metadata": {
    "scrolled": true
   },
   "outputs": [
    {
     "name": "stdout",
     "output_type": "stream",
     "text": [
      "RMSE для простейшей модели: 36.36\n"
     ]
    }
   ],
   "source": [
    "dummy_prediction = train_features[\"lag_1\"]\n",
    "dummy_score = mean_squared_error(train_target, dummy_prediction) ** .5\n",
    "print(\"RMSE для простейшей модели: {0:.2f}\".format(dummy_score))"
   ]
  },
  {
   "cell_type": "markdown",
   "id": "5c268bf2",
   "metadata": {},
   "source": [
    "Нижняя граница точности понятна, можно приступать к поиску оптимальной модели."
   ]
  },
  {
   "cell_type": "markdown",
   "id": "38e0a128",
   "metadata": {},
   "source": [
    "#### Линейная регрессия"
   ]
  },
  {
   "cell_type": "markdown",
   "id": "32c72e48",
   "metadata": {},
   "source": [
    "Начнем с простого - линейной регрессии."
   ]
  },
  {
   "cell_type": "code",
   "execution_count": 30,
   "id": "08fdbf3b",
   "metadata": {},
   "outputs": [],
   "source": [
    "linear_model = GridSearchCV(\n",
    "    LinearRegression(),\n",
    "    param_grid={},\n",
    "    scoring=\"neg_root_mean_squared_error\",\n",
    "    cv=TimeSeriesSplit()\n",
    ")"
   ]
  },
  {
   "cell_type": "code",
   "execution_count": 31,
   "id": "51efd7ca",
   "metadata": {},
   "outputs": [
    {
     "data": {
      "text/html": [
       "<style>#sk-container-id-1 {color: black;background-color: white;}#sk-container-id-1 pre{padding: 0;}#sk-container-id-1 div.sk-toggleable {background-color: white;}#sk-container-id-1 label.sk-toggleable__label {cursor: pointer;display: block;width: 100%;margin-bottom: 0;padding: 0.3em;box-sizing: border-box;text-align: center;}#sk-container-id-1 label.sk-toggleable__label-arrow:before {content: \"▸\";float: left;margin-right: 0.25em;color: #696969;}#sk-container-id-1 label.sk-toggleable__label-arrow:hover:before {color: black;}#sk-container-id-1 div.sk-estimator:hover label.sk-toggleable__label-arrow:before {color: black;}#sk-container-id-1 div.sk-toggleable__content {max-height: 0;max-width: 0;overflow: hidden;text-align: left;background-color: #f0f8ff;}#sk-container-id-1 div.sk-toggleable__content pre {margin: 0.2em;color: black;border-radius: 0.25em;background-color: #f0f8ff;}#sk-container-id-1 input.sk-toggleable__control:checked~div.sk-toggleable__content {max-height: 200px;max-width: 100%;overflow: auto;}#sk-container-id-1 input.sk-toggleable__control:checked~label.sk-toggleable__label-arrow:before {content: \"▾\";}#sk-container-id-1 div.sk-estimator input.sk-toggleable__control:checked~label.sk-toggleable__label {background-color: #d4ebff;}#sk-container-id-1 div.sk-label input.sk-toggleable__control:checked~label.sk-toggleable__label {background-color: #d4ebff;}#sk-container-id-1 input.sk-hidden--visually {border: 0;clip: rect(1px 1px 1px 1px);clip: rect(1px, 1px, 1px, 1px);height: 1px;margin: -1px;overflow: hidden;padding: 0;position: absolute;width: 1px;}#sk-container-id-1 div.sk-estimator {font-family: monospace;background-color: #f0f8ff;border: 1px dotted black;border-radius: 0.25em;box-sizing: border-box;margin-bottom: 0.5em;}#sk-container-id-1 div.sk-estimator:hover {background-color: #d4ebff;}#sk-container-id-1 div.sk-parallel-item::after {content: \"\";width: 100%;border-bottom: 1px solid gray;flex-grow: 1;}#sk-container-id-1 div.sk-label:hover label.sk-toggleable__label {background-color: #d4ebff;}#sk-container-id-1 div.sk-serial::before {content: \"\";position: absolute;border-left: 1px solid gray;box-sizing: border-box;top: 0;bottom: 0;left: 50%;z-index: 0;}#sk-container-id-1 div.sk-serial {display: flex;flex-direction: column;align-items: center;background-color: white;padding-right: 0.2em;padding-left: 0.2em;position: relative;}#sk-container-id-1 div.sk-item {position: relative;z-index: 1;}#sk-container-id-1 div.sk-parallel {display: flex;align-items: stretch;justify-content: center;background-color: white;position: relative;}#sk-container-id-1 div.sk-item::before, #sk-container-id-1 div.sk-parallel-item::before {content: \"\";position: absolute;border-left: 1px solid gray;box-sizing: border-box;top: 0;bottom: 0;left: 50%;z-index: -1;}#sk-container-id-1 div.sk-parallel-item {display: flex;flex-direction: column;z-index: 1;position: relative;background-color: white;}#sk-container-id-1 div.sk-parallel-item:first-child::after {align-self: flex-end;width: 50%;}#sk-container-id-1 div.sk-parallel-item:last-child::after {align-self: flex-start;width: 50%;}#sk-container-id-1 div.sk-parallel-item:only-child::after {width: 0;}#sk-container-id-1 div.sk-dashed-wrapped {border: 1px dashed gray;margin: 0 0.4em 0.5em 0.4em;box-sizing: border-box;padding-bottom: 0.4em;background-color: white;}#sk-container-id-1 div.sk-label label {font-family: monospace;font-weight: bold;display: inline-block;line-height: 1.2em;}#sk-container-id-1 div.sk-label-container {text-align: center;}#sk-container-id-1 div.sk-container {/* jupyter's `normalize.less` sets `[hidden] { display: none; }` but bootstrap.min.css set `[hidden] { display: none !important; }` so we also need the `!important` here to be able to override the default hidden behavior on the sphinx rendered scikit-learn.org. See: https://github.com/scikit-learn/scikit-learn/issues/21755 */display: inline-block !important;position: relative;}#sk-container-id-1 div.sk-text-repr-fallback {display: none;}</style><div id=\"sk-container-id-1\" class=\"sk-top-container\"><div class=\"sk-text-repr-fallback\"><pre>GridSearchCV(cv=TimeSeriesSplit(gap=0, max_train_size=None, n_splits=5, test_size=None),\n",
       "             estimator=LinearRegression(), param_grid={},\n",
       "             scoring=&#x27;neg_root_mean_squared_error&#x27;)</pre><b>In a Jupyter environment, please rerun this cell to show the HTML representation or trust the notebook. <br />On GitHub, the HTML representation is unable to render, please try loading this page with nbviewer.org.</b></div><div class=\"sk-container\" hidden><div class=\"sk-item sk-dashed-wrapped\"><div class=\"sk-label-container\"><div class=\"sk-label sk-toggleable\"><input class=\"sk-toggleable__control sk-hidden--visually\" id=\"sk-estimator-id-1\" type=\"checkbox\" ><label for=\"sk-estimator-id-1\" class=\"sk-toggleable__label sk-toggleable__label-arrow\">GridSearchCV</label><div class=\"sk-toggleable__content\"><pre>GridSearchCV(cv=TimeSeriesSplit(gap=0, max_train_size=None, n_splits=5, test_size=None),\n",
       "             estimator=LinearRegression(), param_grid={},\n",
       "             scoring=&#x27;neg_root_mean_squared_error&#x27;)</pre></div></div></div><div class=\"sk-parallel\"><div class=\"sk-parallel-item\"><div class=\"sk-item\"><div class=\"sk-label-container\"><div class=\"sk-label sk-toggleable\"><input class=\"sk-toggleable__control sk-hidden--visually\" id=\"sk-estimator-id-2\" type=\"checkbox\" ><label for=\"sk-estimator-id-2\" class=\"sk-toggleable__label sk-toggleable__label-arrow\">estimator: LinearRegression</label><div class=\"sk-toggleable__content\"><pre>LinearRegression()</pre></div></div></div><div class=\"sk-serial\"><div class=\"sk-item\"><div class=\"sk-estimator sk-toggleable\"><input class=\"sk-toggleable__control sk-hidden--visually\" id=\"sk-estimator-id-3\" type=\"checkbox\" ><label for=\"sk-estimator-id-3\" class=\"sk-toggleable__label sk-toggleable__label-arrow\">LinearRegression</label><div class=\"sk-toggleable__content\"><pre>LinearRegression()</pre></div></div></div></div></div></div></div></div></div></div>"
      ],
      "text/plain": [
       "GridSearchCV(cv=TimeSeriesSplit(gap=0, max_train_size=None, n_splits=5, test_size=None),\n",
       "             estimator=LinearRegression(), param_grid={},\n",
       "             scoring='neg_root_mean_squared_error')"
      ]
     },
     "execution_count": 31,
     "metadata": {},
     "output_type": "execute_result"
    }
   ],
   "source": [
    "linear_model.fit(train_features, train_target)"
   ]
  },
  {
   "cell_type": "code",
   "execution_count": 32,
   "id": "a34444fc",
   "metadata": {},
   "outputs": [
    {
     "name": "stdout",
     "output_type": "stream",
     "text": [
      "RMSE: -22.514786437593152\n"
     ]
    }
   ],
   "source": [
    "print(\"RMSE:\", linear_model.best_score_)"
   ]
  },
  {
   "cell_type": "markdown",
   "id": "9f35ea08",
   "metadata": {},
   "source": [
    "Точность сильно лучше, чем для простой модели и очень похожа на то, что получалось при поиске параметров для генерации признаков, что ожидаемо."
   ]
  },
  {
   "cell_type": "markdown",
   "id": "24dfd27d",
   "metadata": {},
   "source": [
    "Еще будем вести сводную таблицу с результатами обучения моделей"
   ]
  },
  {
   "cell_type": "code",
   "execution_count": 33,
   "id": "aad19f07",
   "metadata": {},
   "outputs": [],
   "source": [
    "model_summary = pd.DataFrame({\n",
    "    \"RMSE\":linear_model.best_score_\n",
    "}, index=[\"Linear Regression\"])"
   ]
  },
  {
   "cell_type": "markdown",
   "id": "0c6238d2",
   "metadata": {},
   "source": [
    "#### Дерево решений"
   ]
  },
  {
   "cell_type": "code",
   "execution_count": 34,
   "id": "61d9b752",
   "metadata": {},
   "outputs": [],
   "source": [
    "seed = 111"
   ]
  },
  {
   "cell_type": "code",
   "execution_count": 35,
   "id": "efbce70c",
   "metadata": {},
   "outputs": [],
   "source": [
    "tree_params = {\n",
    "    \"max_depth\":range(2, 20, 2),\n",
    "    \"max_leaf_nodes\":range(2, 40, 4),\n",
    "    \"random_state\":[seed]\n",
    "}\n",
    "\n",
    "tree_model = GridSearchCV(\n",
    "    DecisionTreeRegressor(),\n",
    "    param_grid=tree_params,\n",
    "    scoring=\"neg_root_mean_squared_error\",\n",
    "    cv=TimeSeriesSplit()\n",
    ")"
   ]
  },
  {
   "cell_type": "code",
   "execution_count": 36,
   "id": "710fa09e",
   "metadata": {},
   "outputs": [
    {
     "name": "stdout",
     "output_type": "stream",
     "text": [
      "CPU times: user 39.5 s, sys: 55.9 ms, total: 39.6 s\n",
      "Wall time: 39.3 s\n"
     ]
    },
    {
     "data": {
      "text/html": [
       "<style>#sk-container-id-2 {color: black;background-color: white;}#sk-container-id-2 pre{padding: 0;}#sk-container-id-2 div.sk-toggleable {background-color: white;}#sk-container-id-2 label.sk-toggleable__label {cursor: pointer;display: block;width: 100%;margin-bottom: 0;padding: 0.3em;box-sizing: border-box;text-align: center;}#sk-container-id-2 label.sk-toggleable__label-arrow:before {content: \"▸\";float: left;margin-right: 0.25em;color: #696969;}#sk-container-id-2 label.sk-toggleable__label-arrow:hover:before {color: black;}#sk-container-id-2 div.sk-estimator:hover label.sk-toggleable__label-arrow:before {color: black;}#sk-container-id-2 div.sk-toggleable__content {max-height: 0;max-width: 0;overflow: hidden;text-align: left;background-color: #f0f8ff;}#sk-container-id-2 div.sk-toggleable__content pre {margin: 0.2em;color: black;border-radius: 0.25em;background-color: #f0f8ff;}#sk-container-id-2 input.sk-toggleable__control:checked~div.sk-toggleable__content {max-height: 200px;max-width: 100%;overflow: auto;}#sk-container-id-2 input.sk-toggleable__control:checked~label.sk-toggleable__label-arrow:before {content: \"▾\";}#sk-container-id-2 div.sk-estimator input.sk-toggleable__control:checked~label.sk-toggleable__label {background-color: #d4ebff;}#sk-container-id-2 div.sk-label input.sk-toggleable__control:checked~label.sk-toggleable__label {background-color: #d4ebff;}#sk-container-id-2 input.sk-hidden--visually {border: 0;clip: rect(1px 1px 1px 1px);clip: rect(1px, 1px, 1px, 1px);height: 1px;margin: -1px;overflow: hidden;padding: 0;position: absolute;width: 1px;}#sk-container-id-2 div.sk-estimator {font-family: monospace;background-color: #f0f8ff;border: 1px dotted black;border-radius: 0.25em;box-sizing: border-box;margin-bottom: 0.5em;}#sk-container-id-2 div.sk-estimator:hover {background-color: #d4ebff;}#sk-container-id-2 div.sk-parallel-item::after {content: \"\";width: 100%;border-bottom: 1px solid gray;flex-grow: 1;}#sk-container-id-2 div.sk-label:hover label.sk-toggleable__label {background-color: #d4ebff;}#sk-container-id-2 div.sk-serial::before {content: \"\";position: absolute;border-left: 1px solid gray;box-sizing: border-box;top: 0;bottom: 0;left: 50%;z-index: 0;}#sk-container-id-2 div.sk-serial {display: flex;flex-direction: column;align-items: center;background-color: white;padding-right: 0.2em;padding-left: 0.2em;position: relative;}#sk-container-id-2 div.sk-item {position: relative;z-index: 1;}#sk-container-id-2 div.sk-parallel {display: flex;align-items: stretch;justify-content: center;background-color: white;position: relative;}#sk-container-id-2 div.sk-item::before, #sk-container-id-2 div.sk-parallel-item::before {content: \"\";position: absolute;border-left: 1px solid gray;box-sizing: border-box;top: 0;bottom: 0;left: 50%;z-index: -1;}#sk-container-id-2 div.sk-parallel-item {display: flex;flex-direction: column;z-index: 1;position: relative;background-color: white;}#sk-container-id-2 div.sk-parallel-item:first-child::after {align-self: flex-end;width: 50%;}#sk-container-id-2 div.sk-parallel-item:last-child::after {align-self: flex-start;width: 50%;}#sk-container-id-2 div.sk-parallel-item:only-child::after {width: 0;}#sk-container-id-2 div.sk-dashed-wrapped {border: 1px dashed gray;margin: 0 0.4em 0.5em 0.4em;box-sizing: border-box;padding-bottom: 0.4em;background-color: white;}#sk-container-id-2 div.sk-label label {font-family: monospace;font-weight: bold;display: inline-block;line-height: 1.2em;}#sk-container-id-2 div.sk-label-container {text-align: center;}#sk-container-id-2 div.sk-container {/* jupyter's `normalize.less` sets `[hidden] { display: none; }` but bootstrap.min.css set `[hidden] { display: none !important; }` so we also need the `!important` here to be able to override the default hidden behavior on the sphinx rendered scikit-learn.org. See: https://github.com/scikit-learn/scikit-learn/issues/21755 */display: inline-block !important;position: relative;}#sk-container-id-2 div.sk-text-repr-fallback {display: none;}</style><div id=\"sk-container-id-2\" class=\"sk-top-container\"><div class=\"sk-text-repr-fallback\"><pre>GridSearchCV(cv=TimeSeriesSplit(gap=0, max_train_size=None, n_splits=5, test_size=None),\n",
       "             estimator=DecisionTreeRegressor(),\n",
       "             param_grid={&#x27;max_depth&#x27;: range(2, 20, 2),\n",
       "                         &#x27;max_leaf_nodes&#x27;: range(2, 40, 4),\n",
       "                         &#x27;random_state&#x27;: [111]},\n",
       "             scoring=&#x27;neg_root_mean_squared_error&#x27;)</pre><b>In a Jupyter environment, please rerun this cell to show the HTML representation or trust the notebook. <br />On GitHub, the HTML representation is unable to render, please try loading this page with nbviewer.org.</b></div><div class=\"sk-container\" hidden><div class=\"sk-item sk-dashed-wrapped\"><div class=\"sk-label-container\"><div class=\"sk-label sk-toggleable\"><input class=\"sk-toggleable__control sk-hidden--visually\" id=\"sk-estimator-id-4\" type=\"checkbox\" ><label for=\"sk-estimator-id-4\" class=\"sk-toggleable__label sk-toggleable__label-arrow\">GridSearchCV</label><div class=\"sk-toggleable__content\"><pre>GridSearchCV(cv=TimeSeriesSplit(gap=0, max_train_size=None, n_splits=5, test_size=None),\n",
       "             estimator=DecisionTreeRegressor(),\n",
       "             param_grid={&#x27;max_depth&#x27;: range(2, 20, 2),\n",
       "                         &#x27;max_leaf_nodes&#x27;: range(2, 40, 4),\n",
       "                         &#x27;random_state&#x27;: [111]},\n",
       "             scoring=&#x27;neg_root_mean_squared_error&#x27;)</pre></div></div></div><div class=\"sk-parallel\"><div class=\"sk-parallel-item\"><div class=\"sk-item\"><div class=\"sk-label-container\"><div class=\"sk-label sk-toggleable\"><input class=\"sk-toggleable__control sk-hidden--visually\" id=\"sk-estimator-id-5\" type=\"checkbox\" ><label for=\"sk-estimator-id-5\" class=\"sk-toggleable__label sk-toggleable__label-arrow\">estimator: DecisionTreeRegressor</label><div class=\"sk-toggleable__content\"><pre>DecisionTreeRegressor()</pre></div></div></div><div class=\"sk-serial\"><div class=\"sk-item\"><div class=\"sk-estimator sk-toggleable\"><input class=\"sk-toggleable__control sk-hidden--visually\" id=\"sk-estimator-id-6\" type=\"checkbox\" ><label for=\"sk-estimator-id-6\" class=\"sk-toggleable__label sk-toggleable__label-arrow\">DecisionTreeRegressor</label><div class=\"sk-toggleable__content\"><pre>DecisionTreeRegressor()</pre></div></div></div></div></div></div></div></div></div></div>"
      ],
      "text/plain": [
       "GridSearchCV(cv=TimeSeriesSplit(gap=0, max_train_size=None, n_splits=5, test_size=None),\n",
       "             estimator=DecisionTreeRegressor(),\n",
       "             param_grid={'max_depth': range(2, 20, 2),\n",
       "                         'max_leaf_nodes': range(2, 40, 4),\n",
       "                         'random_state': [111]},\n",
       "             scoring='neg_root_mean_squared_error')"
      ]
     },
     "execution_count": 36,
     "metadata": {},
     "output_type": "execute_result"
    }
   ],
   "source": [
    "%%time\n",
    "tree_model.fit(train_features, train_target)"
   ]
  },
  {
   "cell_type": "code",
   "execution_count": 37,
   "id": "45618522",
   "metadata": {},
   "outputs": [
    {
     "name": "stdout",
     "output_type": "stream",
     "text": [
      "RMSE: -26.687306696226663\n"
     ]
    }
   ],
   "source": [
    "print(\"RMSE:\", tree_model.best_score_)"
   ]
  },
  {
   "cell_type": "code",
   "execution_count": 38,
   "id": "bf2de3bb",
   "metadata": {},
   "outputs": [],
   "source": [
    "#print(tree_model.best_params_)"
   ]
  },
  {
   "cell_type": "markdown",
   "id": "71d6907d",
   "metadata": {},
   "source": [
    "Точность ниже чем у регрессии.\n",
    "\n",
    "Интересно, насколько здесь влияет специфика подбора параметров генерации признаков?\n",
    "\n",
    "Судя по тому, что лучшие результаты получились с небольшой глубиной дерева, думаю, что особого влияния она не оказывает."
   ]
  },
  {
   "cell_type": "code",
   "execution_count": 39,
   "id": "c6425aae",
   "metadata": {},
   "outputs": [],
   "source": [
    "model_summary = pd.concat([model_summary] + \n",
    "        [pd.DataFrame({\n",
    "        \"RMSE\":tree_model.best_score_\n",
    "    }, index=[\"Decision Tree\"])\n",
    "])"
   ]
  },
  {
   "cell_type": "markdown",
   "id": "2823d0a4",
   "metadata": {},
   "source": [
    "#### Случайный лес"
   ]
  },
  {
   "cell_type": "markdown",
   "id": "2a493642",
   "metadata": {},
   "source": [
    "Попробуем увеличить точность дерева решений ансамблированием."
   ]
  },
  {
   "cell_type": "code",
   "execution_count": 40,
   "id": "a3299ff3",
   "metadata": {},
   "outputs": [],
   "source": [
    "forest_params = {\n",
    "    \"n_estimators\":range(10, 20, 5),\n",
    "    \"max_depth\":range(2, 6, 2),\n",
    "    \"max_leaf_nodes\":range(10, 20, 2),\n",
    "    \"random_state\":[seed]\n",
    "}\n",
    "\n",
    "forest_model = GridSearchCV(\n",
    "    RandomForestRegressor(),\n",
    "    param_grid=forest_params,\n",
    "    scoring=\"neg_root_mean_squared_error\",\n",
    "    cv=TimeSeriesSplit()\n",
    ")"
   ]
  },
  {
   "cell_type": "code",
   "execution_count": 41,
   "id": "79af1c2c",
   "metadata": {},
   "outputs": [
    {
     "name": "stdout",
     "output_type": "stream",
     "text": [
      "CPU times: user 43.8 s, sys: 44.2 ms, total: 43.8 s\n",
      "Wall time: 43.9 s\n"
     ]
    },
    {
     "data": {
      "text/html": [
       "<style>#sk-container-id-3 {color: black;background-color: white;}#sk-container-id-3 pre{padding: 0;}#sk-container-id-3 div.sk-toggleable {background-color: white;}#sk-container-id-3 label.sk-toggleable__label {cursor: pointer;display: block;width: 100%;margin-bottom: 0;padding: 0.3em;box-sizing: border-box;text-align: center;}#sk-container-id-3 label.sk-toggleable__label-arrow:before {content: \"▸\";float: left;margin-right: 0.25em;color: #696969;}#sk-container-id-3 label.sk-toggleable__label-arrow:hover:before {color: black;}#sk-container-id-3 div.sk-estimator:hover label.sk-toggleable__label-arrow:before {color: black;}#sk-container-id-3 div.sk-toggleable__content {max-height: 0;max-width: 0;overflow: hidden;text-align: left;background-color: #f0f8ff;}#sk-container-id-3 div.sk-toggleable__content pre {margin: 0.2em;color: black;border-radius: 0.25em;background-color: #f0f8ff;}#sk-container-id-3 input.sk-toggleable__control:checked~div.sk-toggleable__content {max-height: 200px;max-width: 100%;overflow: auto;}#sk-container-id-3 input.sk-toggleable__control:checked~label.sk-toggleable__label-arrow:before {content: \"▾\";}#sk-container-id-3 div.sk-estimator input.sk-toggleable__control:checked~label.sk-toggleable__label {background-color: #d4ebff;}#sk-container-id-3 div.sk-label input.sk-toggleable__control:checked~label.sk-toggleable__label {background-color: #d4ebff;}#sk-container-id-3 input.sk-hidden--visually {border: 0;clip: rect(1px 1px 1px 1px);clip: rect(1px, 1px, 1px, 1px);height: 1px;margin: -1px;overflow: hidden;padding: 0;position: absolute;width: 1px;}#sk-container-id-3 div.sk-estimator {font-family: monospace;background-color: #f0f8ff;border: 1px dotted black;border-radius: 0.25em;box-sizing: border-box;margin-bottom: 0.5em;}#sk-container-id-3 div.sk-estimator:hover {background-color: #d4ebff;}#sk-container-id-3 div.sk-parallel-item::after {content: \"\";width: 100%;border-bottom: 1px solid gray;flex-grow: 1;}#sk-container-id-3 div.sk-label:hover label.sk-toggleable__label {background-color: #d4ebff;}#sk-container-id-3 div.sk-serial::before {content: \"\";position: absolute;border-left: 1px solid gray;box-sizing: border-box;top: 0;bottom: 0;left: 50%;z-index: 0;}#sk-container-id-3 div.sk-serial {display: flex;flex-direction: column;align-items: center;background-color: white;padding-right: 0.2em;padding-left: 0.2em;position: relative;}#sk-container-id-3 div.sk-item {position: relative;z-index: 1;}#sk-container-id-3 div.sk-parallel {display: flex;align-items: stretch;justify-content: center;background-color: white;position: relative;}#sk-container-id-3 div.sk-item::before, #sk-container-id-3 div.sk-parallel-item::before {content: \"\";position: absolute;border-left: 1px solid gray;box-sizing: border-box;top: 0;bottom: 0;left: 50%;z-index: -1;}#sk-container-id-3 div.sk-parallel-item {display: flex;flex-direction: column;z-index: 1;position: relative;background-color: white;}#sk-container-id-3 div.sk-parallel-item:first-child::after {align-self: flex-end;width: 50%;}#sk-container-id-3 div.sk-parallel-item:last-child::after {align-self: flex-start;width: 50%;}#sk-container-id-3 div.sk-parallel-item:only-child::after {width: 0;}#sk-container-id-3 div.sk-dashed-wrapped {border: 1px dashed gray;margin: 0 0.4em 0.5em 0.4em;box-sizing: border-box;padding-bottom: 0.4em;background-color: white;}#sk-container-id-3 div.sk-label label {font-family: monospace;font-weight: bold;display: inline-block;line-height: 1.2em;}#sk-container-id-3 div.sk-label-container {text-align: center;}#sk-container-id-3 div.sk-container {/* jupyter's `normalize.less` sets `[hidden] { display: none; }` but bootstrap.min.css set `[hidden] { display: none !important; }` so we also need the `!important` here to be able to override the default hidden behavior on the sphinx rendered scikit-learn.org. See: https://github.com/scikit-learn/scikit-learn/issues/21755 */display: inline-block !important;position: relative;}#sk-container-id-3 div.sk-text-repr-fallback {display: none;}</style><div id=\"sk-container-id-3\" class=\"sk-top-container\"><div class=\"sk-text-repr-fallback\"><pre>GridSearchCV(cv=TimeSeriesSplit(gap=0, max_train_size=None, n_splits=5, test_size=None),\n",
       "             estimator=RandomForestRegressor(),\n",
       "             param_grid={&#x27;max_depth&#x27;: range(2, 6, 2),\n",
       "                         &#x27;max_leaf_nodes&#x27;: range(10, 20, 2),\n",
       "                         &#x27;n_estimators&#x27;: range(10, 20, 5),\n",
       "                         &#x27;random_state&#x27;: [111]},\n",
       "             scoring=&#x27;neg_root_mean_squared_error&#x27;)</pre><b>In a Jupyter environment, please rerun this cell to show the HTML representation or trust the notebook. <br />On GitHub, the HTML representation is unable to render, please try loading this page with nbviewer.org.</b></div><div class=\"sk-container\" hidden><div class=\"sk-item sk-dashed-wrapped\"><div class=\"sk-label-container\"><div class=\"sk-label sk-toggleable\"><input class=\"sk-toggleable__control sk-hidden--visually\" id=\"sk-estimator-id-7\" type=\"checkbox\" ><label for=\"sk-estimator-id-7\" class=\"sk-toggleable__label sk-toggleable__label-arrow\">GridSearchCV</label><div class=\"sk-toggleable__content\"><pre>GridSearchCV(cv=TimeSeriesSplit(gap=0, max_train_size=None, n_splits=5, test_size=None),\n",
       "             estimator=RandomForestRegressor(),\n",
       "             param_grid={&#x27;max_depth&#x27;: range(2, 6, 2),\n",
       "                         &#x27;max_leaf_nodes&#x27;: range(10, 20, 2),\n",
       "                         &#x27;n_estimators&#x27;: range(10, 20, 5),\n",
       "                         &#x27;random_state&#x27;: [111]},\n",
       "             scoring=&#x27;neg_root_mean_squared_error&#x27;)</pre></div></div></div><div class=\"sk-parallel\"><div class=\"sk-parallel-item\"><div class=\"sk-item\"><div class=\"sk-label-container\"><div class=\"sk-label sk-toggleable\"><input class=\"sk-toggleable__control sk-hidden--visually\" id=\"sk-estimator-id-8\" type=\"checkbox\" ><label for=\"sk-estimator-id-8\" class=\"sk-toggleable__label sk-toggleable__label-arrow\">estimator: RandomForestRegressor</label><div class=\"sk-toggleable__content\"><pre>RandomForestRegressor()</pre></div></div></div><div class=\"sk-serial\"><div class=\"sk-item\"><div class=\"sk-estimator sk-toggleable\"><input class=\"sk-toggleable__control sk-hidden--visually\" id=\"sk-estimator-id-9\" type=\"checkbox\" ><label for=\"sk-estimator-id-9\" class=\"sk-toggleable__label sk-toggleable__label-arrow\">RandomForestRegressor</label><div class=\"sk-toggleable__content\"><pre>RandomForestRegressor()</pre></div></div></div></div></div></div></div></div></div></div>"
      ],
      "text/plain": [
       "GridSearchCV(cv=TimeSeriesSplit(gap=0, max_train_size=None, n_splits=5, test_size=None),\n",
       "             estimator=RandomForestRegressor(),\n",
       "             param_grid={'max_depth': range(2, 6, 2),\n",
       "                         'max_leaf_nodes': range(10, 20, 2),\n",
       "                         'n_estimators': range(10, 20, 5),\n",
       "                         'random_state': [111]},\n",
       "             scoring='neg_root_mean_squared_error')"
      ]
     },
     "execution_count": 41,
     "metadata": {},
     "output_type": "execute_result"
    }
   ],
   "source": [
    "%%time\n",
    "forest_model.fit(train_features, train_target)"
   ]
  },
  {
   "cell_type": "code",
   "execution_count": 42,
   "id": "bc941342",
   "metadata": {},
   "outputs": [
    {
     "name": "stdout",
     "output_type": "stream",
     "text": [
      "RMSE: -23.948210543469404\n"
     ]
    }
   ],
   "source": [
    "print(\"RMSE:\", forest_model.best_score_)"
   ]
  },
  {
   "cell_type": "markdown",
   "id": "887672e8",
   "metadata": {},
   "source": [
    "Точность, конечно, улучшилась, но все же ниже, чем у линейной регрессии."
   ]
  },
  {
   "cell_type": "code",
   "execution_count": 43,
   "id": "1a84edad",
   "metadata": {},
   "outputs": [],
   "source": [
    "model_summary = pd.concat([model_summary] + \n",
    "        [pd.DataFrame({\n",
    "        \"RMSE\":forest_model.best_score_\n",
    "    }, index=[\"Random Forest\"])\n",
    "])"
   ]
  },
  {
   "cell_type": "markdown",
   "id": "831c699c",
   "metadata": {},
   "source": [
    "#### Градиентный бустинг"
   ]
  },
  {
   "cell_type": "markdown",
   "id": "68022e5a",
   "metadata": {},
   "source": [
    "Попробуем еще один вариант ансамблирования - градиентный бустинг с помощью catboost."
   ]
  },
  {
   "cell_type": "code",
   "execution_count": 44,
   "id": "50c0d946",
   "metadata": {},
   "outputs": [],
   "source": [
    "gb_params = {\n",
    "    #\"l2_leaf_reg\":np.arange(0, 0.3, .1),    ## Для поиска оптимального значения\n",
    "    \"silent\":[True],\n",
    "    \"random_seed\":[seed]\n",
    "}\n",
    "\n",
    "gb_model = GridSearchCV(\n",
    "    CatBoostRegressor(),\n",
    "    param_grid=gb_params,\n",
    "    scoring=\"neg_root_mean_squared_error\",\n",
    "    cv=TimeSeriesSplit()\n",
    ")"
   ]
  },
  {
   "cell_type": "code",
   "execution_count": 45,
   "id": "9c4947f8",
   "metadata": {},
   "outputs": [
    {
     "name": "stdout",
     "output_type": "stream",
     "text": [
      "CPU times: user 12min, sys: 26.6 s, total: 12min 27s\n",
      "Wall time: 1min 56s\n"
     ]
    },
    {
     "data": {
      "text/html": [
       "<style>#sk-container-id-4 {color: black;background-color: white;}#sk-container-id-4 pre{padding: 0;}#sk-container-id-4 div.sk-toggleable {background-color: white;}#sk-container-id-4 label.sk-toggleable__label {cursor: pointer;display: block;width: 100%;margin-bottom: 0;padding: 0.3em;box-sizing: border-box;text-align: center;}#sk-container-id-4 label.sk-toggleable__label-arrow:before {content: \"▸\";float: left;margin-right: 0.25em;color: #696969;}#sk-container-id-4 label.sk-toggleable__label-arrow:hover:before {color: black;}#sk-container-id-4 div.sk-estimator:hover label.sk-toggleable__label-arrow:before {color: black;}#sk-container-id-4 div.sk-toggleable__content {max-height: 0;max-width: 0;overflow: hidden;text-align: left;background-color: #f0f8ff;}#sk-container-id-4 div.sk-toggleable__content pre {margin: 0.2em;color: black;border-radius: 0.25em;background-color: #f0f8ff;}#sk-container-id-4 input.sk-toggleable__control:checked~div.sk-toggleable__content {max-height: 200px;max-width: 100%;overflow: auto;}#sk-container-id-4 input.sk-toggleable__control:checked~label.sk-toggleable__label-arrow:before {content: \"▾\";}#sk-container-id-4 div.sk-estimator input.sk-toggleable__control:checked~label.sk-toggleable__label {background-color: #d4ebff;}#sk-container-id-4 div.sk-label input.sk-toggleable__control:checked~label.sk-toggleable__label {background-color: #d4ebff;}#sk-container-id-4 input.sk-hidden--visually {border: 0;clip: rect(1px 1px 1px 1px);clip: rect(1px, 1px, 1px, 1px);height: 1px;margin: -1px;overflow: hidden;padding: 0;position: absolute;width: 1px;}#sk-container-id-4 div.sk-estimator {font-family: monospace;background-color: #f0f8ff;border: 1px dotted black;border-radius: 0.25em;box-sizing: border-box;margin-bottom: 0.5em;}#sk-container-id-4 div.sk-estimator:hover {background-color: #d4ebff;}#sk-container-id-4 div.sk-parallel-item::after {content: \"\";width: 100%;border-bottom: 1px solid gray;flex-grow: 1;}#sk-container-id-4 div.sk-label:hover label.sk-toggleable__label {background-color: #d4ebff;}#sk-container-id-4 div.sk-serial::before {content: \"\";position: absolute;border-left: 1px solid gray;box-sizing: border-box;top: 0;bottom: 0;left: 50%;z-index: 0;}#sk-container-id-4 div.sk-serial {display: flex;flex-direction: column;align-items: center;background-color: white;padding-right: 0.2em;padding-left: 0.2em;position: relative;}#sk-container-id-4 div.sk-item {position: relative;z-index: 1;}#sk-container-id-4 div.sk-parallel {display: flex;align-items: stretch;justify-content: center;background-color: white;position: relative;}#sk-container-id-4 div.sk-item::before, #sk-container-id-4 div.sk-parallel-item::before {content: \"\";position: absolute;border-left: 1px solid gray;box-sizing: border-box;top: 0;bottom: 0;left: 50%;z-index: -1;}#sk-container-id-4 div.sk-parallel-item {display: flex;flex-direction: column;z-index: 1;position: relative;background-color: white;}#sk-container-id-4 div.sk-parallel-item:first-child::after {align-self: flex-end;width: 50%;}#sk-container-id-4 div.sk-parallel-item:last-child::after {align-self: flex-start;width: 50%;}#sk-container-id-4 div.sk-parallel-item:only-child::after {width: 0;}#sk-container-id-4 div.sk-dashed-wrapped {border: 1px dashed gray;margin: 0 0.4em 0.5em 0.4em;box-sizing: border-box;padding-bottom: 0.4em;background-color: white;}#sk-container-id-4 div.sk-label label {font-family: monospace;font-weight: bold;display: inline-block;line-height: 1.2em;}#sk-container-id-4 div.sk-label-container {text-align: center;}#sk-container-id-4 div.sk-container {/* jupyter's `normalize.less` sets `[hidden] { display: none; }` but bootstrap.min.css set `[hidden] { display: none !important; }` so we also need the `!important` here to be able to override the default hidden behavior on the sphinx rendered scikit-learn.org. See: https://github.com/scikit-learn/scikit-learn/issues/21755 */display: inline-block !important;position: relative;}#sk-container-id-4 div.sk-text-repr-fallback {display: none;}</style><div id=\"sk-container-id-4\" class=\"sk-top-container\"><div class=\"sk-text-repr-fallback\"><pre>GridSearchCV(cv=TimeSeriesSplit(gap=0, max_train_size=None, n_splits=5, test_size=None),\n",
       "             estimator=&lt;catboost.core.CatBoostRegressor object at 0x7f9abc0dac40&gt;,\n",
       "             param_grid={&#x27;random_seed&#x27;: [111], &#x27;silent&#x27;: [True]},\n",
       "             scoring=&#x27;neg_root_mean_squared_error&#x27;)</pre><b>In a Jupyter environment, please rerun this cell to show the HTML representation or trust the notebook. <br />On GitHub, the HTML representation is unable to render, please try loading this page with nbviewer.org.</b></div><div class=\"sk-container\" hidden><div class=\"sk-item sk-dashed-wrapped\"><div class=\"sk-label-container\"><div class=\"sk-label sk-toggleable\"><input class=\"sk-toggleable__control sk-hidden--visually\" id=\"sk-estimator-id-10\" type=\"checkbox\" ><label for=\"sk-estimator-id-10\" class=\"sk-toggleable__label sk-toggleable__label-arrow\">GridSearchCV</label><div class=\"sk-toggleable__content\"><pre>GridSearchCV(cv=TimeSeriesSplit(gap=0, max_train_size=None, n_splits=5, test_size=None),\n",
       "             estimator=&lt;catboost.core.CatBoostRegressor object at 0x7f9abc0dac40&gt;,\n",
       "             param_grid={&#x27;random_seed&#x27;: [111], &#x27;silent&#x27;: [True]},\n",
       "             scoring=&#x27;neg_root_mean_squared_error&#x27;)</pre></div></div></div><div class=\"sk-parallel\"><div class=\"sk-parallel-item\"><div class=\"sk-item\"><div class=\"sk-label-container\"><div class=\"sk-label sk-toggleable\"><input class=\"sk-toggleable__control sk-hidden--visually\" id=\"sk-estimator-id-11\" type=\"checkbox\" ><label for=\"sk-estimator-id-11\" class=\"sk-toggleable__label sk-toggleable__label-arrow\">estimator: CatBoostRegressor</label><div class=\"sk-toggleable__content\"><pre>&lt;catboost.core.CatBoostRegressor object at 0x7f9abc0dac40&gt;</pre></div></div></div><div class=\"sk-serial\"><div class=\"sk-item\"><div class=\"sk-estimator sk-toggleable\"><input class=\"sk-toggleable__control sk-hidden--visually\" id=\"sk-estimator-id-12\" type=\"checkbox\" ><label for=\"sk-estimator-id-12\" class=\"sk-toggleable__label sk-toggleable__label-arrow\">CatBoostRegressor</label><div class=\"sk-toggleable__content\"><pre>&lt;catboost.core.CatBoostRegressor object at 0x7f9abc0dac40&gt;</pre></div></div></div></div></div></div></div></div></div></div>"
      ],
      "text/plain": [
       "GridSearchCV(cv=TimeSeriesSplit(gap=0, max_train_size=None, n_splits=5, test_size=None),\n",
       "             estimator=<catboost.core.CatBoostRegressor object at 0x7f9abc0dac40>,\n",
       "             param_grid={'random_seed': [111], 'silent': [True]},\n",
       "             scoring='neg_root_mean_squared_error')"
      ]
     },
     "execution_count": 45,
     "metadata": {},
     "output_type": "execute_result"
    }
   ],
   "source": [
    "%%time\n",
    "gb_model.fit(train_features, train_target)"
   ]
  },
  {
   "cell_type": "code",
   "execution_count": 46,
   "id": "7ed43d83",
   "metadata": {},
   "outputs": [
    {
     "name": "stdout",
     "output_type": "stream",
     "text": [
      "RMSE: -22.45088606380781\n"
     ]
    }
   ],
   "source": [
    "print(\"RMSE:\", gb_model.best_score_)"
   ]
  },
  {
   "cell_type": "markdown",
   "id": "27c3eb8e",
   "metadata": {},
   "source": [
    "Точность получилась чуть лучше, чем у линейной регрессии, а время обучения - в разы больше.\n",
    "\n",
    "Дальше выбираем лучшую модель и проверяем ее на тестовой выборке."
   ]
  },
  {
   "cell_type": "code",
   "execution_count": 47,
   "id": "1cf208a8",
   "metadata": {},
   "outputs": [],
   "source": [
    "model_summary = pd.concat([model_summary] + \n",
    "        [pd.DataFrame({\n",
    "        \"RMSE\":gb_model.best_score_\n",
    "    }, index=[\"Gradient Boosting\"])\n",
    "])"
   ]
  },
  {
   "cell_type": "markdown",
   "id": "6cf6061e",
   "metadata": {},
   "source": [
    "### Промежуточные выводы\n"
   ]
  },
  {
   "cell_type": "markdown",
   "id": "f1f0d39b",
   "metadata": {},
   "source": [
    "* Подобраны оптимальные парамтеры для генерации признаков: размер окна для скользящего среднего и количество отстающих шагов\n",
    "* Опробованы следующие модели:\n",
    "   - Линейная регрессия\n",
    "   - Дерево решений\n",
    "   - Случайны лес\n",
    "   - Градиентный бустинг\n",
    "* Все модели показали точность при кросс-валидации на обучающей выборке выше, чем предсказание последним значением\n",
    "* Наибольшую точность (RMSE) показали модели линейной регрессии и градинетного бустинга"
   ]
  },
  {
   "cell_type": "markdown",
   "id": "b97fae7c",
   "metadata": {},
   "source": [
    "## Тестирование"
   ]
  },
  {
   "cell_type": "markdown",
   "id": "15d23d45",
   "metadata": {},
   "source": [
    "Взглянем на сводную таблицу точностей моделей."
   ]
  },
  {
   "cell_type": "code",
   "execution_count": 48,
   "id": "423b03b6",
   "metadata": {
    "scrolled": true
   },
   "outputs": [
    {
     "data": {
      "text/html": [
       "<div>\n",
       "<style scoped>\n",
       "    .dataframe tbody tr th:only-of-type {\n",
       "        vertical-align: middle;\n",
       "    }\n",
       "\n",
       "    .dataframe tbody tr th {\n",
       "        vertical-align: top;\n",
       "    }\n",
       "\n",
       "    .dataframe thead th {\n",
       "        text-align: right;\n",
       "    }\n",
       "</style>\n",
       "<table border=\"1\" class=\"dataframe\">\n",
       "  <thead>\n",
       "    <tr style=\"text-align: right;\">\n",
       "      <th></th>\n",
       "      <th>RMSE</th>\n",
       "    </tr>\n",
       "  </thead>\n",
       "  <tbody>\n",
       "    <tr>\n",
       "      <th>Linear Regression</th>\n",
       "      <td>-22.514786</td>\n",
       "    </tr>\n",
       "    <tr>\n",
       "      <th>Decision Tree</th>\n",
       "      <td>-26.687307</td>\n",
       "    </tr>\n",
       "    <tr>\n",
       "      <th>Random Forest</th>\n",
       "      <td>-23.948211</td>\n",
       "    </tr>\n",
       "    <tr>\n",
       "      <th>Gradient Boosting</th>\n",
       "      <td>-22.450886</td>\n",
       "    </tr>\n",
       "  </tbody>\n",
       "</table>\n",
       "</div>"
      ],
      "text/plain": [
       "                        RMSE\n",
       "Linear Regression -22.514786\n",
       "Decision Tree     -26.687307\n",
       "Random Forest     -23.948211\n",
       "Gradient Boosting -22.450886"
      ]
     },
     "execution_count": 48,
     "metadata": {},
     "output_type": "execute_result"
    }
   ],
   "source": [
    "model_summary"
   ]
  },
  {
   "cell_type": "markdown",
   "id": "456bdf9a",
   "metadata": {},
   "source": [
    "Наилучший скор показала модель градиентного бустинга, ее и проверим на тестовой выборке."
   ]
  },
  {
   "cell_type": "code",
   "execution_count": 49,
   "id": "03cdd007",
   "metadata": {},
   "outputs": [
    {
     "name": "stdout",
     "output_type": "stream",
     "text": [
      "RMSE на тестовой выборке: 36.246\n"
     ]
    }
   ],
   "source": [
    "best_model = gb_model.best_estimator_\n",
    "test_prediction = best_model.predict(test_features)\n",
    "test_score = mean_squared_error(test_target, test_prediction) ** 0.5\n",
    "\n",
    "print(\"RMSE на тестовой выборке: {0:.3f}\".format(test_score))"
   ]
  },
  {
   "cell_type": "markdown",
   "id": "ce1b55db",
   "metadata": {},
   "source": [
    "Точность получилась существенно ниже, чем на обучающей выборке, что ожидаемо, т.к. временной ряд у нас нестационарный и число заказов со временем растет.\n",
    "\n",
    "При этом точность проходит по условию задания (<48) и модель можно рекомендовать к использованию."
   ]
  },
  {
   "cell_type": "markdown",
   "id": "cfd2cf63",
   "metadata": {},
   "source": [
    "## Выводы"
   ]
  },
  {
   "attachments": {
    "hourly_seasonality.png": {
     "image/png": "[encoded data removed]"
    }
   },
   "cell_type": "markdown",
   "id": "c36cf9ca",
   "metadata": {},
   "source": [
    "* Проведено исследование данных, обнаружены следующие закономерности:\n",
    "* Наблюдается определенная сезонность в данных в зависимости от часа внутри суток:\n",
    "   - Наибольшее число заказов происходит в интервалах 04:00 - 05:00 и 16:00 - 17:00\n",
    "   - Наименьшее число заказов происходит в интервале 14:00 - 15:00\n",
    "   - В глобальном смысле с 16:00 до 06:00 число заказов существенно выше, чем в остальное время.\n",
    "* График сезонной составляющей в данных представлен ниже:\n",
    "![hourly_seasonality.png](attachment:hourly_seasonality.png)\n"
   ]
  },
  {
   "attachments": {
    "daily_seasonality.png": {
     "image/png": "[encoded data removed]"
    }
   },
   "cell_type": "markdown",
   "id": "029a27a4",
   "metadata": {},
   "source": [
    "* Также определенная сезонность наблюдается в данных в зависимости от дня недели:\n",
    "   * Количество заказов минимально во вторник\n",
    "   * Количество заказов монотонно растет в период вт-пт, при этом в пт число заказов близко к максимальному\n",
    "   * Количетсво заказов в пн и пт сравнимо и максимально\n",
    "   * Количество заказов на выходных сравнимо с числом в середине недели (вт-ср)\n",
    "* График сезонной составляющей в данных представлен ниже\n",
    "![daily_seasonality.png](attachment:daily_seasonality.png)\n"
   ]
  },
  {
   "attachments": {
    "accuracy_table.png": {
     "image/png": "[encoded data removed]"
    }
   },
   "cell_type": "markdown",
   "id": "ca9376af",
   "metadata": {},
   "source": [
    "* Подобраны оптимальные параметры для генерации признаков: размер окна для скользящего среднего и количество отстающих шагов\n",
    "* Опробованы следующие модели:\n",
    "   - Линейная регрессия\n",
    "   - Дерево решений\n",
    "   - Случайны лес\n",
    "   - Градиентный бустинг\n",
    "* Все модели показали точность при кросс-валидации на обучающей выборке выше, чем предсказание последним известным значением.\n",
    "* Наибольшую точность (RMSE) показали модели линейной регрессии и градинетного бустинга.\n",
    "* Сравнительная таблица точностей моделей представлена ниже:\n",
    "![accuracy_table.png](attachment:accuracy_table.png)\n",
    "* Модель **градиентного бустинга** была проверена на тестовой выборке, показала точность выше (RMSE = 37), чем по условию задания (RMSE < 48) и может **рекомендоваться к использованию**."
   ]
  }
 ],
 "metadata": {
  "ExecuteTimeLog": [
   {
    "duration": 3823,
    "start_time": "2023-05-23T13:22:34.890Z"
   },
   {
    "duration": 114,
    "start_time": "2023-05-23T13:22:38.716Z"
   },
   {
    "duration": 19,
    "start_time": "2023-05-23T13:22:38.832Z"
   },
   {
    "duration": 14,
    "start_time": "2023-05-23T13:22:38.853Z"
   },
   {
    "duration": 15,
    "start_time": "2023-05-23T13:22:38.870Z"
   },
   {
    "duration": 19,
    "start_time": "2023-05-23T13:22:38.887Z"
   },
   {
    "duration": 19,
    "start_time": "2023-05-23T13:22:38.908Z"
   },
   {
    "duration": 10,
    "start_time": "2023-05-23T13:22:38.929Z"
   },
   {
    "duration": 198,
    "start_time": "2023-05-23T13:22:38.941Z"
   },
   {
    "duration": 250,
    "start_time": "2023-05-23T13:22:39.140Z"
   },
   {
    "duration": 9,
    "start_time": "2023-05-23T13:22:39.392Z"
   },
   {
    "duration": 13,
    "start_time": "2023-05-23T13:22:39.403Z"
   },
   {
    "duration": 425,
    "start_time": "2023-05-23T13:22:39.418Z"
   },
   {
    "duration": 10,
    "start_time": "2023-05-23T13:22:39.846Z"
   },
   {
    "duration": 22,
    "start_time": "2023-05-23T13:22:39.858Z"
   },
   {
    "duration": 171,
    "start_time": "2023-05-23T13:22:39.882Z"
   },
   {
    "duration": 20,
    "start_time": "2023-05-23T13:22:40.056Z"
   },
   {
    "duration": 8,
    "start_time": "2023-05-23T13:22:40.083Z"
   },
   {
    "duration": 177,
    "start_time": "2023-05-23T13:22:40.094Z"
   },
   {
    "duration": 5,
    "start_time": "2023-05-23T13:22:40.273Z"
   },
   {
    "duration": 17,
    "start_time": "2023-05-23T13:22:40.280Z"
   },
   {
    "duration": 18,
    "start_time": "2023-05-23T13:22:40.300Z"
   },
   {
    "duration": 16,
    "start_time": "2023-05-23T13:22:40.320Z"
   },
   {
    "duration": 23,
    "start_time": "2023-05-23T13:22:40.339Z"
   }
  ],
  "kernelspec": {
   "display_name": "Python 3 (ipykernel)",
   "language": "python",
   "name": "python3"
  },
  "language_info": {
   "codemirror_mode": {
    "name": "ipython",
    "version": 3
   },
   "file_extension": ".py",
   "mimetype": "text/x-python",
   "name": "python",
   "nbconvert_exporter": "python",
   "pygments_lexer": "ipython3",
   "version": "3.9.16"
  },
  "toc": {
   "base_numbering": 1,
   "nav_menu": {},
   "number_sections": true,
   "sideBar": true,
   "skip_h1_title": true,
   "title_cell": "Table of Contents",
   "title_sidebar": "Contents",
   "toc_cell": true,
   "toc_position": {
    "height": "calc(100% - 180px)",
    "left": "10px",
    "top": "150px",
    "width": "320px"
   },
   "toc_section_display": true,
   "toc_window_display": true
  }
 },
 "nbformat": 4,
 "nbformat_minor": 5
}
