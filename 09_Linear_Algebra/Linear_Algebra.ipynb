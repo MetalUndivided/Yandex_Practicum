{
 "cells": [
  {
   "cell_type": "markdown",
   "id": "29a7c91c",
   "metadata": {},
   "source": [
    "<div style=\"background: #91ff7e; padding: 5px; border: 1px solid Black; border-radius: 5px;\">\n",
    "    КОММЕНТАРИЙ СТУДЕНТА V01\n",
    "    <br/>\n",
    "    Марат, приветствую! <br>\n",
    "    Спасибо за проверку проекта и комментарии, было интересно читать. Пока что могу сказать, что это, пожалуй, самый непривычный проект за все время обучения, но с комментариями стало чуточку понятнее. <br>\n",
    "    И еще он заставляет меня жалеть, что я не сильно серезно относился к линейной алгебре на первых курсах университета. <br>\n",
    "   Я постарался устранить замечания, жду дальнейших комментариев.\n",
    "</div>"
   ]
  },
  {
   "cell_type": "markdown",
   "id": "739d3618",
   "metadata": {},
   "source": [
    "<div class=\"alert alert-success\">\n",
    "<font size=\"5\"><b>Комментарий ревьюераV2</b></font>\n",
    "\n",
    "\n",
    "\n",
    "Успех 👍:\n",
    "\n",
    "\n",
    "\n",
    "Привет Илья! \n",
    "\n",
    "\n",
    "\n",
    "\n",
    "    И еще он заставляет меня жалеть, что я не сильно серезно относился к линейной алгебре на первых курсах университета\n",
    "\n",
    "    \n",
    "    \n",
    "Никогда не поздно, тем более что в институте обычно это изучают без практики. А сейчас, раз ты решил заняться машинным обучением, с линейной алгеброй ты будешь сталкиваться регулярно    "
   ]
  },
  {
   "cell_type": "markdown",
   "id": "fbff0779",
   "metadata": {},
   "source": [
    "<div class=\"alert alert-info\">\n",
    "<font size=\"5\"><b>Комментарий ревьюера</b></font>\n",
    "\n",
    "Привет Илья! Меня зовут Марат, и я буду твоим ревьюером. Спешу сообщить что все ключевые этапы в работе выполнены,  с задачей тебе удалось справиться. По поводу обращения - в IT сфере принято общаться на «ты» :) Но, если привычней на «вы», дай знать. Как ревьюера моя задача помочь тебе в развитии, дав хорошие советы. Я внимательно посмотрю твой код, ознакомлюсь с твоими выводами и оставлю комментарии. Где то могу предложить небольшие исправление в коде, но ненавязчиво. Где потребуются уточнения, я оставлю много наводящих вопросов. Они помогут тебя с поиском верного решения.\n",
    "\n",
    "Все мои комментарии размечены по цветам, для лучшего восприятия. \n",
    "    \n",
    "<div class=\"alert alert-success\">Зеленым цветом и 👍, словом «Успех» отмечены особо удачные и элегантные решения, которыми ты можешь гордиться. </div>\n",
    "        \n",
    "<div class=\"alert alert-warning\">Желтым и 🤔, словом «Совет», помечены решения у которых есть альтернативные решения, более оптимальные. Ты можешь найти их сразу и доработать проект, или отложить это на потом, для будущих проектах. Проект будет принят и без их доработки. </div>\n",
    "        \n",
    "<div class=\"alert alert-danger\"> Красным цветом и значком ❌, словом «Ошибка» помечу твои решения, на которые стоит обратить внимание прежде всего. После их доработки проект будет принят. </div>\n",
    "        \n",
    "Залог успеха - работа сообща, взаимное уважение и работа в диалоге. Поэтому, помечай свои ответные комментарии на мои реплики заметным цветом или курсивом, так мне будет легче их отслеживать. Пожалуйста, не изменяй и не удаляй мои комментарии. Все это поможет выполнить повторную проверку быстрей.\n",
    "\n",
    "</div>"
   ]
  },
  {
   "cell_type": "markdown",
   "id": "74933f28",
   "metadata": {
    "toc": true
   },
   "source": [
    "<h1>Table of Contents<span class=\"tocSkip\"></span></h1>\n",
    "<div class=\"toc\"><ul class=\"toc-item\"><li><span><a href=\"#Загрузка-и-изучение-данных\" data-toc-modified-id=\"Загрузка-и-изучение-данных-1\"><span class=\"toc-item-num\">1&nbsp;&nbsp;</span>Загрузка и изучение данных</a></span><ul class=\"toc-item\"><li><span><a href=\"#Конвертация-типов-данных\" data-toc-modified-id=\"Конвертация-типов-данных-1.1\"><span class=\"toc-item-num\">1.1&nbsp;&nbsp;</span>Конвертация типов данных</a></span></li><li><span><a href=\"#Удаление-дубликатов\" data-toc-modified-id=\"Удаление-дубликатов-1.2\"><span class=\"toc-item-num\">1.2&nbsp;&nbsp;</span>Удаление дубликатов</a></span></li><li><span><a href=\"#Изучение-данных\" data-toc-modified-id=\"Изучение-данных-1.3\"><span class=\"toc-item-num\">1.3&nbsp;&nbsp;</span>Изучение данных</a></span></li></ul></li><li><span><a href=\"#Умножение-матриц\" data-toc-modified-id=\"Умножение-матриц-2\"><span class=\"toc-item-num\">2&nbsp;&nbsp;</span>Умножение матриц</a></span></li><li><span><a href=\"#Алгоритм-преобразования\" data-toc-modified-id=\"Алгоритм-преобразования-3\"><span class=\"toc-item-num\">3&nbsp;&nbsp;</span>Алгоритм преобразования</a></span><ul class=\"toc-item\"><li><span><a href=\"#Описание-и-обоснование-алгоритма\" data-toc-modified-id=\"Описание-и-обоснование-алгоритма-3.1\"><span class=\"toc-item-num\">3.1&nbsp;&nbsp;</span>Описание и обоснование алгоритма</a></span></li><li><span><a href=\"#Имплементация-алгоритма\" data-toc-modified-id=\"Имплементация-алгоритма-3.2\"><span class=\"toc-item-num\">3.2&nbsp;&nbsp;</span>Имплементация алгоритма</a></span></li></ul></li><li><span><a href=\"#Проверка-алгоритма\" data-toc-modified-id=\"Проверка-алгоритма-4\"><span class=\"toc-item-num\">4&nbsp;&nbsp;</span>Проверка алгоритма</a></span><ul class=\"toc-item\"><li><span><a href=\"#Разделение-данных-на-целевой-признак-и-предикторы\" data-toc-modified-id=\"Разделение-данных-на-целевой-признак-и-предикторы-4.1\"><span class=\"toc-item-num\">4.1&nbsp;&nbsp;</span>Разделение данных на целевой признак и предикторы</a></span></li><li><span><a href=\"#Обучение:-контроль\" data-toc-modified-id=\"Обучение:-контроль-4.2\"><span class=\"toc-item-num\">4.2&nbsp;&nbsp;</span>Обучение: контроль</a></span></li><li><span><a href=\"#Обучение:-кодировка\" data-toc-modified-id=\"Обучение:-кодировка-4.3\"><span class=\"toc-item-num\">4.3&nbsp;&nbsp;</span>Обучение: кодировка</a></span></li><li><span><a href=\"#Проверка-декодировки\" data-toc-modified-id=\"Проверка-декодировки-4.4\"><span class=\"toc-item-num\">4.4&nbsp;&nbsp;</span>Проверка декодировки</a></span></li></ul></li><li><span><a href=\"#Выводы\" data-toc-modified-id=\"Выводы-5\"><span class=\"toc-item-num\">5&nbsp;&nbsp;</span>Выводы</a></span></li><li><span><a href=\"#Чек-лист-проверки\" data-toc-modified-id=\"Чек-лист-проверки-6\"><span class=\"toc-item-num\">6&nbsp;&nbsp;</span>Чек-лист проверки</a></span></li></ul></div>"
   ]
  },
  {
   "cell_type": "markdown",
   "id": "b1418ab9",
   "metadata": {},
   "source": [
    "# Защита персональных данных клиентов"
   ]
  },
  {
   "cell_type": "markdown",
   "id": "ac553e6a",
   "metadata": {},
   "source": [
    "Вам нужно защитить данные клиентов страховой компании «Хоть потоп». Разработайте такой метод преобразования данных, чтобы по ним было сложно восстановить персональную информацию. Обоснуйте корректность его работы.\n",
    "\n",
    "Нужно защитить данные, чтобы при преобразовании качество моделей машинного обучения не ухудшилось. Подбирать наилучшую модель не требуется."
   ]
  },
  {
   "cell_type": "markdown",
   "id": "4161c89b",
   "metadata": {},
   "source": [
    "## Загрузка и изучение данных"
   ]
  },
  {
   "cell_type": "code",
   "execution_count": 1,
   "id": "a96d36e6",
   "metadata": {},
   "outputs": [],
   "source": [
    "import pandas as pd\n",
    "import numpy as np\n",
    "import matplotlib.pyplot as plt\n",
    "import seaborn as sns\n",
    "\n",
    "from sklearn.metrics import r2_score\n",
    "from sklearn.linear_model import LinearRegression"
   ]
  },
  {
   "cell_type": "code",
   "execution_count": 2,
   "id": "fbaeaa19",
   "metadata": {},
   "outputs": [],
   "source": [
    "try:\n",
    "    data = pd.read_csv(\"/datasets/insurance.csv\")\n",
    "except FileNotFoundError:\n",
    "    data = pd.read_csv(\"insurance.csv\")"
   ]
  },
  {
   "cell_type": "markdown",
   "id": "a3f99d2f",
   "metadata": {},
   "source": [
    "<div class=\"alert alert-success\">\n",
    "<font size=\"5\"><b>Комментарий ревьюера</b></font>\n",
    "\n",
    "Молодец что используешь конструкцию try - except (if - else), этим ты проявляешь уважение к тем кто будет работать с твоим кодом.\n",
    "\n",
    "</div>"
   ]
  },
  {
   "cell_type": "code",
   "execution_count": 3,
   "id": "79b1355a",
   "metadata": {},
   "outputs": [
    {
     "data": {
      "text/html": [
       "<div>\n",
       "<style scoped>\n",
       "    .dataframe tbody tr th:only-of-type {\n",
       "        vertical-align: middle;\n",
       "    }\n",
       "\n",
       "    .dataframe tbody tr th {\n",
       "        vertical-align: top;\n",
       "    }\n",
       "\n",
       "    .dataframe thead th {\n",
       "        text-align: right;\n",
       "    }\n",
       "</style>\n",
       "<table border=\"1\" class=\"dataframe\">\n",
       "  <thead>\n",
       "    <tr style=\"text-align: right;\">\n",
       "      <th></th>\n",
       "      <th>Пол</th>\n",
       "      <th>Возраст</th>\n",
       "      <th>Зарплата</th>\n",
       "      <th>Члены семьи</th>\n",
       "      <th>Страховые выплаты</th>\n",
       "    </tr>\n",
       "  </thead>\n",
       "  <tbody>\n",
       "    <tr>\n",
       "      <th>0</th>\n",
       "      <td>1</td>\n",
       "      <td>41.0</td>\n",
       "      <td>49600.0</td>\n",
       "      <td>1</td>\n",
       "      <td>0</td>\n",
       "    </tr>\n",
       "    <tr>\n",
       "      <th>1</th>\n",
       "      <td>0</td>\n",
       "      <td>46.0</td>\n",
       "      <td>38000.0</td>\n",
       "      <td>1</td>\n",
       "      <td>1</td>\n",
       "    </tr>\n",
       "    <tr>\n",
       "      <th>2</th>\n",
       "      <td>0</td>\n",
       "      <td>29.0</td>\n",
       "      <td>21000.0</td>\n",
       "      <td>0</td>\n",
       "      <td>0</td>\n",
       "    </tr>\n",
       "    <tr>\n",
       "      <th>3</th>\n",
       "      <td>0</td>\n",
       "      <td>21.0</td>\n",
       "      <td>41700.0</td>\n",
       "      <td>2</td>\n",
       "      <td>0</td>\n",
       "    </tr>\n",
       "    <tr>\n",
       "      <th>4</th>\n",
       "      <td>1</td>\n",
       "      <td>28.0</td>\n",
       "      <td>26100.0</td>\n",
       "      <td>0</td>\n",
       "      <td>0</td>\n",
       "    </tr>\n",
       "    <tr>\n",
       "      <th>5</th>\n",
       "      <td>1</td>\n",
       "      <td>43.0</td>\n",
       "      <td>41000.0</td>\n",
       "      <td>2</td>\n",
       "      <td>1</td>\n",
       "    </tr>\n",
       "    <tr>\n",
       "      <th>6</th>\n",
       "      <td>1</td>\n",
       "      <td>39.0</td>\n",
       "      <td>39700.0</td>\n",
       "      <td>2</td>\n",
       "      <td>0</td>\n",
       "    </tr>\n",
       "    <tr>\n",
       "      <th>7</th>\n",
       "      <td>1</td>\n",
       "      <td>25.0</td>\n",
       "      <td>38600.0</td>\n",
       "      <td>4</td>\n",
       "      <td>0</td>\n",
       "    </tr>\n",
       "    <tr>\n",
       "      <th>8</th>\n",
       "      <td>1</td>\n",
       "      <td>36.0</td>\n",
       "      <td>49700.0</td>\n",
       "      <td>1</td>\n",
       "      <td>0</td>\n",
       "    </tr>\n",
       "    <tr>\n",
       "      <th>9</th>\n",
       "      <td>1</td>\n",
       "      <td>32.0</td>\n",
       "      <td>51700.0</td>\n",
       "      <td>1</td>\n",
       "      <td>0</td>\n",
       "    </tr>\n",
       "  </tbody>\n",
       "</table>\n",
       "</div>"
      ],
      "text/plain": [
       "   Пол  Возраст  Зарплата  Члены семьи  Страховые выплаты\n",
       "0    1     41.0   49600.0            1                  0\n",
       "1    0     46.0   38000.0            1                  1\n",
       "2    0     29.0   21000.0            0                  0\n",
       "3    0     21.0   41700.0            2                  0\n",
       "4    1     28.0   26100.0            0                  0\n",
       "5    1     43.0   41000.0            2                  1\n",
       "6    1     39.0   39700.0            2                  0\n",
       "7    1     25.0   38600.0            4                  0\n",
       "8    1     36.0   49700.0            1                  0\n",
       "9    1     32.0   51700.0            1                  0"
      ]
     },
     "metadata": {},
     "output_type": "display_data"
    }
   ],
   "source": [
    "display(data.head(10))"
   ]
  },
  {
   "cell_type": "markdown",
   "id": "1c32e5e2",
   "metadata": {},
   "source": [
    "Данные успешно загружены, можно начинать их осматривать"
   ]
  },
  {
   "cell_type": "code",
   "execution_count": 4,
   "id": "5684c721",
   "metadata": {},
   "outputs": [
    {
     "name": "stdout",
     "output_type": "stream",
     "text": [
      "<class 'pandas.core.frame.DataFrame'>\n",
      "RangeIndex: 5000 entries, 0 to 4999\n",
      "Data columns (total 5 columns):\n",
      " #   Column             Non-Null Count  Dtype  \n",
      "---  ------             --------------  -----  \n",
      " 0   Пол                5000 non-null   int64  \n",
      " 1   Возраст            5000 non-null   float64\n",
      " 2   Зарплата           5000 non-null   float64\n",
      " 3   Члены семьи        5000 non-null   int64  \n",
      " 4   Страховые выплаты  5000 non-null   int64  \n",
      "dtypes: float64(2), int64(3)\n",
      "memory usage: 195.4 KB\n",
      "None\n"
     ]
    }
   ],
   "source": [
    "print(data.info())"
   ]
  },
  {
   "cell_type": "markdown",
   "id": "fc8abc18",
   "metadata": {},
   "source": [
    "Пропусков нет, но вот выглядит, будто возраст и зарплата принимают целочисленные значения, но хранятся флотами.\n",
    "\n",
    "Проверим, так ли это."
   ]
  },
  {
   "cell_type": "markdown",
   "id": "8a88f2e1",
   "metadata": {},
   "source": [
    "### Конвертация типов данных"
   ]
  },
  {
   "cell_type": "code",
   "execution_count": 5,
   "id": "3d7dcdd0",
   "metadata": {
    "scrolled": true
   },
   "outputs": [
    {
     "name": "stdout",
     "output_type": "stream",
     "text": [
      "[41. 46. 29. 21. 28. 43. 39. 25. 36. 32. 38. 23. 40. 34. 26. 42. 27. 33.\n",
      " 47. 30. 19. 31. 22. 20. 24. 18. 37. 48. 45. 44. 52. 49. 35. 56. 65. 55.\n",
      " 57. 54. 50. 53. 51. 58. 59. 60. 61. 62.] \n",
      "\n",
      "[49600. 38000. 21000. 41700. 26100. 41000. 39700. 38600. 49700. 51700.\n",
      " 36600. 29300. 39500. 55000. 43700. 23300. 48900. 33200. 36900. 43500.\n",
      " 36100. 26600. 48700. 40400. 38400. 34600. 34800. 36800. 42200. 46300.\n",
      " 30300. 51000. 28100. 64800. 30400. 45300. 38300. 49500. 19400. 40200.\n",
      " 31700. 69200. 33100. 31600. 34500. 38700. 39600. 42400. 34900. 30500.\n",
      " 24200. 49900. 14300. 47000. 44800. 43800. 42700. 35400. 57200. 29600.\n",
      " 37400. 48100. 33700. 61800. 39400. 15600. 52600. 37600. 52500. 32700.\n",
      " 51600. 60900. 41800. 47400. 26500. 45900. 35700. 34300. 26700. 25700.\n",
      " 33300. 31100. 31500. 42100. 37300. 42500. 27300. 46800. 33500. 44300.\n",
      " 41600. 53900. 40100. 44600. 45000. 32000. 38200. 33000. 38500. 51800.\n",
      " 33800. 46400. 43200. 31800. 50200. 35100. 30700. 45800. 49300. 42800.\n",
      " 33600. 50300. 34000. 36400. 44900. 43600. 54600. 52800. 29700. 39000.\n",
      " 44100. 31900. 37700. 35200. 43100. 51300. 47500. 40800. 26800. 64900.\n",
      " 35900. 31200. 39900. 43300. 33900. 40700. 44700. 53400. 30600. 56000.\n",
      " 35600. 55200. 40600. 48300. 50800. 41200. 44200. 44400. 40500. 39800.\n",
      " 16600. 48400. 25100. 23100. 32100. 31000. 42900. 46700. 26000. 55900.\n",
      " 52000. 41500. 49400. 60300. 45600. 49000. 37500. 21900. 45100. 47900.\n",
      " 54300. 32400. 41300. 44500. 23200. 37900. 48000. 52100. 45700. 29900.\n",
      " 42600. 45200. 36000. 46500. 23800. 30200. 24400. 32800. 29000. 43400.\n",
      " 51500. 61700. 45400. 50700. 36200. 41900. 27900. 47200. 48800. 55100.\n",
      " 48200. 35500. 35000. 43900. 40000. 22000. 40300. 36300. 49800. 25600.\n",
      " 42300. 54900. 25500. 32900. 36700. 38900. 24700. 28800. 22900. 47300.\n",
      " 14500. 28700. 44000. 34100. 53000. 59300. 28500. 47100. 41400. 58900.\n",
      " 17500. 54200. 43000. 29800. 20000. 13800. 27500. 67700. 28000. 37100.\n",
      "  8900. 14600. 56200. 38800. 27700. 50500. 58400. 34700. 34400. 49100.\n",
      " 50900. 28200. 61500. 32500. 25900.  9800. 28300. 41100. 62000. 32600.\n",
      " 37200. 53800. 24000. 53600. 54800. 59600. 20200. 21700. 29200. 38100.\n",
      " 20700. 32300. 21200. 62100. 54000. 24500. 51900. 47800. 56100. 55300.\n",
      " 58100. 28900. 39100. 58000. 27200. 24600. 30100. 57100. 60100. 22200.\n",
      " 47700. 24900. 37800. 52700. 34200. 18700. 42000. 26300. 22600. 30900.\n",
      " 35800. 30800. 51100. 53300. 46200. 24100. 54700. 51200. 62300. 51400.\n",
      " 40900. 23400. 35300. 55800. 33400. 21300. 30000. 56700. 46900.  5300.\n",
      " 39200. 57500. 31300. 53700. 21600. 50000. 36500. 16400. 15900. 65100.\n",
      " 59900. 63200. 26200. 61200. 48500. 32200. 29100. 50100. 22700. 28600.\n",
      " 23500. 23700. 19600. 17800. 50600. 57900. 22500. 22100. 58300. 64100.\n",
      " 25000. 60400. 59100. 37000. 62400. 29500. 25800. 25400. 26900. 21500.\n",
      " 52200. 46600. 57300. 46100. 19300. 18900. 31400. 28400. 29400. 17600.\n",
      " 13900. 52400. 11300. 46000. 60500. 58700. 58200. 24800. 63700. 60600.\n",
      " 20400. 26400. 55600. 57000. 45500. 48600. 57600. 52900. 62800. 17000.\n",
      " 56500. 52300. 18400. 63300. 12900. 27000. 55700. 39300. 27800. 18300.\n",
      " 56300. 59800. 24300. 14400. 13400. 17900. 47600. 54500. 54400. 23900.\n",
      " 13000. 19900. 55400. 22800. 61000. 57400. 23000. 20500. 53200. 18100.\n",
      " 25300. 59500. 18200. 50400. 21100. 20900. 27400. 17300. 60700. 70600.\n",
      " 17700. 19700. 49200. 63100. 59200. 14700. 53100. 21800. 68000. 16500.\n",
      " 71400. 10000. 55500. 54100. 56400. 20600. 66300. 18800. 11000. 66100.\n",
      " 27100. 57800. 53500. 19200. 58500. 64000. 63600. 23600. 25200. 19100.\n",
      " 18600. 57700. 62700. 56600. 21400. 58800. 68400. 17100. 13300. 68500.\n",
      " 56900. 64400. 27600. 67200. 16200. 58600. 62200. 16000. 79000. 22300.\n",
      " 11200. 71600. 61300. 70500. 67100. 59000. 13500. 16700. 15700. 60000.\n",
      " 17400. 63400. 61900. 65200. 62600. 14100. 20100. 63800. 15100. 70000.\n",
      " 60200. 20300. 65900. 15200. 63500. 13200. 68900. 12200.  6000. 74800.\n",
      " 59700. 10800. 19000. 10600. 69400. 15000. 75200. 62500. 16300. 20800.\n",
      "  7400. 65300. 61400. 56800.]\n"
     ]
    }
   ],
   "source": [
    "print(data[\"Возраст\"].unique(), \"\\n\")\n",
    "print(data[\"Зарплата\"].unique())"
   ]
  },
  {
   "cell_type": "markdown",
   "id": "7209f8bf",
   "metadata": {},
   "source": [
    "Да, так и есть.\n",
    "\n",
    "Конвертнем их в целочисленные.\n",
    "\n",
    "Пол можно хранить в буленае, но от этого дальше могут возникнуть проблемы, поэтому оставим его в интах.\n",
    "\n",
    "И в целом 64 бита на большинство столбцов тут избыточны."
   ]
  },
  {
   "cell_type": "code",
   "execution_count": 6,
   "id": "bbcfe836",
   "metadata": {},
   "outputs": [],
   "source": [
    "data[\"Пол\"] = data[\"Пол\"].astype(\"uint8\")\n",
    "data[\"Возраст\"] = data[\"Возраст\"].astype(\"uint8\")\n",
    "data[\"Зарплата\"] = data[\"Зарплата\"].astype(\"uint32\")\n",
    "data[\"Члены семьи\"] = data[\"Члены семьи\"].astype(\"uint8\")\n",
    "data[\"Страховые выплаты\"] = data[\"Страховые выплаты\"].astype(\"uint8\")"
   ]
  },
  {
   "cell_type": "code",
   "execution_count": 7,
   "id": "5df712d0",
   "metadata": {},
   "outputs": [
    {
     "name": "stdout",
     "output_type": "stream",
     "text": [
      "Пол                   uint8\n",
      "Возраст               uint8\n",
      "Зарплата             uint32\n",
      "Члены семьи           uint8\n",
      "Страховые выплаты     uint8\n",
      "dtype: object\n"
     ]
    }
   ],
   "source": [
    "print(data.dtypes)"
   ]
  },
  {
   "cell_type": "markdown",
   "id": "60e417c2",
   "metadata": {},
   "source": [
    "Теперь типы данных соответствуют хранящимся в них данных."
   ]
  },
  {
   "cell_type": "markdown",
   "id": "574659d6",
   "metadata": {},
   "source": [
    "### Удаление дубликатов"
   ]
  },
  {
   "cell_type": "markdown",
   "id": "bf1fbb98",
   "metadata": {},
   "source": [
    "Дубликаты здесь удалить не удастся, т.к. нет какого-нибудь уникального идентификатора.\n",
    "\n",
    "Под двумя внешне одинаковыми строками могут скрываться два разных клиента, у которых случайно совпали значения величин.\n",
    "\n",
    "Так что в этот раз без удаления дубликатов."
   ]
  },
  {
   "cell_type": "markdown",
   "id": "a55fe6ed",
   "metadata": {},
   "source": [
    "### Изучение данных"
   ]
  },
  {
   "cell_type": "markdown",
   "id": "04970ebd",
   "metadata": {},
   "source": [
    "Столбцов не так много, удобно будет посмотреть на scatter_matrix."
   ]
  },
  {
   "cell_type": "code",
   "execution_count": 8,
   "id": "965131bb",
   "metadata": {
    "scrolled": false
   },
   "outputs": [
    {
     "data": {
      "image/png": "[encoded data removed]",
      "text/plain": [
       "<Figure size 1200x800 with 25 Axes>"
      ]
     },
     "metadata": {},
     "output_type": "display_data"
    }
   ],
   "source": [
    "pd.plotting.scatter_matrix(data, figsize=(12, 8), hist_kwds={'bins':50});"
   ]
  },
  {
   "cell_type": "markdown",
   "id": "95fa86ba",
   "metadata": {},
   "source": [
    "Распределения принимают ожидаемые формы, аномальных значений нет, есть некая корреляция между возрастом и количеством страховых выплат."
   ]
  },
  {
   "cell_type": "markdown",
   "id": "3e19c54b",
   "metadata": {},
   "source": [
    "Пропусков тут нет, на этом этап подготовки и осмотра данных окончен."
   ]
  },
  {
   "cell_type": "markdown",
   "id": "456fa0b3",
   "metadata": {},
   "source": [
    "<div class=\"alert alert-success\">\n",
    "<font size=\"5\"><b>Комментарий ревьюера</b></font>\n",
    "\n",
    "Успех 👍: \n",
    "    \n",
    "EDA проведено.  \n",
    "\n",
    "\n",
    "- Здорово чтоб поработала с типами данных \n",
    "    \n",
    "    \n",
    "    \n",
    "</div>"
   ]
  },
  {
   "cell_type": "markdown",
   "id": "d7c2c71f",
   "metadata": {},
   "source": [
    "## Умножение матриц"
   ]
  },
  {
   "cell_type": "markdown",
   "id": "fb698370",
   "metadata": {},
   "source": [
    "**Вопрос:**  Признаки умножают на обратимую матрицу. Изменится ли качество линейной регрессии? (Её можно обучить заново.)\n",
    "\n",
    "**Ответ:** Качество не изменится, при условии, что размерность результирующей матрицы останется неизменной относительно исходной.\n",
    "\n",
    "**Обоснование:**\n",
    "\n",
    "Пусть  \n",
    "    $X$ - исходная матрица признаков размерностью $mxn$  \n",
    "    $y$ - вектор изветсных целевых значений размерностью $m$  \n",
    "    $w$ - вектор весов для линейной регресси размерностю $n$  \n",
    "\n",
    "Тогда задача обучения может быть записана в следующем виде:\n",
    "\n",
    "$$\n",
    "w = (X^T X)^{-1} X^T y\n",
    "$$\n",
    "\n",
    "Данное равенство решится относительно $w$ при условии, что $X^TX$ является обратимой матрицей.  \n",
    "Если $X$ является обратимой, то и $X^T$ является обратимой, соответсвенно и их произведение будет так же обратимым.\n",
    "\n",
    "Теперь предположим, что исходная матрица $X$ умножается на некую матрицу, назовем ее $K$ (key).  \n",
    "В таком случае формула выше приобретает следующий вид:\n",
    "\n",
    "$$\n",
    "w = ((XK)^T XK)^{-1} (XK)^T y\n",
    "$$\n",
    "\n",
    "Поскольку, матрица $K$ обратима из постановки вопроса, то условие обратимости $((XK)^T XK)$ так же выполняется.  \n",
    "\n",
    "Однако, в данном случае появляется другое условие - размерность $((XK)^T XK)^{-1}(XK)^T$ должна получиться $nxm$.  \n",
    "Чтобы это условие выполнилось, матрица $K$ должна иметь размерность $nxn$:  \n",
    "\n",
    "Запишем поочередно размерности получающихся матриц:  \n",
    "\n",
    "$$\n",
    "w = ((X_{mxn}K_{nxn})^T X_{mxn}K_{nxn})^{-1} (X_{mxn}K_{nxn})^T y_{m}\n",
    "$$\n",
    "\n",
    "И посмотрим, как будет последовательно меняться размерность при выполнении операций:\n",
    "\n",
    "$$\n",
    "w = (((XK)_{mxn})^T X_{mxn}K_{nxn})^{-1} (X_{mxn}K_{nxn})^T y_{m}\n",
    "$$\n",
    "\n",
    "$$\n",
    "w = (((XK)^T)_{nxm} X_{mxn}K_{nxn})^{-1} (X_{mxn}K_{nxn})^T y_{m}\n",
    "$$\n",
    "\n",
    "$$\n",
    "w = (((XK)^T X)_{nxn}K_{nxn})^{-1} (X_{mxn}K_{nxn})^T y_{m}\n",
    "$$\n",
    "\n",
    "$$\n",
    "w = (((XK)^T XK)_{nxn})^{-1} (X_{mxn}K_{nxn})^T y_{m}\n",
    "$$\n",
    "\n",
    "$$\n",
    "w = (((XK)^T XK)^{-1})_{nxn} (X_{mxn}K_{nxn})^T y_{m}\n",
    "$$\n",
    "\n",
    "$$\n",
    "w = (((XK)^T XK)^{-1})_{nxn} ((XK)_{mxn})^T y_{m}\n",
    "$$\n",
    "\n",
    "$$\n",
    "w = (((XK)^T XK)^{-1})_{nxn} ((XK)^T)_{nxm} y_{m}\n",
    "$$\n",
    "\n",
    "$$\n",
    "w = (((XK)^T XK)^{-1}) ((XK)^T)_{nxm} y_{m}\n",
    "$$\n",
    "\n",
    "$$\n",
    "w_{n} = (((XK)^T XK)^{-1}) ((XK)^T)_{nxm} y_{m}\n",
    "$$\n",
    "\n",
    "Получается вектор $w$ размерностю $n$, который и нужен."
   ]
  },
  {
   "cell_type": "markdown",
   "id": "517c3f6f",
   "metadata": {},
   "source": [
    "\n",
    "\n",
    "<div class=\"alert alert-danger\">\n",
    "<font size=\"5\"><b>Комментарий ревьюера</b></font>\n",
    "\n",
    "Ошибка ❌:\n",
    "    \n",
    "1\n",
    "\n",
    "  \n",
    "Нет ответа на \"как связаны параметры линейной регрессии в исходной задаче и в преобразованной\"\n",
    "\n",
    "Какое соотношение между $w$ и $w_p$?\n",
    "    \n",
    "    \n",
    "Где   \n",
    "\n",
    "\n",
    "\n",
    "$$\n",
    "w = (X^T X)^{-1} X^T y\n",
    "$$\n",
    "    \n",
    "    \n",
    "$$\n",
    "w_P = ((XP)^T XP)^{-1} (XP)^T y\n",
    "$$   \n",
    "\n",
    "\n",
    "\n",
    "\n",
    "2\n",
    "\n",
    "  \n",
    "Что ты тут доказал я не очень понял.     \n",
    "Тут мы делаем матричные преобразования и отвечаем на вопрос. \n",
    "Как вообще это решать?   Есть несколько способов, например \"решить в лоб\". Для решения \"в лоб\" надо начать с постановки задачи, нам нужно установить тождество между  a и a', где\n",
    "    \n",
    "$a = X\\cdot w$ \n",
    "    \n",
    "$a' = X\\cdot P\\cdot w'$ \n",
    " \n",
    "    \n",
    "Далее выражаем   w' через:\n",
    "    \n",
    "$\n",
    "w' = ((X\\cdot P)^T \\cdot (X\\cdot P))^{-1}\\cdot (X\\cdot P)^T\\cdot Y \n",
    "$     \n",
    "    \n",
    "\n",
    "    \n",
    "    \n",
    "<div class=\"alert alert-warning\">\n",
    "\n",
    "\n",
    "\n",
    "Совет 🤔:    \n",
    "    \n",
    "    \n",
    "    \n",
    "Чтобы решить задание в \"лоб\" достаточно как в арифметике сделать ряд преобразований (скобочки раскрыть, сократить итп итд). Вообще тут много аналогий:  в \"мире матриц\" умножив единичную матрица на вектор или матрицу получаем тот же самый вектор или матрицу, в \"мире цифр\" это как умножив число на 1, получить тоже самое число. Если умножить матрицу на обратную ей матрицу получаем единичную матрицу, точно также если умножить число на обратное ей число получаем единицу. Есть конечно ограничения которые надо учитывать: обратная матрица существует только у квадратной матрицы, и матрицей не цифры, поэтому менять их местами при перемножении мы можем\n",
    "      \n",
    "\n",
    "Стандартные правила преобразования для решения задачи:    \n",
    "\n",
    "$$\n",
    "(AB)^T=B^T A^T\n",
    "$$\n",
    "\n",
    "$$\n",
    "A A^{-1} = A^{-1} A = E\n",
    "$$\n",
    "    \n",
    "    \n",
    "$$\n",
    "AE = EA = A\n",
    "$$  \n",
    "    \n",
    "И обрати внимание на:\n",
    "    \n",
    "    \n",
    "$$(ABC)^{-1} = C^{-1}(AB)^{-1} = (BC)^{-1}A^{-1} = C^{-1}B^{-1}A^{-1},$$\n",
    "    \n",
    "😏    \n",
    "  \n",
    "\n",
    "\n",
    "  \n",
    "Есть ещё один способ доказательства   когда мы берём\n",
    "    \n",
    "    \n",
    "$$\n",
    "w = \\arg\\min_w MSE(Xw, y)\n",
    "$$\n",
    "    \n",
    "  \n",
    "и     \n",
    "    \n",
    "$$\n",
    "w_P = \\arg\\min_{w_P} MSE(XPw_p, y)\n",
    "$$  \n",
    "   \n",
    "\n",
    " \n",
    "    \n",
    "И делая  замену    w_p, видим что задача  \n",
    "    \n",
    "$$\n",
    "\\arg\\min_w MSE(XPw_p, y)\n",
    "$$\n",
    "    \n",
    "сводится к     \n",
    "  \n",
    "    \n",
    "$$\n",
    "\\arg\\min_w MSE(Xw, y)\n",
    "$$    \n",
    "\n",
    "\n",
    "Осталось только догадаться какую замену мы делаем.  Можешь попробовать решить и таким способом  \n",
    "\n",
    "  \n",
    "</div>\n",
    "    \n",
    "\n",
    "    \n",
    "\n",
    "\n"
   ]
  },
  {
   "cell_type": "markdown",
   "id": "df08815a",
   "metadata": {},
   "source": [
    "<div style=\"background: #91ff7e; padding: 5px; border: 1px solid Black; border-radius: 5px;\">\n",
    "    КОММЕНТАРИЙ СТУДЕНТА V01\n",
    "    <br/>\n",
    "    По поводу связи векторов весов в исходной задаче и преобразованной я, думаю, понял, что имеется в виду и добавил это в ячейку ниже. <br>\n",
    "    Вторую часть я не уверен, что понял, но добавил, как думаю\n",
    "</div>"
   ]
  },
  {
   "cell_type": "markdown",
   "id": "9786ce16",
   "metadata": {},
   "source": [
    "**Вопрос**: как связаны параметры линейной регрессии в исходной задаче и преобразованной?\n",
    "\n",
    "**Ответ**: $$w_{p}=K^{-1} \\cdot w$$\n",
    "Где $w$ - вектор весов в исходной задаче  \n",
    "$w_p$ - вектор весов в преобразованной задаче  \n",
    "$K$ - обратимая матрица, на которую умножается исходная  \n",
    "\n",
    "**Обоснование**:  \n",
    "Формула обучения в исходной задаче:\n",
    "$$\n",
    "w = (X^T X)^{-1} X^T y\n",
    "$$\n",
    "Формула обучения в преобразованной задаче:\n",
    "$$\n",
    "w_p = ((XK)^T XK)^{-1} (XK)^T y\n",
    "$$\n",
    "\n",
    "Раскроем формулу для преобразованной задачи:\n",
    "\n",
    "$$\n",
    "w_p = (K^T X^T XK)^{-1} K^T X^T y\n",
    "$$\n",
    "\n",
    "$K^T$, $X^T X$ и $K$ - квадратные матрицы, соответственно степень -1 можно раскрыть\n",
    "\n",
    "$$\n",
    "w_p = (K^T)^{-1} (X^T X)^{-1} K^{-1} K^T X^T y\n",
    "$$\n",
    "\n",
    "$(K^T)^{-1}$ сокращаются с $K^T$, полуается\n",
    "\n",
    "$$\n",
    "w_p = (X^T X)^{-1} K^{-1} X^T y\n",
    "$$\n",
    "\n",
    "Теперь из формулы первоначальной постановки задачи выразим $X^T y$ умножив ее всю на матрицу, обратную квадратной $(X^T X)^{-1}$, т.е. $(X^T X)$:\n",
    "\n",
    "$$\n",
    "X^T y = w(X^T X)\n",
    "$$\n",
    "\n",
    "Подставляем получившееся выражение в раскрытую формулу преобразованной задачи, получаем:\n",
    "\n",
    "$$\n",
    "w_p = (X^T X)^{-1} K^{-1} w(X^T X)\n",
    "$$\n",
    " \n",
    "$(X^T X)^{-1}$ сокращается с $(X^T X)$, получается:\n",
    "\n",
    "$$\n",
    "w_p = K^{-1} w\n",
    "$$\n",
    "\n",
    "Это и есть связь векторов в исходной задаче и преобразованной.\n",
    "\n",
    "---\n",
    "\n",
    "Используя полученную связь $w$ и $w_p$ можно доказать, что решения задачи обучения будут идентичными между $w$ и $w_p$:\n",
    "\n",
    "$$\n",
    "w = \\arg\\min_w MSE(Xw, y)\n",
    "$$\n",
    "\n",
    "$$\n",
    "w_p = \\arg\\min_w MSE(XKw_p, y)\n",
    "$$\n",
    "\n",
    "Во втором равенстве $w_p$ заменяем на $w \\cdot K^{-1}$, получаем\n",
    "\n",
    "$$\n",
    "w_p = \\arg\\min_w MSE(XK \\cdot K^{-1} w, y)\n",
    "$$\n",
    "\n",
    "Что сокращается до\n",
    "\n",
    "$$\n",
    "w_p = \\arg\\min_w MSE(X \\cdot w, y)\n",
    "$$\n",
    "\n",
    "И получается, что и для $w$, и для $w_p$ достигаются равные минимальные $MSE$."
   ]
  },
  {
   "cell_type": "markdown",
   "id": "a0393060",
   "metadata": {},
   "source": [
    "\n",
    "\n",
    "<div class=\"alert alert-danger\">\n",
    "<font size=\"5\"><b>Комментарий ревьюераV2</b></font>\n",
    "\n",
    "Ошибка ❌:\n",
    "    \n",
    "  \n",
    "\n",
    "  \n",
    "Направление твоего доказательства верное - берем формулу, подставляем, немножко математической магии: открываем скобки, сокращаем итп итд, как в обычной арифметике и вуаля! Но  надо учитывать: обратная матрица существует только у квадратной матрицы, поэтому:  \n",
    "    \n",
    "$$\n",
    "(AB)^{-1} = B^{-1} A^{-1}\n",
    "$$\n",
    "    \n",
    "только когда у нас A и B квадратные, Может когда то в линейную алгебру введут \"мнимые матрицы\", по подобию \"мнимых чисел\" )) Но пока не ввели, поэтому перепрыгивать через этот момент не можем, это как на ноль делить\n",
    "      \n",
    "  \n",
    "А $X$ не квадратная матрица и $ XP $ не дает нам  квадратную матрицу (размерность $X$ 5000на4, размерность $P$ 4на4, значит если перемножить $XP$  получим мтарицу 5000на4 - не квадратная матрица), а если так, то обратной матрицы у ней нет, \"делим на 0\".\n",
    "\n",
    "\n",
    "И вот эту формулу неправильно применил:\n",
    "    \n",
    "    \n",
    "$$\n",
    "(AB)^T=B^T A^T\n",
    "$$\n",
    "    \n",
    "    \n",
    "    \n",
    "    \n",
    "\n",
    "Соответственно и соотношение получил не совсем верное    \n",
    "    \n",
    "<div class=\"alert alert-warning\">\n",
    "\n",
    "Совет 🤔:\n",
    "\n",
    "\n",
    "Так давай сначала раскроем под знаком транспонирования:\n",
    "    \n",
    "$$\n",
    "w' = (P^T X^T X P)^{-1} (XP)^T y\n",
    "$$\n",
    "    \n",
    "А теперь поставим скобочки чтобы лучше было видно: \n",
    "    \n",
    "    \n",
    "$$\n",
    "w' = (P^T (X^T X) P)^{-1} P^T X^T y\n",
    "$$    \n",
    "    \n",
    "\n",
    "и видим 3 квадратные матрицы!\n",
    "    \n",
    "$\n",
    "P^T, (X^T X), P\n",
    "$   \n",
    "    \n",
    "Используем правило:\n",
    "    \n",
    "    \n",
    "$$(ABC)^{-1} = C^{-1}(AB)^{-1} = (BC)^{-1}A^{-1} = C^{-1}B^{-1}A^{-1}$$\n",
    "    \n",
    "    \n",
    "    \n",
    "следовательно раскрываем так:\n",
    "\n",
    "    \n",
    "$$\n",
    "w' = P^{-1} (X^T X)^{-1} (P^T)^{-1} P^T X^T y\n",
    "$$    \n",
    "\n",
    "\n",
    "\n",
    "А дальше сам...."
   ]
  },
  {
   "cell_type": "markdown",
   "id": "afa29d74",
   "metadata": {},
   "source": [
    "## Алгоритм преобразования"
   ]
  },
  {
   "cell_type": "markdown",
   "id": "fba1b9a6",
   "metadata": {},
   "source": [
    "### Описание и обоснование алгоритма"
   ]
  },
  {
   "cell_type": "markdown",
   "id": "ed28b81e",
   "metadata": {},
   "source": [
    "**Алгоритм**\n",
    "\n",
    "Исходную матрицу признаков размерностью $mxn$ умножим на случайно сгенерированную матрицу размерностью $nxn$, т.е.   \n",
    "\n",
    "$$\n",
    "E_{mxn} = X_{mxn} \\cdot K_{nxn}\n",
    "$$\n",
    "\n",
    "Где  \n",
    "$E$ - закодированные предикторы  \n",
    "$X$ - исходные предикторы  \n",
    "$K$ - матрица-ключ"
   ]
  },
  {
   "cell_type": "markdown",
   "id": "3bd2c191",
   "metadata": {},
   "source": [
    "\n",
    "\n",
    "\n",
    "<div class=\"alert alert-danger\">\n",
    "<font size=\"5\"><b>Комментарий ревьюера</b></font>\n",
    "\n",
    "Илья, тут мы по пунктам расписываем словами порядок наших действий, с учетом: что за матрица, каким уcловиям она должна соответствовать, какого размера, что на что перемножаемых, что делаем если сгенерированная Матрица необратимая итд итп. Это и называется алгоритм. Там целая теория, можно схемы [рисовать](https://yandex.ru/images/search?pos=0&img_url=http%3A%2F%2Fimages.myshared.ru%2F6%2F674342%2Fslide_13.jpg&text=%D0%9F%D1%80%D0%B0%D0%B2%D0%B8%D0%BB%D0%B0%20%D0%BD%D0%B0%D0%BF%D0%B8%D1%81%D0%B0%D0%BD%D0%B8%D1%8F%20%D0%B0%D0%BB%D0%B3%D0%BE%D1%80%D0%B8%D1%82%D0%BC%D0%B0%20%D0%B0%D0%BB%D0%B3%D0%BE%D1%80%D0%B8%D1%82%D0%BC%D0%B0%20%D0%BD%D0%B0%20%D0%BF%D0%B8%D1%82%D0%BE%D0%BD%D0%B5&lr=43&rpt=simage&source=serp&rlt_url=https%3A%2F%2Ffs.znanio.ru%2Fd5af0e%2F50%2F9c%2Ffc07a3f83eed5c7e727ae0bb808ea8b774.jpg&ogl_url=http%3A%2F%2Fimages.myshared.ru%2F6%2F674342%2Fslide_13.jpg)\n",
    "\n",
    "\n",
    "А затем на основе этого алгоритма пишем код ниже"
   ]
  },
  {
   "cell_type": "markdown",
   "id": "a185c455",
   "metadata": {},
   "source": [
    "<div style=\"background: #91ff7e; padding: 5px; border: 1px solid Black; border-radius: 5px;\">\n",
    "    КОММЕНТАРИЙ СТУДЕНТА V01\n",
    "    <br/>\n",
    "    Окей, расписал алгоритм по пунктам в ячейке ниже.\n",
    "</div>"
   ]
  },
  {
   "cell_type": "markdown",
   "id": "3e62caae",
   "metadata": {},
   "source": [
    "**Алгоритм v.2**\n",
    "\n",
    "Предположим, что исходная матрица имеет размерность $mxn$, где $m$ - число наблюдений, $n$ - число предикторов.  \n",
    "Тогда алгоритм получается следующий:\n",
    "\n",
    "1) Генерируем случайным образом матрицу-ключ размерностью $nxn$. Значения в матрице не так важны, но в данном случае примем, что значения находятся в диапазоне $(0, 1)$ и распределены нормально.\n",
    "2) Проверяем матрицу на обратимость. Если матрица необратима, то возвращаемся к п. 1, в остальных случаях идем на следующий пункт.\n",
    "3) Умножаем исходную матрицу $mxn$ на матрицу-ключ размером $nxn$, получаем зашифрованную матрицу размером $mxn$.\n",
    "4) Зашифрованную матрицу используем для всех тех же целей, что и исходную, т.е. обучаем на ней модели, делаем предсказания и т.д.\n"
   ]
  },
  {
   "cell_type": "markdown",
   "id": "8875557f",
   "metadata": {},
   "source": [
    "<div class=\"alert alert-success\">\n",
    "<font size=\"5\"><b>Комментарий ревьюераV2</b></font>\n",
    "\n",
    "\n",
    "\n",
    "Успех 👍:\n",
    "\n",
    "\n",
    "\n",
    "Отлично\n",
    "\n",
    "\n",
    "\n",
    "\n",
    "</div>\n"
   ]
  },
  {
   "cell_type": "markdown",
   "id": "e0f2f8de",
   "metadata": {},
   "source": [
    "**Обоснование**\n",
    "\n",
    "Полное обоснование приведено выше. Умножение исходной матрицы размерностью $mxn$ на матрицу размерностью $nxn$ позволит сохранить размерность исходной матрицы и не повлияет на поиск вектора весов."
   ]
  },
  {
   "cell_type": "markdown",
   "id": "108280cb",
   "metadata": {},
   "source": [
    "### Имплементация алгоритма"
   ]
  },
  {
   "cell_type": "code",
   "execution_count": 9,
   "id": "25abe68d",
   "metadata": {},
   "outputs": [],
   "source": [
    "def generate_key(features:np.ndarray, seed=None):\n",
    "    '''\n",
    "    Generates a key used to encode features\n",
    "    Takes an m x n sized array of features along with an optional RNG seed\n",
    "    Returns an n x n sized key array\n",
    "    '''\n",
    "    \n",
    "    generator = np.random.default_rng(seed)\n",
    "    key = generator.random((features.shape[1], features.shape[1]))\n",
    "    \n",
    "    ## testing the key for invertibility\n",
    "    try:\n",
    "        dummy = np.linalg.inv(key)\n",
    "    except LinAlgError:\n",
    "        key = generate_key(features, seed)\n",
    "    \n",
    "    return key\n",
    "\n",
    "def encode_features(features:np.ndarray, key:np.ndarray) -> np.ndarray:\n",
    "    '''\n",
    "    Returns an encoded features array using a provided key, i.e. dot product of the features and the key\n",
    "    '''\n",
    "    \n",
    "    return np.dot(features, key)"
   ]
  },
  {
   "cell_type": "markdown",
   "id": "7b34c875",
   "metadata": {},
   "source": [
    "## Проверка алгоритма"
   ]
  },
  {
   "cell_type": "markdown",
   "id": "c05b222e",
   "metadata": {},
   "source": [
    "### Разделение данных на целевой признак и предикторы"
   ]
  },
  {
   "cell_type": "markdown",
   "id": "cfbe4708",
   "metadata": {},
   "source": [
    "Проверим алгоритм обучив две модели: одну на исходных данных, другую на закодированных."
   ]
  },
  {
   "cell_type": "markdown",
   "id": "32ba16a5",
   "metadata": {},
   "source": [
    "Начнем с разделения исходных данных на целевой признак и предикторы."
   ]
  },
  {
   "cell_type": "code",
   "execution_count": 10,
   "id": "5c7397de",
   "metadata": {},
   "outputs": [],
   "source": [
    "target = data[\"Страховые выплаты\"]\n",
    "features = data.drop(\"Страховые выплаты\", axis=1)"
   ]
  },
  {
   "cell_type": "markdown",
   "id": "8005bf90",
   "metadata": {},
   "source": [
    "Теперь можно обучать модели, начнем с контрольной"
   ]
  },
  {
   "cell_type": "markdown",
   "id": "13f49e80",
   "metadata": {},
   "source": [
    "### Обучение: контроль"
   ]
  },
  {
   "cell_type": "code",
   "execution_count": 11,
   "id": "6df1aa16",
   "metadata": {},
   "outputs": [
    {
     "name": "stdout",
     "output_type": "stream",
     "text": [
      "R2 на контрольной модели: 0.42494550\n"
     ]
    }
   ],
   "source": [
    "model_base = LinearRegression()\n",
    "model_base.fit(features, target)\n",
    "predictions_base = model_base.predict(features)\n",
    "print(\"R2 на контрольной модели: {0:.8f}\".format(r2_score(target, predictions_base)))"
   ]
  },
  {
   "cell_type": "markdown",
   "id": "6c781d79",
   "metadata": {},
   "source": [
    "Базовое значение есть, теперь закодируем предикторы и проверим, изменится ли $R^2$."
   ]
  },
  {
   "cell_type": "markdown",
   "id": "b2f86ae7",
   "metadata": {},
   "source": [
    "### Обучение: кодировка"
   ]
  },
  {
   "cell_type": "markdown",
   "id": "5ff41f7a",
   "metadata": {},
   "source": [
    "Теперь закодируем наши признаки и обучим на них модель"
   ]
  },
  {
   "cell_type": "code",
   "execution_count": 12,
   "id": "a1e6b6f9",
   "metadata": {},
   "outputs": [],
   "source": [
    "key = generate_key(features, seed=111)\n",
    "features_encoded = encode_features(features, key)"
   ]
  },
  {
   "cell_type": "markdown",
   "id": "7bf846e0",
   "metadata": {},
   "source": [
    "<div class=\"alert alert-danger\">\n",
    "<font size=\"5\"><b>Комментарий ревьюера</b></font>\n",
    "\n",
    "Ошибка ❌:\n",
    "\n",
    "    \n",
    "    \n",
    "А откуда мы знаем что сгенерированная матрица обратимая (вероятность невысокая, но она есть)? Это нужно проверять, и если она получится не обратимой, генерировать опять    \n",
    "\n",
    "    \n",
    "    \n",
    "<div class=\"alert alert-warning\">\n",
    "\n",
    "\n",
    "\n",
    "Совет 🤔:\n",
    "\n",
    "\n",
    "- Можно использовать функцию с конструкцией while: будем генерировать случайные матрицы, пока не получим с детерминантом не равным нулю или можно использовать рекурсию\n",
    "    \n",
    "   "
   ]
  },
  {
   "cell_type": "markdown",
   "id": "382e0551",
   "metadata": {},
   "source": [
    "<div style=\"background: #91ff7e; padding: 5px; border: 1px solid Black; border-radius: 5px;\">\n",
    "    КОММЕНТАРИЙ СТУДЕНТА V01\n",
    "    <br/>\n",
    "    Хорошее замечание, добавил проверку на обратимость в объявление функции в ячейке выше.\n",
    "</div>"
   ]
  },
  {
   "cell_type": "markdown",
   "id": "8571e691",
   "metadata": {},
   "source": [
    "<div class=\"alert alert-success\">\n",
    "<font size=\"5\"><b>Комментарий ревьюераV2</b></font>\n",
    "\n",
    "\n",
    "\n",
    "Успех 👍:\n",
    "\n",
    "\n",
    "\n",
    "Применил рекурсию, отлично\n",
    "\n",
    "\n",
    "\n",
    "\n",
    "</div>\n"
   ]
  },
  {
   "cell_type": "markdown",
   "id": "b5d02495",
   "metadata": {},
   "source": [
    "На всякий случай убедимся, что из закодированных данных никакой полезной информации извлечь нельзя."
   ]
  },
  {
   "cell_type": "code",
   "execution_count": 13,
   "id": "1454647c",
   "metadata": {},
   "outputs": [
    {
     "name": "stdout",
     "output_type": "stream",
     "text": [
      "[[12280.39056049  9801.74956277 16812.07175559 35526.01023241]\n",
      " [ 9419.46250526  7510.96597919 12891.55755552 27231.35595822]\n",
      " [ 5208.19590262  4150.95800742  7126.9165567  15051.8554918 ]\n",
      " ...\n",
      " [ 8387.09213941  6698.73537621 11484.28809265 24273.89676698]\n",
      " [ 8092.52077404  6462.52254976 11080.85635144 23418.93055123]\n",
      " [10047.86798458  8022.70514389 13757.22317613 29074.66145254]]\n"
     ]
    }
   ],
   "source": [
    "print(features_encoded)"
   ]
  },
  {
   "cell_type": "markdown",
   "id": "0dd4ca76",
   "metadata": {},
   "source": [
    "Так и есть, просто набор неких цифр."
   ]
  },
  {
   "cell_type": "code",
   "execution_count": 14,
   "id": "5b67c371",
   "metadata": {},
   "outputs": [
    {
     "name": "stdout",
     "output_type": "stream",
     "text": [
      "R2 на закодированных предикторах: 0.42494550\n"
     ]
    }
   ],
   "source": [
    "model_encoded = LinearRegression()\n",
    "model_encoded.fit(features_encoded, target)\n",
    "predictions_encoded = model_encoded.predict(features_encoded)\n",
    "print(\"R2 на закодированных предикторах: {0:.8f}\".format(r2_score(target, predictions_encoded)))"
   ]
  },
  {
   "cell_type": "markdown",
   "id": "cfea48ec",
   "metadata": {},
   "source": [
    "Значение R2 совпадает с контрольным, кодировка не влияет на результат обучения модели, но теперь из признаков никакой информации извлечь нельзя."
   ]
  },
  {
   "cell_type": "markdown",
   "id": "1c25ed31",
   "metadata": {},
   "source": [
    "### Проверка декодировки"
   ]
  },
  {
   "cell_type": "markdown",
   "id": "a37206f2",
   "metadata": {},
   "source": [
    "По идее, ключ можно использовать для обратной расшифровки умножив закодированную матрицу на обратный ключ.\n",
    "\n",
    "Проверим это."
   ]
  },
  {
   "cell_type": "code",
   "execution_count": 15,
   "id": "53813096",
   "metadata": {},
   "outputs": [
    {
     "data": {
      "text/html": [
       "<div>\n",
       "<style scoped>\n",
       "    .dataframe tbody tr th:only-of-type {\n",
       "        vertical-align: middle;\n",
       "    }\n",
       "\n",
       "    .dataframe tbody tr th {\n",
       "        vertical-align: top;\n",
       "    }\n",
       "\n",
       "    .dataframe thead th {\n",
       "        text-align: right;\n",
       "    }\n",
       "</style>\n",
       "<table border=\"1\" class=\"dataframe\">\n",
       "  <thead>\n",
       "    <tr style=\"text-align: right;\">\n",
       "      <th></th>\n",
       "      <th>Пол</th>\n",
       "      <th>Возраст</th>\n",
       "      <th>Зарплата</th>\n",
       "      <th>Члены семьи</th>\n",
       "    </tr>\n",
       "  </thead>\n",
       "  <tbody>\n",
       "    <tr>\n",
       "      <th>0</th>\n",
       "      <td>1.000000e+00</td>\n",
       "      <td>41.0</td>\n",
       "      <td>49600.0</td>\n",
       "      <td>1.000000e+00</td>\n",
       "    </tr>\n",
       "    <tr>\n",
       "      <th>1</th>\n",
       "      <td>0.000000e+00</td>\n",
       "      <td>46.0</td>\n",
       "      <td>38000.0</td>\n",
       "      <td>1.000000e+00</td>\n",
       "    </tr>\n",
       "    <tr>\n",
       "      <th>2</th>\n",
       "      <td>0.000000e+00</td>\n",
       "      <td>29.0</td>\n",
       "      <td>21000.0</td>\n",
       "      <td>-1.455192e-11</td>\n",
       "    </tr>\n",
       "    <tr>\n",
       "      <th>3</th>\n",
       "      <td>-7.275958e-12</td>\n",
       "      <td>21.0</td>\n",
       "      <td>41700.0</td>\n",
       "      <td>2.000000e+00</td>\n",
       "    </tr>\n",
       "    <tr>\n",
       "      <th>4</th>\n",
       "      <td>1.000000e+00</td>\n",
       "      <td>28.0</td>\n",
       "      <td>26100.0</td>\n",
       "      <td>0.000000e+00</td>\n",
       "    </tr>\n",
       "  </tbody>\n",
       "</table>\n",
       "</div>"
      ],
      "text/plain": [
       "            Пол  Возраст  Зарплата   Члены семьи\n",
       "0  1.000000e+00     41.0   49600.0  1.000000e+00\n",
       "1  0.000000e+00     46.0   38000.0  1.000000e+00\n",
       "2  0.000000e+00     29.0   21000.0 -1.455192e-11\n",
       "3 -7.275958e-12     21.0   41700.0  2.000000e+00\n",
       "4  1.000000e+00     28.0   26100.0  0.000000e+00"
      ]
     },
     "metadata": {},
     "output_type": "display_data"
    },
    {
     "data": {
      "text/html": [
       "<div>\n",
       "<style scoped>\n",
       "    .dataframe tbody tr th:only-of-type {\n",
       "        vertical-align: middle;\n",
       "    }\n",
       "\n",
       "    .dataframe tbody tr th {\n",
       "        vertical-align: top;\n",
       "    }\n",
       "\n",
       "    .dataframe thead th {\n",
       "        text-align: right;\n",
       "    }\n",
       "</style>\n",
       "<table border=\"1\" class=\"dataframe\">\n",
       "  <thead>\n",
       "    <tr style=\"text-align: right;\">\n",
       "      <th></th>\n",
       "      <th>Пол</th>\n",
       "      <th>Возраст</th>\n",
       "      <th>Зарплата</th>\n",
       "      <th>Члены семьи</th>\n",
       "    </tr>\n",
       "  </thead>\n",
       "  <tbody>\n",
       "    <tr>\n",
       "      <th>0</th>\n",
       "      <td>1</td>\n",
       "      <td>41</td>\n",
       "      <td>49600</td>\n",
       "      <td>1</td>\n",
       "    </tr>\n",
       "    <tr>\n",
       "      <th>1</th>\n",
       "      <td>0</td>\n",
       "      <td>46</td>\n",
       "      <td>38000</td>\n",
       "      <td>1</td>\n",
       "    </tr>\n",
       "    <tr>\n",
       "      <th>2</th>\n",
       "      <td>0</td>\n",
       "      <td>29</td>\n",
       "      <td>21000</td>\n",
       "      <td>0</td>\n",
       "    </tr>\n",
       "    <tr>\n",
       "      <th>3</th>\n",
       "      <td>0</td>\n",
       "      <td>21</td>\n",
       "      <td>41700</td>\n",
       "      <td>2</td>\n",
       "    </tr>\n",
       "    <tr>\n",
       "      <th>4</th>\n",
       "      <td>1</td>\n",
       "      <td>28</td>\n",
       "      <td>26100</td>\n",
       "      <td>0</td>\n",
       "    </tr>\n",
       "  </tbody>\n",
       "</table>\n",
       "</div>"
      ],
      "text/plain": [
       "   Пол  Возраст  Зарплата  Члены семьи\n",
       "0    1       41     49600            1\n",
       "1    0       46     38000            1\n",
       "2    0       29     21000            0\n",
       "3    0       21     41700            2\n",
       "4    1       28     26100            0"
      ]
     },
     "metadata": {},
     "output_type": "display_data"
    }
   ],
   "source": [
    "features_decoded = pd.DataFrame(np.dot(features_encoded, np.linalg.inv(key)), columns=features.columns)\n",
    "\n",
    "display(features_decoded.head())\n",
    "display(features.head())"
   ]
  },
  {
   "cell_type": "markdown",
   "id": "0d462453",
   "metadata": {},
   "source": [
    "Не считая артефактов точности чисел с плавающей запятой, получились исходные данные, декодировка работает."
   ]
  },
  {
   "cell_type": "markdown",
   "id": "2fbf3718",
   "metadata": {},
   "source": [
    "\n",
    "\n",
    "<div class=\"alert alert-success\">\n",
    "<font size=\"5\"><b>Комментарий ревьюера</b></font>\n",
    "\n",
    "Успех 👍:\n",
    "    \n",
    "Все сошлось\n",
    "\n",
    "\n",
    "\n",
    "<div class=\"alert alert-warning\">\n",
    "\n",
    "\n",
    "Совет 🤔: \n",
    "    \n",
    "\n",
    "\n",
    "- каноны ML - когда мы моделируем, разбиваем датасет на несколько, используя train для обучения и test для проверки, опять же это никак не изменит выводы, но каноны стоит уважать\n",
    "   "
   ]
  },
  {
   "cell_type": "markdown",
   "id": "5e939d7e",
   "metadata": {},
   "source": [
    "## Выводы"
   ]
  },
  {
   "cell_type": "markdown",
   "id": "40803dba",
   "metadata": {},
   "source": [
    "* Умножение матрицы признаков на обратимую матрицу не влияет на качество обучения модели линейной регрессии, при условии того, что результирующая матрица сохранит размерность исходной.\n",
    "* Для кодирования исходных данных размероностью $mxn$ предлагается их умножение на случайно сгененированную матрицу размерностью $nxn$ (ключ).\n",
    "* Исходные данные можно восстановить из закодированных умножив их на обратный ключ."
   ]
  },
  {
   "cell_type": "markdown",
   "id": "a004065d",
   "metadata": {},
   "source": [
    "\n",
    "<div class=\"alert alert-info\">\n",
    "<font size=\"5\"><b>Комментарий ревьюера</b></font>\n",
    "\n",
    "\n",
    "\n",
    "\n",
    "Спасибо Илья за проделанную работу, к сожалению, сейчас я не могу принять твой проект, поэтому мы с тобой еще пообщаемся )\n",
    "\n",
    "    \n",
    "\n",
    "\n",
    "Я оставил небольшие советы и вопросики (если есть время и желание можешь воспользоваться/ответить)\n",
    "    \n",
    "\n",
    "\n",
    "Обязательное к исправлению:\n",
    "\n",
    "\n",
    "\n",
    "    \n",
    "- дорабатываем теоретическое доказательство, с учетом моих комментариев   \n",
    "\n",
    "\n",
    "- выводим соотношение между  𝑤  и  𝑤𝑝 \n",
    "\n",
    "\n",
    "\n",
    "\n",
    " \n",
    "- описываем и объясняем алгоритм преобразования\n",
    "\n",
    "\n",
    "\n",
    "\n",
    "\n",
    "\n",
    "- нет проверки на обратимость \n",
    "    \n",
    "    \n",
    "    \n",
    "    \n",
    "    \n",
    "Жду исправлений, для принятия проекта. Если какие то вопросы, то сразу спрашивай ) \n",
    "\n",
    "\n",
    "\n",
    "\n",
    "\n",
    "\n",
    "\n",
    "\n",
    "<div class=\"alert alert-warning\">\n",
    "<b>Комментарий ревьюера</b>\n",
    "\n",
    "\n",
    "\n",
    "На мой взгляд проект очень необычный, выделяющийся из остальных проектов потому что касается раздела математики лежащей в основе машинного обучения  (помимо производных, матанализа и теории вероятности с матстатистикой). Если в дальнейшем ты углубишься в изучении нейростетей, то понимание линейной алгебры будет очень полезным, потому что, по сути, все нейросети - это перемножение матриц и Линейная алгебра даёт очень компактный способ записи того что происходит в нейросетях. \n",
    "    \n",
    "    \n",
    "    \n",
    "Возможно будет полезно:\n",
    "    \n",
    "    \n",
    "- Теория по обратным матрицам:  [тут](https://www.berdov.com/works/matrix/obratnaya-matrica/)\n",
    "\n",
    "    \n",
    "- Если хочешь посмотреть вообще про линейную алгебру и матрицы, то мне нравится  вот это [видео](https://www.youtube.com/watch?v=RNTRYicPvWQ&list=PLVjLpKXnAGLXPaS7FRBjd5yZeXwJxZil2), рассказывается по существу и увлекательно.  \n",
    "\n",
    "\n",
    "- по применению криптографии в машинном обучении на английском: [тут](https://www.cs.cmu.edu/~rjhall/JOS_revised_May_31a.pdf)\n",
    "\n",
    "\n"
   ]
  },
  {
   "cell_type": "markdown",
   "id": "4eb7a5a7",
   "metadata": {},
   "source": [
    "\n",
    "<div class=\"alert alert-info\">\n",
    "<font size=\"5\"><b>Комментарий ревьюераV2</b></font>\n",
    "\n",
    "Спасибо за работу!    \n",
    "\n",
    "    \n",
    "    \n",
    "Что остался из красного:\n",
    "    \n",
    "    \n",
    "- Есть неточности доказательстве, соответственно и соотношение получилось неверным    "
   ]
  },
  {
   "cell_type": "markdown",
   "id": "f467ca4e",
   "metadata": {},
   "source": [
    "## Чек-лист проверки"
   ]
  },
  {
   "cell_type": "markdown",
   "id": "754bd4eb",
   "metadata": {},
   "source": [
    "Поставьте 'x' в выполненных пунктах. Далее нажмите Shift+Enter."
   ]
  },
  {
   "cell_type": "markdown",
   "id": "6bd653e3",
   "metadata": {},
   "source": [
    "- [x]  Jupyter Notebook открыт\n",
    "- [x]  Весь код выполняется без ошибок\n",
    "- [x]  Ячейки с кодом расположены в порядке исполнения\n",
    "- [x]  Выполнен шаг 1: данные загружены\n",
    "- [x]  Выполнен шаг 2: получен ответ на вопрос об умножении матриц\n",
    "    - [x]  Указан правильный вариант ответа\n",
    "    - [x]  Вариант обоснован\n",
    "- [x]  Выполнен шаг 3: предложен алгоритм преобразования\n",
    "    - [x]  Алгоритм описан\n",
    "    - [x]  Алгоритм обоснован\n",
    "- [x]  Выполнен шаг 4: алгоритм проверен\n",
    "    - [x]  Алгоритм реализован\n",
    "    - [x]  Проведено сравнение качества моделей до и после преобразования"
   ]
  }
 ],
 "metadata": {
  "ExecuteTimeLog": [
   {
    "duration": 2949,
    "start_time": "2023-05-09T13:43:33.107Z"
   },
   {
    "duration": 27,
    "start_time": "2023-05-09T13:43:36.059Z"
   },
   {
    "duration": 23,
    "start_time": "2023-05-09T13:43:36.088Z"
   },
   {
    "duration": 11,
    "start_time": "2023-05-09T13:43:36.114Z"
   },
   {
    "duration": 8,
    "start_time": "2023-05-09T13:43:36.127Z"
   },
   {
    "duration": 33,
    "start_time": "2023-05-09T13:43:36.136Z"
   },
   {
    "duration": 7,
    "start_time": "2023-05-09T13:43:36.170Z"
   },
   {
    "duration": 2125,
    "start_time": "2023-05-09T13:43:36.179Z"
   },
   {
    "duration": 5,
    "start_time": "2023-05-09T13:43:38.306Z"
   },
   {
    "duration": 24,
    "start_time": "2023-05-09T13:43:38.313Z"
   },
   {
    "duration": 58,
    "start_time": "2023-05-09T13:43:38.339Z"
   },
   {
    "duration": 5,
    "start_time": "2023-05-09T13:43:38.399Z"
   },
   {
    "duration": 97,
    "start_time": "2023-05-09T13:43:38.407Z"
   },
   {
    "duration": 95,
    "start_time": "2023-05-09T13:43:38.506Z"
   },
   {
    "duration": 98,
    "start_time": "2023-05-09T13:43:38.606Z"
   }
  ],
  "kernelspec": {
   "display_name": "Python 3 (ipykernel)",
   "language": "python",
   "name": "python3"
  },
  "language_info": {
   "codemirror_mode": {
    "name": "ipython",
    "version": 3
   },
   "file_extension": ".py",
   "mimetype": "text/x-python",
   "name": "python",
   "nbconvert_exporter": "python",
   "pygments_lexer": "ipython3",
   "version": "3.9.16"
  },
  "toc": {
   "base_numbering": 1,
   "nav_menu": {},
   "number_sections": true,
   "sideBar": true,
   "skip_h1_title": true,
   "title_cell": "Table of Contents",
   "title_sidebar": "Contents",
   "toc_cell": true,
   "toc_position": {
    "height": "calc(100% - 180px)",
    "left": "10px",
    "top": "150px",
    "width": "291px"
   },
   "toc_section_display": true,
   "toc_window_display": false
  }
 },
 "nbformat": 4,
 "nbformat_minor": 5
}
