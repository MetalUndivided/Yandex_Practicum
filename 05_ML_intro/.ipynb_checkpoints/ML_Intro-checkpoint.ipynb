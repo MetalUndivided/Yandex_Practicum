{
 "cells": [
  {
   "cell_type": "markdown",
   "id": "fe9b3b6c",
   "metadata": {},
   "source": [
    "<div style=\"background: #B0E0E6; padding: 5px; border: 1px solid SteelBlue; border-radius: 5px;\">\n",
    "    <font color='4682B4'><u><b>КОММЕНТАРИЙ СТУДЕНТА</b></u></font>\n",
    "    <br />\n",
    "    <font color='4682B4'>Александр, приветствую!<br>\n",
    "        Рад нашей очередной встрече, помню ты проверял первый мой проект. <br>\n",
    "        Твой шаблон комментария студента я теперь таскаю по всем проектам :) <br>\n",
    "        Спасибо за комментарии и ссылки на материалы, очень полезно. <br>\n",
    "        Я оставил внизу несколько своих ответных комментариев и вопросов, заранее благодарю за ответы\n",
    "    </font>\n",
    "</div>"
   ]
  },
  {
   "cell_type": "markdown",
   "id": "b0016e79",
   "metadata": {},
   "source": [
    "Приветствую Илья! \n",
    "\n",
    "Меня зовут Александр Непомнящий и я буду проверять твой проект. Предлагаю общаться на «ты» :))) Но, если это не удобно - мы вполне можем перейти на вы\".\n",
    "\n",
    "Вкратце обо мне: я работаю в сфере информационных технологий, аналитика (анализ) данных - это и мой рабочий функционал и личная, интересная мне область для саморазвития. Используемый стек: python, pandas, графические библиотеки matplotlib/seaborn/plotly. Сфера применения: маркетинговая аналитика в медицинской клинике (Клиника «Кивач», www.kivach.ru, республика Карелия). Если вдруг есть вопрос – что делает аналитик в коммерческой медицине – то вот короткий ответ. Самый главный вопрос, на который мы хотим получить ответ (и который в дальнейшем приведёт к перераспределению рекламного бюджета, плюс напрямую повлияет на разработку и предложению рынку новых лечебных программ) - это КТО ОН, НАШ КЛИЕНТ? Фактически это задача (на нашем внутреннем языке формулируется как построение и анализ «ПОРТРЕТА КЛИЕНТА»). Визуализируем и пытаемся придать смысл половозрастным данным наших клиентов, кто из какого региона и в какие времена года к нам приезжает. Учитываем количество приездов. Учитываем на какую программу этот конкретный клиент приехал в первый раз и как в дальнейшем меняются его предпочтения. Пытаемся построить модель оттока и спрогнозировать, когда клиент уйдёт в отток. Смотрим цифры (суммы трат клиентов на отдельных группах медицинских программ). Анализируем медицинские услуги, которые входят в путёвку, а также что, в каких количествах и на какую сумму клиент покупает дополнительно. Очень вкратце как-то так.\n",
    "\n",
    "Теперь к сути: основная цель моей проверки - пройти по шагам, по логике твоего решения и обсудить те моменты, которые можно изменить, улучшить, довести до идеала. Такой формат работы двух программистов (аналитиков) ты или уже встречал(а), или встретишь на своей новой работе. Кто-то такой процесс называет \"код-ревью\", ну а как по мне, так это обмен опытом двух коллег, когда каждый из нас становиться лучше в процессе дискуссии.\n",
    "\n",
    "Свои мысли, советы, комментарии и вопросы я буду оставлять в текстовых ячейках (markdown) ПОД твоим кодом. \n",
    "Для твоего удобства все эти заметки будут \"цветными\", как на примерах ниже:\n",
    "\n",
    "\"Зелеными\" комментариями я буду отмечать твой элегантный (\"красивый\") код и/или удачные решения, на которые ты можешь смело опираться в будущих проектах.\n",
    "<div class=\"alert alert-success\">\n",
    "<b>Отлично! 👍</b>\n",
    "\n",
    "Отличная находка, элегантный код ...</div>\n",
    "\n",
    "\"Жёлтые\" комментарии - это мои размышления, предложения, что-то, что на следующей итерации можно сделать по-другому. Твоя реакция на \"жёлтые\" комментарий необходима и подразумевает или правки, или реакцию или аргументированное согласие/не согласие. Я искренне верю, что наш двусторонний диалог под \"желтым\" комментарием - это то, от чего твой проект только выиграет. <div class=\"alert alert-warning\">\n",
    "<b>Комментарий 👉</b>\n",
    "\n",
    "Здесь я бы предложил использовать .... Мои аргументы в пользу этого ...</div>\n",
    "\n",
    "\"Красные\" комментарий будут появляться, когда что-то пойдёт не так: например, код будет выдавать ошибку. Или, когда в проекте не будет ответов на основные вопросы, ради которых весь анализ и выполнялся. \"Красные\" комментарии необходимо будет исправить, прежде чем я смогу принять проект.\n",
    "<div class=\"alert alert-danger\">\n",
    "<b>Необходимо исправить ❌</b>\n",
    "\n",
    "В этой ячейке код работает не так как задумано ...</div>\n",
    "\n",
    "Пожалуйста, не перемещай, не изменяй и не удаляй мои комментарии. Это поможет мне оперативно выполнить повторную проверку твоего проекта.\n",
    "\n",
    "Давай работать над проектом в диалоге: если ты что-то меняешь в проекте по моим рекомендациям — пиши об этом, лучше всего в новой ячейке, сразу под моим комментарием. Если для своих комментариев ты будешь использовать какой-то заметный цвет, то мне будет легче отследить твои изменения, например так:\n",
    "\n",
    "<div style=\"background: #B0E0E6; padding: 5px; border: 1px solid SteelBlue; border-radius: 5px;\">\n",
    "    <font color='4682B4'><u><b>КОММЕНТАРИЙ СТУДЕНТА</b></u></font>\n",
    "    <br />\n",
    "    <font color='4682B4'>Текст твоего комментария ...</font>\n",
    "</div>\n",
    "\n",
    "Ну и наконец информируй меня в том случае, если по твоему проекту подходит дедлайн! В таком случае я приложу усилия, чтобы ты сдал(а) его вовремя; буду оперативно, в приоритете проверять итерации ревью, а также отвечать на твои вопросы, если этого будет требовать ситуация.\n",
    "\n",
    "**Распространенные типичные недочёты в проектах студентов:**\n",
    "\n",
    "<div class=\"alert alert-danger\" ❌>\n",
    "Неработоспособный код. Проверь проект на работоспособность перед отправкой на проверку. Это важный навык, который тебе пригодится как на собеседовании, при выполнении тестового задания, так и перед совещанием у руководства компании.</div>\n",
    "\n",
    "<div class=\"alert alert-danger\" ❌>\n",
    "Проект не структурирован. В проекте должна быть структура, т.е. названия разделов и подразделов должны быть записаны в ячейках Markdown.</div>\n",
    "\n",
    "<div class=\"alert alert-warning\" 👉 >\n",
    "Отсутствие описания, целей проекта, его задач, выводов. В описании должны быть озвучены поставленные задачи, содержание датасета, промежуточные и финальные выводы. Как правило, заказчик читает только финальный вывод, поэтому важно добавить информацию о проведенном исследовании, применить форматирование текста, в общем, сделать красиво, чтобы было понятно, что проведено настоящее исследование и выводу можно верить.</div>  \n",
    "\n",
    "<div class=\"alert alert-warning\" 👉 >\n",
    "\"Длинный код\". Код и и комментарии, которые прячутся за правым концом ячейки нужно переносить на новую строку. Твои будущие коллеги не оценят необходимость постоянного скроллинга. Согласно PEP8: https://www.python.org/dev/peps/pep-0008/ длина строки не должна превышать 79 символов.</div>\n",
    "\n",
    "<div class=\"alert alert-warning\" 👉 >\n",
    "Твои коллеги ценят и твое и своё время, поэтому \"подсвечивай\" свои комментарии в ячейках Markdown. Подробнее про синтаксис Markdown, с примерами, можно почитать здесь: https://paulradzkov.com/2014/markdown_cheatsheet/?</div>\n"
   ]
  },
  {
   "cell_type": "code",
   "execution_count": null,
   "id": "ad933436",
   "metadata": {},
   "outputs": [],
   "source": []
  },
  {
   "cell_type": "markdown",
   "id": "585dbf28",
   "metadata": {
    "toc": true
   },
   "source": [
    "<h1>Table of Contents<span class=\"tocSkip\"></span></h1>\n",
    "<div class=\"toc\"><ul class=\"toc-item\"><li><span><a href=\"#Импорт-и-проверка-данных\" data-toc-modified-id=\"Импорт-и-проверка-данных-1\"><span class=\"toc-item-num\">1&nbsp;&nbsp;</span>Импорт и проверка данных</a></span><ul class=\"toc-item\"><li><span><a href=\"#Импорт-данных\" data-toc-modified-id=\"Импорт-данных-1.1\"><span class=\"toc-item-num\">1.1&nbsp;&nbsp;</span>Импорт данных</a></span></li><li><span><a href=\"#Конвертация-типов-данных\" data-toc-modified-id=\"Конвертация-типов-данных-1.2\"><span class=\"toc-item-num\">1.2&nbsp;&nbsp;</span>Конвертация типов данных</a></span></li><li><span><a href=\"#Изучение-данных\" data-toc-modified-id=\"Изучение-данных-1.3\"><span class=\"toc-item-num\">1.3&nbsp;&nbsp;</span>Изучение данных</a></span></li><li><span><a href=\"#Удаление-дубликатов\" data-toc-modified-id=\"Удаление-дубликатов-1.4\"><span class=\"toc-item-num\">1.4&nbsp;&nbsp;</span>Удаление дубликатов</a></span></li></ul></li><li><span><a href=\"#Обучение-и-валидация-модели\" data-toc-modified-id=\"Обучение-и-валидация-модели-2\"><span class=\"toc-item-num\">2&nbsp;&nbsp;</span>Обучение и валидация модели</a></span><ul class=\"toc-item\"><li><span><a href=\"#Вопрос-случайных-величин-и-воспроизводимости-результатов\" data-toc-modified-id=\"Вопрос-случайных-величин-и-воспроизводимости-результатов-2.1\"><span class=\"toc-item-num\">2.1&nbsp;&nbsp;</span>Вопрос случайных величин и воспроизводимости результатов</a></span></li><li><span><a href=\"#Разделение-и-нормализация-данных\" data-toc-modified-id=\"Разделение-и-нормализация-данных-2.2\"><span class=\"toc-item-num\">2.2&nbsp;&nbsp;</span>Разделение и нормализация данных</a></span></li><li><span><a href=\"#Поиск-лучшей-модели:-логистическая-регрессия\" data-toc-modified-id=\"Поиск-лучшей-модели:-логистическая-регрессия-2.3\"><span class=\"toc-item-num\">2.3&nbsp;&nbsp;</span>Поиск лучшей модели: логистическая регрессия</a></span></li><li><span><a href=\"#Поиск-лучшей-модели:-дерево-решений\" data-toc-modified-id=\"Поиск-лучшей-модели:-дерево-решений-2.4\"><span class=\"toc-item-num\">2.4&nbsp;&nbsp;</span>Поиск лучшей модели: дерево решений</a></span></li><li><span><a href=\"#Поиск-лучшей-модели:-случайный-лес-деревьев\" data-toc-modified-id=\"Поиск-лучшей-модели:-случайный-лес-деревьев-2.5\"><span class=\"toc-item-num\">2.5&nbsp;&nbsp;</span>Поиск лучшей модели: случайный лес деревьев</a></span></li><li><span><a href=\"#Поиск-лучшей-модели:-k-ближайших-соседей\" data-toc-modified-id=\"Поиск-лучшей-модели:-k-ближайших-соседей-2.6\"><span class=\"toc-item-num\">2.6&nbsp;&nbsp;</span>Поиск лучшей модели: k ближайших соседей</a></span></li><li><span><a href=\"#Выбор-лучшей-модели\" data-toc-modified-id=\"Выбор-лучшей-модели-2.7\"><span class=\"toc-item-num\">2.7&nbsp;&nbsp;</span>Выбор лучшей модели</a></span></li><li><span><a href=\"#Проверка-на-вменяемость\" data-toc-modified-id=\"Проверка-на-вменяемость-2.8\"><span class=\"toc-item-num\">2.8&nbsp;&nbsp;</span>Проверка на вменяемость</a></span></li></ul></li><li><span><a href=\"#Выводы\" data-toc-modified-id=\"Выводы-3\"><span class=\"toc-item-num\">3&nbsp;&nbsp;</span>Выводы</a></span></li></ul></div>"
   ]
  },
  {
   "cell_type": "markdown",
   "id": "23e62ef0",
   "metadata": {},
   "source": [
    "# Модель рекомендации тарифов"
   ]
  },
  {
   "cell_type": "markdown",
   "id": "ae0bf9cd",
   "metadata": {},
   "source": [
    "## Импорт и проверка данных"
   ]
  },
  {
   "cell_type": "markdown",
   "id": "b740b69b",
   "metadata": {},
   "source": [
    "### Импорт данных"
   ]
  },
  {
   "cell_type": "code",
   "execution_count": 1,
   "id": "d874826a",
   "metadata": {},
   "outputs": [],
   "source": [
    "import pandas as pd\n",
    "import numpy as np\n",
    "import seaborn as sns\n",
    "from matplotlib import pyplot as plt\n",
    "from sklearn.model_selection import train_test_split\n",
    "from sklearn.metrics import accuracy_score\n",
    "from sklearn.linear_model import LogisticRegression\n",
    "from sklearn.tree import DecisionTreeClassifier, plot_tree\n",
    "from sklearn.preprocessing import MinMaxScaler\n",
    "from sklearn.ensemble import RandomForestClassifier\n",
    "from sklearn.neighbors import KNeighborsClassifier"
   ]
  },
  {
   "cell_type": "code",
   "execution_count": 2,
   "id": "ac2f3c7c",
   "metadata": {},
   "outputs": [],
   "source": [
    "try:\n",
    "    df = pd.read_csv(\"/datasets/users_behavior.csv\")\n",
    "except FileNotFoundError:\n",
    "    df = pd.read_csv(\"users_behavior.csv\")   ## для открытия на моей машине"
   ]
  },
  {
   "cell_type": "markdown",
   "id": "7669f3c5",
   "metadata": {},
   "source": [
    "<div class=\"alert alert-success\">\n",
    "<b>ОТЛИЧНО! 👍</b>\n",
    "\n",
    "Здесь хорошо! При такой загрузке данных и тебе комфортно работать с проектом на домашнем ПК и у меня всё ОК во время проверки проекта в Юпитер Хабе</div>"
   ]
  },
  {
   "cell_type": "markdown",
   "id": "6ec465d3",
   "metadata": {},
   "source": [
    "<div class=\"alert alert-success\">\n",
    "<b>ОТЛИЧНО! 👍</b>\n",
    "\n",
    "Отлично. Импортировали требуемые для анализа библиотеки и загрузили данные. Сейчас посмотрим на их состояние и если всё ОК, сможем приступать к построению моделей....\n",
    "</div>"
   ]
  },
  {
   "cell_type": "markdown",
   "id": "b3d6f9a7",
   "metadata": {},
   "source": [
    "Проверим, что с данными все ок"
   ]
  },
  {
   "cell_type": "code",
   "execution_count": 3,
   "id": "6b543cbd",
   "metadata": {},
   "outputs": [
    {
     "name": "stdout",
     "output_type": "stream",
     "text": [
      "      calls  minutes  messages   mb_used  is_ultra\n",
      "0      40.0   311.90      83.0  19915.42         0\n",
      "1      85.0   516.75      56.0  22696.96         0\n",
      "2      77.0   467.66      86.0  21060.45         0\n",
      "3     106.0   745.53      81.0   8437.39         1\n",
      "4      66.0   418.74       1.0  14502.75         0\n",
      "...     ...      ...       ...       ...       ...\n",
      "3209  122.0   910.98      20.0  35124.90         1\n",
      "3210   25.0   190.36       0.0   3275.61         0\n",
      "3211   97.0   634.44      70.0  13974.06         0\n",
      "3212   64.0   462.32      90.0  31239.78         0\n",
      "3213   80.0   566.09       6.0  29480.52         1\n",
      "\n",
      "[3214 rows x 5 columns]\n"
     ]
    }
   ],
   "source": [
    "print(df)"
   ]
  },
  {
   "cell_type": "code",
   "execution_count": 4,
   "id": "dd2d3fd9",
   "metadata": {},
   "outputs": [
    {
     "name": "stdout",
     "output_type": "stream",
     "text": [
      "<class 'pandas.core.frame.DataFrame'>\n",
      "RangeIndex: 3214 entries, 0 to 3213\n",
      "Data columns (total 5 columns):\n",
      " #   Column    Non-Null Count  Dtype  \n",
      "---  ------    --------------  -----  \n",
      " 0   calls     3214 non-null   float64\n",
      " 1   minutes   3214 non-null   float64\n",
      " 2   messages  3214 non-null   float64\n",
      " 3   mb_used   3214 non-null   float64\n",
      " 4   is_ultra  3214 non-null   int64  \n",
      "dtypes: float64(4), int64(1)\n",
      "memory usage: 125.7 KB\n",
      "None\n"
     ]
    }
   ],
   "source": [
    "print(df.info())"
   ]
  },
  {
   "cell_type": "markdown",
   "id": "eda5047b",
   "metadata": {},
   "source": [
    "На первый взгляд все ок, но в паре столбцов типы данных можно заменить."
   ]
  },
  {
   "cell_type": "markdown",
   "id": "e0039582",
   "metadata": {},
   "source": [
    "### Конвертация типов данных"
   ]
  },
  {
   "cell_type": "code",
   "execution_count": 5,
   "id": "4d5194c3",
   "metadata": {},
   "outputs": [],
   "source": [
    "df = df.astype({\n",
    "    \"calls\":\"int32\",\n",
    "    \"messages\":\"int32\",\n",
    "    \"is_ultra\":\"bool\"\n",
    "})"
   ]
  },
  {
   "cell_type": "markdown",
   "id": "142a2330",
   "metadata": {},
   "source": [
    "Теперь типы данных лучше соответствуют содержащимся в них величинам."
   ]
  },
  {
   "cell_type": "markdown",
   "id": "e0d64bfc",
   "metadata": {},
   "source": [
    "### Изучение данных"
   ]
  },
  {
   "cell_type": "markdown",
   "id": "baa8b00a",
   "metadata": {},
   "source": [
    "Проверим данные на наличие \"хвостов\" и аномальных значений при помощи гистограмм."
   ]
  },
  {
   "cell_type": "code",
   "execution_count": 6,
   "id": "a8339622",
   "metadata": {},
   "outputs": [
    {
     "data": {
      "image/png": "[encoded data removed]",
      "text/plain": [
       "<Figure size 1080x576 with 4 Axes>"
      ]
     },
     "metadata": {
      "needs_background": "light"
     },
     "output_type": "display_data"
    }
   ],
   "source": [
    "df.hist(figsize=(15,8));"
   ]
  },
  {
   "cell_type": "markdown",
   "id": "e8a8308b",
   "metadata": {},
   "source": [
    "Гистограммы выглядят достойно, аномальных значений и хвостов не наблюдается. Оставим их как есть."
   ]
  },
  {
   "cell_type": "markdown",
   "id": "ada3dced",
   "metadata": {},
   "source": [
    "### Удаление дубликатов"
   ]
  },
  {
   "cell_type": "markdown",
   "id": "c8cb1daa",
   "metadata": {},
   "source": [
    "На всякий случай проверимся на наличие явных дубликатов, если они есть."
   ]
  },
  {
   "cell_type": "code",
   "execution_count": 7,
   "id": "753aa584",
   "metadata": {},
   "outputs": [
    {
     "name": "stdout",
     "output_type": "stream",
     "text": [
      "\n",
      "Начальное количество данных: 3214\n",
      "Конечное количество данных: 3214\n",
      "Удалено дубликатов: 0\n",
      "\n"
     ]
    }
   ],
   "source": [
    "shape_init = df.shape\n",
    "df.drop_duplicates(inplace=True)\n",
    "print(\n",
    "\"\"\"\n",
    "Начальное количество данных: {0}\n",
    "Конечное количество данных: {1}\n",
    "Удалено дубликатов: {2}\n",
    "\"\"\".format(\n",
    "    shape_init[0],\n",
    "    df.shape[0],\n",
    "    shape_init[0] - df.shape[0]\n",
    ")\n",
    ")"
   ]
  },
  {
   "cell_type": "markdown",
   "id": "16324c8d",
   "metadata": {},
   "source": [
    "Дубликатов ожидаемо не оказалось."
   ]
  },
  {
   "cell_type": "markdown",
   "id": "47b520ea",
   "metadata": {},
   "source": [
    "На этом обработку и изучение данных можно считать завершенными.<br>\n",
    "Пропусков здесь нет, неявные дубликаты, если и есть, то с этими данными их не найти."
   ]
  },
  {
   "cell_type": "markdown",
   "id": "3718c637",
   "metadata": {},
   "source": [
    "<div class=\"alert alert-success\">\n",
    "<b>ОТЛИЧНО! 👍</b>\n",
    "\n",
    "Данные загружены, отлично.\n",
    "\n",
    "Хорошо, что применяешь метод .head()/.sample() таким образом в память не будет загружен весь датасет, объем которого может быть огромным.\n",
    "\n",
    "Методы .info, .describe, .value_counts(), .unique() как правило часто встречаются и обязательны к применению в задачах по исследованию данных, ведь с их помощью можно получить первые инсайты. \n",
    "\n",
    "Итак, мы провели предварительный анализ данных, проверили данные на наличие пропусков (*из применяемых тобой методов видно что пропусков нет*) и затем обработали их (аргументированно заполнили / удалили / оставили как есть). Теперь можно приступать собственно к построению моделей и ответам на вопросы проекта.\n",
    "</div>"
   ]
  },
  {
   "cell_type": "markdown",
   "id": "dae363bb",
   "metadata": {},
   "source": [
    "<div class=\"alert alert-warning\">\n",
    "<b>Комментарий 👉</b>\n",
    "\n",
    "Несколько моментов \"на будущее\" (сейчас забегаю чуть вперед, но будущем это будет важно) которые я хотел озвучить перед переходом к собственно исследованию:\n",
    "    \n",
    "- имеет смысл критично посмотреть на данные с точки зрения наличия пропусков в признаках (вопрос: все ли ml-модели \"любят\" пропуски?). Из результата info / describe / .duplicated() видно что пропусков нет, но я бы ещё явно это сказал. СДЕЛАНО.\n",
    "    \n",
    "- имеет смысл явно обозначить какую задачу мы будем решать: с учителем / без учителя, классификации / регрессии ...\n",
    "    \n",
    "- в моделях бинарной классификации имеет смысл смотреть на баланс классов. Два взгляда (с разных сторон) на эту проблему тут: https://alexanderdyakonov.wordpress.com/2021/05/27/imbalance/ и https://habr.com/ru/post/349078/\n",
    "    \n",
    "- имеет смысл смотреть на корреляцию признаков. При высокой их степени коррелированности возникает проблема  мультиколлиниарность признаков. Проблема \"мультиколлинеарности\" это и про переобучение модели и про её интерпретируемость и про сложность модели (содержание в модели избыточного количества переменных). В чем негативный эффект сложной модели? Вот в чем: усложняется интерпретация параметров, оценки параметров ненадежны – получаются большие стандартные ошибки, которые меняются с изменением объема наблюдений, что делает модель регрессии непригодной для прогнозирования.\n",
    "    \n",
    "А теперь давай про интерпретируемость. Согласись - это важно, чтобы результат, который выдает модель можно было бы понять и объяснить с точки зрения предметной области. В случае включения в модель коллинеарных признаков может случиться так, что коэффициенты (да, проблема присуща моделям линейным ... регрессия среди них!) могут менять знаки и попытка объяснения предметной области с помощью этих коэффициентов будет противоречить здравому смыслу.\n",
    "    \n",
    "Вот классная статья. Простым языком, на примере показана проблема. А также, что важно - разобраны варианты как её (проблему) победить. Статья: https://habr.com/ru/company/akbarsdigital/blog/592493/ \n",
    "</div>"
   ]
  },
  {
   "cell_type": "markdown",
   "id": "eb0f186a",
   "metadata": {},
   "source": [
    "## Обучение и валидация модели"
   ]
  },
  {
   "cell_type": "markdown",
   "id": "d57f484e",
   "metadata": {},
   "source": [
    "### Вопрос случайных величин и воспроизводимости результатов"
   ]
  },
  {
   "cell_type": "markdown",
   "id": "51f3325b",
   "metadata": {},
   "source": [
    "Прежде чем начинать делить данные на обучающие и валидационные, нужно определиться с тем, как поступить со случайностью.<br>\n",
    "Это важно потому что:\n",
    "1) будет неудобно обоснововать выбор модели, если при каждом обучении будет получаться новый результат\n",
    "\n",
    "2) есть шанс, что выбранная модель будет неоптимальной\n",
    "\n",
    "Соотвественно, нужно решить, как поступать со случайностью. Я вижу 3 варианта от более простых к более интересным:\n",
    "1) Перейти от стохастики к детерминистике зафиксировав сид. Плюс - легко и понятно как работает. Минус - пункт 2 из списка выше остается открытым.\n",
    "\n",
    "2) Перебрать множество заранее определенных сидов (псевдослучайная генерация). Плюс - все еще легко и понятно как работает, шанс выбрать оптимальную модель существенно выше в сравнении с предыдущим вариантом. Минус - шанс выбрать неоптимальную модель все еще остается.\n",
    "\n",
    "3) Метод Монте-Карло. Насэмплить множество случайных вариантов, построить распределения точности получившихся моделей, на основании этих распределний выбрать оптимальную модель и гиперпараметры. Плюсы - позволяет хорошо прочувствовать чувствительность моделей к изменению гиперпараметров и диапазоны возможных точностей. Минусы - можно долго ждать исполнения кода и для \"красивой\" реализации разделение данных должно быть вложено внутрь, что несколько противоречит формулировке задания."
   ]
  },
  {
   "cell_type": "markdown",
   "id": "b786fbd0",
   "metadata": {},
   "source": [
    "Из всех методов выше, думаю, пойти путем под номером <b>2</b>.\n",
    "Он, с одной стороны будет полностью воспроизводимым, а с другой стороны, существенно увеличит шанс найти удачный сид."
   ]
  },
  {
   "cell_type": "markdown",
   "id": "215bdff7",
   "metadata": {},
   "source": [
    "Для псевдослучайной генерации будем использовать вот такую случайно сгенерированную глобальную таблицу размером в 250 элементов:"
   ]
  },
  {
   "cell_type": "code",
   "execution_count": 8,
   "id": "1655844c",
   "metadata": {},
   "outputs": [],
   "source": [
    "## RTG - Random Table Global\n",
    "rtg = [6625, 1954, 5598, 7674, 5851, 9515, 3514, 9765, 2522, 7484, 7919, 5445, 1788, 2829, 7421, 7007, 3554, 2421, 3628, 3978, 5700, 1473, 1167, 2905, 8908, 1957, 6868, 6341, 1483, 9884, 9873, 3405, 3247, 5413, 5576, 7181, 7021, 1437, 8786, 1460, 2548, 8816, 9620, 9508, 7437, 1913, 9167, 9474, 1843, 4092, 6047, 2341, 8529, 2365, 1997, 8608, 7291, 3981, 3846, 4068, 2787, 5765, 6648, 1485, 5835, 5541, 7470, 8977, 4681, 4001, 7963, 6056, 6948, 4289, 1945, 4012, 4388, 5257, 6566, 4568, 3493, 9756, 3391, 1066, 1815, 4729, 7058, 6113, 8075, 2868, 9482, 2348, 2617, 4954, 8693, 2359, 7228, 1875, 1063, 1814, 6477, 9099, 4390, 1625, 7627, 6669, 5113, 2148, 1519, 4518, 5720, 2934, 3800, 7628, 9632, 8250, 1102, 5275, 3057, 4061, 2260, 3477, 6055, 3304, 4907, 5534, 7632, 2903, 9441, 7503, 8769, 2889, 6859, 1556, 4668, 4650, 2249, 3817, 7453, 1063, 4446, 1646, 4061, 2998, 8059, 5654, 5127, 5233, 9315, 9333, 3733, 7039, 1322, 3530, 9911, 6127, 7449, 1696, 9607, 4715, 1279, 4982, 8797, 7541, 2236, 1251, 2895, 2479, 9195, 2956, 2341, 9857, 6059, 6727, 4032, 3104, 7528, 1028, 4142, 3166, 6842, 9669, 1336, 6969, 3858, 8116, 2717, 9077, 4091, 5275, 5187, 4033, 7552, 5731, 2922, 9854, 4568, 9767, 5328, 3209, 1567, 8390, 8329, 6014, 9025, 3830, 4807, 9320, 7111, 2959, 5158, 5319, 2021, 1812, 7383, 8543, 6897, 6358, 7757, 1453, 9996, 5093, 6138, 8272, 7466, 3983, 9398, 8391, 1751, 7979, 9796, 8963, 3359, 9945, 3370, 4680, 5013, 2539, 5217, 3344, 5441, 5005, 2009, 8154, 7390, 8848, 6509, 3055, 2089, 9979]"
   ]
  },
  {
   "cell_type": "markdown",
   "id": "22a1f5c4",
   "metadata": {},
   "source": [
    "План действий следующий:\n",
    "1) Делим данные\n",
    "\n",
    "2) Выбираем по одной модели каждого алгоритма по результатам проверки на валидационной выборке\n",
    "\n",
    "3) Каждой из выбранных моделей даем тестовую выборку, та, что справится лучше и будет финальным выбором"
   ]
  },
  {
   "cell_type": "markdown",
   "id": "4ac245db",
   "metadata": {},
   "source": [
    "<div class=\"alert alert-warning\">\n",
    "<b>Комментарий 👉</b>\n",
    "\n",
    "Как ты относишся к такому вопросу: шаг 3 проверяем **только** для одной самой лучшей модели? Другими словами, на шаге 3 переключиться на другую модель будет методологически неверно?\n",
    "    \n",
    "----\n",
    "Тестовая выборка – полностью независимая от обучающей выборка, предназначенная для оценки качества работы модели. Без ее применения нельзя гарантировать несмещенность оценок модели (также называемую переобучением). Валидационная выборка применяется для подбора параметров, выбора признаков и других решений по конкретному алгоритму.    \n",
    "</div>"
   ]
  },
  {
   "cell_type": "markdown",
   "id": "8f530f3c",
   "metadata": {},
   "source": [
    "### Разделение и нормализация данных"
   ]
  },
  {
   "cell_type": "markdown",
   "id": "96865627",
   "metadata": {},
   "source": [
    "Как я уже написал выше, хорошо бы вложить разделение датасета в цикл, но это несколько противоречит формулировке задания. <br>\n",
    "Поэтому, датасет разделим по первому сиду таблицы выше.\n",
    "Делить будем в пропорции\n",
    "\n",
    "Обучающая - Валидационная - Тестовая\n",
    "\n",
    "    .6    -      .2       -   .2"
   ]
  },
  {
   "cell_type": "markdown",
   "id": "8be2d220",
   "metadata": {},
   "source": [
    "Но прежде чем делить данные их неплохо было бы нормализовать. Сделать это стоит потому что один из возможных кандидатов моделей - логистическая регрессия, а она работает не слишком хорошо, если диапазоны значений различных фич слишком непохожи друг на друга.\n",
    "К тому же, деревьям решений совершенно без разницы, отнормированы данные или нет, на их работу это не отразится.\n",
    "\n",
    "Для нормализации будем использовать MinMaxScaler() - 3 столбца из 4 уже имеют распределение, похожее на нормальное, этот тип скейлинга сохранит характер распределений."
   ]
  },
  {
   "cell_type": "code",
   "execution_count": 9,
   "id": "37e99f7a",
   "metadata": {},
   "outputs": [],
   "source": [
    "## Скейлинг данных\n",
    "scaler = MinMaxScaler()\n",
    "df_scaled = scaler.fit_transform(df)\n",
    "df_scaled = pd.DataFrame(df_scaled, columns=df.columns)\n",
    "\n",
    "df_scaled[\"is_ultra\"] = df_scaled[\"is_ultra\"].astype(\"bool\")\n",
    "target = df_scaled[\"is_ultra\"]\n",
    "features = df_scaled.drop(\"is_ultra\", axis=1)\n",
    "\n",
    "## Выделение обучающей выборки\n",
    "features_train, features_remains, target_train, target_remains = train_test_split(\n",
    "    features, target, test_size=.4, random_state=rtg[0]\n",
    ")\n",
    "\n",
    "## Разделение остатка на валидационную и тестовую выборки\n",
    "\n",
    "features_valid, features_test, target_valid, target_test = train_test_split(\n",
    "    features_remains, target_remains, test_size=.5, random_state=rtg[0]\n",
    ")\n",
    "\n",
    "#print(target)\n",
    "#print(features_train.info())\n",
    "#print(features_valid.info())\n",
    "#print(features_test.info())"
   ]
  },
  {
   "cell_type": "markdown",
   "id": "aaed462c",
   "metadata": {},
   "source": [
    "<div class=\"alert alert-success\">\n",
    "<b>ОТЛИЧНО! 👍</b>\n",
    "\n",
    "1. Здесь хорошо, происходит фиксация random_state. Воспроизводимость результатов разбиения выборки на обучающую (тренировочную) / тестовую / валидационную мы обеспечили, значит при всех последующих запусках нашего кода подвыборки будут идентичными.\n",
    "    \n",
    "2. Доли размеров train/test/valid 3:1:1 - хорошо.\n",
    "</div>"
   ]
  },
  {
   "cell_type": "markdown",
   "id": "4770659e",
   "metadata": {},
   "source": [
    "<div class=\"alert alert-warning\">\n",
    "<b>Комментарий 👉</b>\n",
    "\n",
    "Я бы рекомендовал после разбиения данных на выборки посмотреть на их размеры и размерности. Метод shape для этого - идеальный помощник. \"Цифры\" по выборкам покажут верно ли мы произвели \"разделение\" данных.\n",
    "\n",
    "p.s. так (**псевдокод**): X_train.shape[0] – «покажет» количество строк в тренировочной выборке, а X_train.shape[1] - количество столбцов в ней же. Ну а X_train.shape – выведет размерность train'а в виде кортежа с 2мя значениями (первое число – количество строк, второе – столбцов).</div>"
   ]
  },
  {
   "cell_type": "markdown",
   "id": "4303b2a2",
   "metadata": {},
   "source": [
    "### Поиск лучшей модели: логистическая регрессия"
   ]
  },
  {
   "cell_type": "markdown",
   "id": "bfc71a86",
   "metadata": {},
   "source": [
    "Для логистической регрессии основной гиперпараметр - солвер, их и будем перебирать.\n",
    "\n",
    "Часть солверов детерминистические, их проверим в первую очередь. Стохастические солверы проверим на разных сидах."
   ]
  },
  {
   "cell_type": "code",
   "execution_count": 10,
   "id": "e758aad8",
   "metadata": {},
   "outputs": [
    {
     "name": "stdout",
     "output_type": "stream",
     "text": [
      "Лучшая модель и ее параметры: \n",
      "LogisticRegression()\n",
      "\n",
      "Имеет следующую точность:\n",
      "0.7652\n",
      "\n"
     ]
    }
   ],
   "source": [
    "## LR - Logistic Regression\n",
    "## Здесь будет храниться лучшая найденная модель в категории и интересующие параметры\n",
    "best_model_container_lr = {\n",
    "    \"model\":None,\n",
    "    \"accuracy\":0\n",
    "}\n",
    "\n",
    "## Детерминистические солверы\n",
    "for solver in [\"lbfgs\", \"newton-cg\"]:\n",
    "    logistic_regression_model = LogisticRegression(solver=solver)\n",
    "    logistic_regression_model.fit(features_train, target_train)\n",
    "    prediction_lr = logistic_regression_model.predict(features_valid)\n",
    "    \n",
    "    accuracy_lr = accuracy_score(target_valid, prediction_lr)\n",
    "    \n",
    "    if accuracy_lr > best_model_container_lr[\"accuracy\"]:\n",
    "        best_model_container_lr[\"model\"] = logistic_regression_model\n",
    "        best_model_container_lr[\"accuracy\"] = accuracy_lr\n",
    "\n",
    "## Стохастические солверы\n",
    "for solver in [\"sag\", \"saga\", \"liblinear\"]:\n",
    "    for seed in rtg:\n",
    "        logistic_regression_model = LogisticRegression(solver=solver, random_state=seed)\n",
    "        logistic_regression_model.fit(features_train, target_train)\n",
    "        prediction_lr = logistic_regression_model.predict(features_valid)\n",
    "    \n",
    "        accuracy_lr = accuracy_score(target_valid, prediction_lr)\n",
    "    \n",
    "        if accuracy_lr > best_model_container_lr[\"accuracy\"]:\n",
    "            best_model_container_lr[\"model\"] = logistic_regression_model\n",
    "            best_model_container_lr[\"accuracy\"] = accuracy_lr\n",
    "        #print(solver, seed, accuracy_lr)\n",
    "\n",
    "print(\n",
    "f\"\"\"Лучшая модель и ее параметры: \n",
    "{best_model_container_lr[\"model\"]}\n",
    "\n",
    "Имеет следующую точность:\n",
    "{best_model_container_lr[\"accuracy\"]:.4f}\n",
    "\"\"\")"
   ]
  },
  {
   "cell_type": "markdown",
   "id": "ccd5e470",
   "metadata": {},
   "source": [
    "Наилучший результат получился у солвера LBFGS, теперь посмотрим, что получится с деревьями решений."
   ]
  },
  {
   "cell_type": "markdown",
   "id": "f35dce38",
   "metadata": {},
   "source": [
    "### Поиск лучшей модели: дерево решений"
   ]
  },
  {
   "cell_type": "markdown",
   "id": "5e4c7fc3",
   "metadata": {},
   "source": [
    "Деревья склонны к переобучению, поэтому стоит найти гиперпараметры, которые позволят этого избежать. Это в первую очередь глубина дерева и количество листьев, их и будем перебирать."
   ]
  },
  {
   "cell_type": "code",
   "execution_count": 11,
   "id": "b056d2b6",
   "metadata": {},
   "outputs": [
    {
     "name": "stdout",
     "output_type": "stream",
     "text": [
      "Лучшая модель и ее параметры: \n",
      "DecisionTreeClassifier(max_depth=3, max_leaf_nodes=4, random_state=6625)\n",
      "\n",
      "Имеет следующую точность:\n",
      "0.7978\n",
      "\n",
      "И следующий вид:\n"
     ]
    },
    {
     "data": {
      "image/png": "[encoded data removed]",
      "text/plain": [
       "<Figure size 576x576 with 1 Axes>"
      ]
     },
     "metadata": {
      "needs_background": "light"
     },
     "output_type": "display_data"
    }
   ],
   "source": [
    "## DT - Decision Tree\n",
    "## Здесь будет храниться лучшая найденная модель в категории и интересующие параметры\n",
    "best_model_container_dt = {\n",
    "    \"model\":None,\n",
    "    \"accuracy\":0\n",
    "}\n",
    "\n",
    "for seed in rtg:\n",
    "    for max_nodes in range(2, 12):\n",
    "        for depth in range(1, 4):\n",
    "            decision_tree_model = DecisionTreeClassifier(max_leaf_nodes=max_nodes, random_state=seed, max_depth=depth)\n",
    "            decision_tree_model.fit(features_train, target_train)\n",
    "            prediction_dt = decision_tree_model.predict(features_valid)\n",
    "    \n",
    "            accuracy_dt = accuracy_score(target_valid, prediction_dt)\n",
    "    \n",
    "            if accuracy_dt > best_model_container_dt[\"accuracy\"]:\n",
    "                best_model_container_dt[\"model\"] = decision_tree_model\n",
    "                best_model_container_dt[\"accuracy\"] = accuracy_dt\n",
    "\n",
    "print(\n",
    "f\"\"\"Лучшая модель и ее параметры: \n",
    "{best_model_container_dt[\"model\"]}\n",
    "\n",
    "Имеет следующую точность:\n",
    "{best_model_container_dt[\"accuracy\"]:.4f}\n",
    "\"\"\")\n",
    "\n",
    "print(\"И следующий вид:\")\n",
    "plt.figure(figsize=(8, 8))\n",
    "plot_tree(best_model_container_dt[\"model\"]);"
   ]
  },
  {
   "cell_type": "markdown",
   "id": "da77e3a1",
   "metadata": {},
   "source": [
    "Результат лучше, чем у логистической регрессии, посмотрим, удастся ли его улучшить случайным лесом."
   ]
  },
  {
   "cell_type": "markdown",
   "id": "ecb98453",
   "metadata": {},
   "source": [
    "### Поиск лучшей модели: случайный лес деревьев"
   ]
  },
  {
   "cell_type": "markdown",
   "id": "02b71c69",
   "metadata": {},
   "source": [
    "Гиперпараметры здесь все те же, что и в предыдущем пункте, только добавляется количество деревьев в лесу."
   ]
  },
  {
   "cell_type": "code",
   "execution_count": 12,
   "id": "ac43b1fd",
   "metadata": {},
   "outputs": [
    {
     "name": "stdout",
     "output_type": "stream",
     "text": [
      "Лучшая модель и ее параметры: \n",
      "RandomForestClassifier(max_depth=3, max_leaf_nodes=8, n_estimators=18,\n",
      "                       random_state=7674)\n",
      "\n",
      "Имеет следующую точность:\n",
      "0.8072\n",
      "\n"
     ]
    }
   ],
   "source": [
    "## RF - Random Forest\n",
    "## Здесь будет храниться лучшая найденная модель в категории и интересующие параметры\n",
    "best_model_container_rf = {\n",
    "    \"model\":None,\n",
    "    \"accuracy\":0\n",
    "}\n",
    "\n",
    "for seed in rtg[:5]:    ## Ограничимся 5-ю первыми сидами, иначе исполнения кода можно ждать долго\n",
    "    for forest_size in range(2, 20):\n",
    "        for max_nodes in range(2, 12):\n",
    "            for depth in range(1, 4):\n",
    "                random_forest_model = RandomForestClassifier(n_estimators=forest_size,\n",
    "                                                             max_leaf_nodes=max_nodes, random_state=seed, max_depth=depth\n",
    "                                                            )\n",
    "                random_forest_model.fit(features_train, target_train)\n",
    "                prediction_rf = random_forest_model.predict(features_valid)\n",
    "    \n",
    "                accuracy_rf = accuracy_score(target_valid, prediction_rf)\n",
    "    \n",
    "                if accuracy_rf > best_model_container_rf[\"accuracy\"]:\n",
    "                    best_model_container_rf[\"model\"] = random_forest_model\n",
    "                    best_model_container_rf[\"accuracy\"] = accuracy_rf\n",
    "\n",
    "print(\n",
    "f\"\"\"Лучшая модель и ее параметры: \n",
    "{best_model_container_rf[\"model\"]}\n",
    "\n",
    "Имеет следующую точность:\n",
    "{best_model_container_rf[\"accuracy\"]:.4f}\n",
    "\"\"\")"
   ]
  },
  {
   "cell_type": "markdown",
   "id": "70660e9b",
   "metadata": {},
   "source": [
    "Еще небольшой прирост в точности относительно единственного дерева."
   ]
  },
  {
   "cell_type": "markdown",
   "id": "7934b911",
   "metadata": {},
   "source": [
    "### Поиск лучшей модели: k ближайших соседей"
   ]
  },
  {
   "cell_type": "markdown",
   "id": "e9e1f26e",
   "metadata": {},
   "source": [
    "Метод полностю детерминистический, поэтому сидов здесь не будет. А вот что будет, так это определение оптимального количества ближайших соседей."
   ]
  },
  {
   "cell_type": "code",
   "execution_count": 13,
   "id": "1e99b5ac",
   "metadata": {
    "scrolled": false
   },
   "outputs": [
    {
     "name": "stderr",
     "output_type": "stream",
     "text": [
      "/opt/conda/lib/python3.9/site-packages/sklearn/neighbors/_classification.py:211: FutureWarning: Unlike other reduction functions (e.g. `skew`, `kurtosis`), the default behavior of `mode` typically preserves the axis it acts along. In SciPy 1.11.0, this behavior will change: the default value of `keepdims` will become False, the `axis` over which the statistic is taken will be eliminated, and the value None will no longer be accepted. Set `keepdims` to True or False to avoid this warning.\n",
      "  mode, _ = stats.mode(_y[neigh_ind, k], axis=1)\n",
      "/opt/conda/lib/python3.9/site-packages/sklearn/neighbors/_classification.py:211: FutureWarning: Unlike other reduction functions (e.g. `skew`, `kurtosis`), the default behavior of `mode` typically preserves the axis it acts along. In SciPy 1.11.0, this behavior will change: the default value of `keepdims` will become False, the `axis` over which the statistic is taken will be eliminated, and the value None will no longer be accepted. Set `keepdims` to True or False to avoid this warning.\n",
      "  mode, _ = stats.mode(_y[neigh_ind, k], axis=1)\n",
      "/opt/conda/lib/python3.9/site-packages/sklearn/neighbors/_classification.py:211: FutureWarning: Unlike other reduction functions (e.g. `skew`, `kurtosis`), the default behavior of `mode` typically preserves the axis it acts along. In SciPy 1.11.0, this behavior will change: the default value of `keepdims` will become False, the `axis` over which the statistic is taken will be eliminated, and the value None will no longer be accepted. Set `keepdims` to True or False to avoid this warning.\n",
      "  mode, _ = stats.mode(_y[neigh_ind, k], axis=1)\n",
      "/opt/conda/lib/python3.9/site-packages/sklearn/neighbors/_classification.py:211: FutureWarning: Unlike other reduction functions (e.g. `skew`, `kurtosis`), the default behavior of `mode` typically preserves the axis it acts along. In SciPy 1.11.0, this behavior will change: the default value of `keepdims` will become False, the `axis` over which the statistic is taken will be eliminated, and the value None will no longer be accepted. Set `keepdims` to True or False to avoid this warning.\n",
      "  mode, _ = stats.mode(_y[neigh_ind, k], axis=1)\n",
      "/opt/conda/lib/python3.9/site-packages/sklearn/neighbors/_classification.py:211: FutureWarning: Unlike other reduction functions (e.g. `skew`, `kurtosis`), the default behavior of `mode` typically preserves the axis it acts along. In SciPy 1.11.0, this behavior will change: the default value of `keepdims` will become False, the `axis` over which the statistic is taken will be eliminated, and the value None will no longer be accepted. Set `keepdims` to True or False to avoid this warning.\n",
      "  mode, _ = stats.mode(_y[neigh_ind, k], axis=1)\n",
      "/opt/conda/lib/python3.9/site-packages/sklearn/neighbors/_classification.py:211: FutureWarning: Unlike other reduction functions (e.g. `skew`, `kurtosis`), the default behavior of `mode` typically preserves the axis it acts along. In SciPy 1.11.0, this behavior will change: the default value of `keepdims` will become False, the `axis` over which the statistic is taken will be eliminated, and the value None will no longer be accepted. Set `keepdims` to True or False to avoid this warning.\n",
      "  mode, _ = stats.mode(_y[neigh_ind, k], axis=1)\n",
      "/opt/conda/lib/python3.9/site-packages/sklearn/neighbors/_classification.py:211: FutureWarning: Unlike other reduction functions (e.g. `skew`, `kurtosis`), the default behavior of `mode` typically preserves the axis it acts along. In SciPy 1.11.0, this behavior will change: the default value of `keepdims` will become False, the `axis` over which the statistic is taken will be eliminated, and the value None will no longer be accepted. Set `keepdims` to True or False to avoid this warning.\n",
      "  mode, _ = stats.mode(_y[neigh_ind, k], axis=1)\n",
      "/opt/conda/lib/python3.9/site-packages/sklearn/neighbors/_classification.py:211: FutureWarning: Unlike other reduction functions (e.g. `skew`, `kurtosis`), the default behavior of `mode` typically preserves the axis it acts along. In SciPy 1.11.0, this behavior will change: the default value of `keepdims` will become False, the `axis` over which the statistic is taken will be eliminated, and the value None will no longer be accepted. Set `keepdims` to True or False to avoid this warning.\n",
      "  mode, _ = stats.mode(_y[neigh_ind, k], axis=1)\n",
      "/opt/conda/lib/python3.9/site-packages/sklearn/neighbors/_classification.py:211: FutureWarning: Unlike other reduction functions (e.g. `skew`, `kurtosis`), the default behavior of `mode` typically preserves the axis it acts along. In SciPy 1.11.0, this behavior will change: the default value of `keepdims` will become False, the `axis` over which the statistic is taken will be eliminated, and the value None will no longer be accepted. Set `keepdims` to True or False to avoid this warning.\n",
      "  mode, _ = stats.mode(_y[neigh_ind, k], axis=1)\n",
      "/opt/conda/lib/python3.9/site-packages/sklearn/neighbors/_classification.py:211: FutureWarning: Unlike other reduction functions (e.g. `skew`, `kurtosis`), the default behavior of `mode` typically preserves the axis it acts along. In SciPy 1.11.0, this behavior will change: the default value of `keepdims` will become False, the `axis` over which the statistic is taken will be eliminated, and the value None will no longer be accepted. Set `keepdims` to True or False to avoid this warning.\n",
      "  mode, _ = stats.mode(_y[neigh_ind, k], axis=1)\n",
      "/opt/conda/lib/python3.9/site-packages/sklearn/neighbors/_classification.py:211: FutureWarning: Unlike other reduction functions (e.g. `skew`, `kurtosis`), the default behavior of `mode` typically preserves the axis it acts along. In SciPy 1.11.0, this behavior will change: the default value of `keepdims` will become False, the `axis` over which the statistic is taken will be eliminated, and the value None will no longer be accepted. Set `keepdims` to True or False to avoid this warning.\n",
      "  mode, _ = stats.mode(_y[neigh_ind, k], axis=1)\n",
      "/opt/conda/lib/python3.9/site-packages/sklearn/neighbors/_classification.py:211: FutureWarning: Unlike other reduction functions (e.g. `skew`, `kurtosis`), the default behavior of `mode` typically preserves the axis it acts along. In SciPy 1.11.0, this behavior will change: the default value of `keepdims` will become False, the `axis` over which the statistic is taken will be eliminated, and the value None will no longer be accepted. Set `keepdims` to True or False to avoid this warning.\n",
      "  mode, _ = stats.mode(_y[neigh_ind, k], axis=1)\n",
      "/opt/conda/lib/python3.9/site-packages/sklearn/neighbors/_classification.py:211: FutureWarning: Unlike other reduction functions (e.g. `skew`, `kurtosis`), the default behavior of `mode` typically preserves the axis it acts along. In SciPy 1.11.0, this behavior will change: the default value of `keepdims` will become False, the `axis` over which the statistic is taken will be eliminated, and the value None will no longer be accepted. Set `keepdims` to True or False to avoid this warning.\n",
      "  mode, _ = stats.mode(_y[neigh_ind, k], axis=1)\n",
      "/opt/conda/lib/python3.9/site-packages/sklearn/neighbors/_classification.py:211: FutureWarning: Unlike other reduction functions (e.g. `skew`, `kurtosis`), the default behavior of `mode` typically preserves the axis it acts along. In SciPy 1.11.0, this behavior will change: the default value of `keepdims` will become False, the `axis` over which the statistic is taken will be eliminated, and the value None will no longer be accepted. Set `keepdims` to True or False to avoid this warning.\n",
      "  mode, _ = stats.mode(_y[neigh_ind, k], axis=1)\n",
      "/opt/conda/lib/python3.9/site-packages/sklearn/neighbors/_classification.py:211: FutureWarning: Unlike other reduction functions (e.g. `skew`, `kurtosis`), the default behavior of `mode` typically preserves the axis it acts along. In SciPy 1.11.0, this behavior will change: the default value of `keepdims` will become False, the `axis` over which the statistic is taken will be eliminated, and the value None will no longer be accepted. Set `keepdims` to True or False to avoid this warning.\n",
      "  mode, _ = stats.mode(_y[neigh_ind, k], axis=1)\n",
      "/opt/conda/lib/python3.9/site-packages/sklearn/neighbors/_classification.py:211: FutureWarning: Unlike other reduction functions (e.g. `skew`, `kurtosis`), the default behavior of `mode` typically preserves the axis it acts along. In SciPy 1.11.0, this behavior will change: the default value of `keepdims` will become False, the `axis` over which the statistic is taken will be eliminated, and the value None will no longer be accepted. Set `keepdims` to True or False to avoid this warning.\n",
      "  mode, _ = stats.mode(_y[neigh_ind, k], axis=1)\n",
      "/opt/conda/lib/python3.9/site-packages/sklearn/neighbors/_classification.py:211: FutureWarning: Unlike other reduction functions (e.g. `skew`, `kurtosis`), the default behavior of `mode` typically preserves the axis it acts along. In SciPy 1.11.0, this behavior will change: the default value of `keepdims` will become False, the `axis` over which the statistic is taken will be eliminated, and the value None will no longer be accepted. Set `keepdims` to True or False to avoid this warning.\n",
      "  mode, _ = stats.mode(_y[neigh_ind, k], axis=1)\n",
      "/opt/conda/lib/python3.9/site-packages/sklearn/neighbors/_classification.py:211: FutureWarning: Unlike other reduction functions (e.g. `skew`, `kurtosis`), the default behavior of `mode` typically preserves the axis it acts along. In SciPy 1.11.0, this behavior will change: the default value of `keepdims` will become False, the `axis` over which the statistic is taken will be eliminated, and the value None will no longer be accepted. Set `keepdims` to True or False to avoid this warning.\n",
      "  mode, _ = stats.mode(_y[neigh_ind, k], axis=1)\n",
      "/opt/conda/lib/python3.9/site-packages/sklearn/neighbors/_classification.py:211: FutureWarning: Unlike other reduction functions (e.g. `skew`, `kurtosis`), the default behavior of `mode` typically preserves the axis it acts along. In SciPy 1.11.0, this behavior will change: the default value of `keepdims` will become False, the `axis` over which the statistic is taken will be eliminated, and the value None will no longer be accepted. Set `keepdims` to True or False to avoid this warning.\n",
      "  mode, _ = stats.mode(_y[neigh_ind, k], axis=1)\n",
      "/opt/conda/lib/python3.9/site-packages/sklearn/neighbors/_classification.py:211: FutureWarning: Unlike other reduction functions (e.g. `skew`, `kurtosis`), the default behavior of `mode` typically preserves the axis it acts along. In SciPy 1.11.0, this behavior will change: the default value of `keepdims` will become False, the `axis` over which the statistic is taken will be eliminated, and the value None will no longer be accepted. Set `keepdims` to True or False to avoid this warning.\n",
      "  mode, _ = stats.mode(_y[neigh_ind, k], axis=1)\n",
      "/opt/conda/lib/python3.9/site-packages/sklearn/neighbors/_classification.py:211: FutureWarning: Unlike other reduction functions (e.g. `skew`, `kurtosis`), the default behavior of `mode` typically preserves the axis it acts along. In SciPy 1.11.0, this behavior will change: the default value of `keepdims` will become False, the `axis` over which the statistic is taken will be eliminated, and the value None will no longer be accepted. Set `keepdims` to True or False to avoid this warning.\n",
      "  mode, _ = stats.mode(_y[neigh_ind, k], axis=1)\n"
     ]
    },
    {
     "name": "stdout",
     "output_type": "stream",
     "text": [
      "Лучшая модель и ее параметры: \n",
      "KNeighborsClassifier(n_neighbors=18)\n",
      "\n",
      "Имеет следующую точность:\n",
      "0.8165\n",
      "\n"
     ]
    },
    {
     "name": "stderr",
     "output_type": "stream",
     "text": [
      "/opt/conda/lib/python3.9/site-packages/sklearn/neighbors/_classification.py:211: FutureWarning: Unlike other reduction functions (e.g. `skew`, `kurtosis`), the default behavior of `mode` typically preserves the axis it acts along. In SciPy 1.11.0, this behavior will change: the default value of `keepdims` will become False, the `axis` over which the statistic is taken will be eliminated, and the value None will no longer be accepted. Set `keepdims` to True or False to avoid this warning.\n",
      "  mode, _ = stats.mode(_y[neigh_ind, k], axis=1)\n",
      "/opt/conda/lib/python3.9/site-packages/sklearn/neighbors/_classification.py:211: FutureWarning: Unlike other reduction functions (e.g. `skew`, `kurtosis`), the default behavior of `mode` typically preserves the axis it acts along. In SciPy 1.11.0, this behavior will change: the default value of `keepdims` will become False, the `axis` over which the statistic is taken will be eliminated, and the value None will no longer be accepted. Set `keepdims` to True or False to avoid this warning.\n",
      "  mode, _ = stats.mode(_y[neigh_ind, k], axis=1)\n",
      "/opt/conda/lib/python3.9/site-packages/sklearn/neighbors/_classification.py:211: FutureWarning: Unlike other reduction functions (e.g. `skew`, `kurtosis`), the default behavior of `mode` typically preserves the axis it acts along. In SciPy 1.11.0, this behavior will change: the default value of `keepdims` will become False, the `axis` over which the statistic is taken will be eliminated, and the value None will no longer be accepted. Set `keepdims` to True or False to avoid this warning.\n",
      "  mode, _ = stats.mode(_y[neigh_ind, k], axis=1)\n",
      "/opt/conda/lib/python3.9/site-packages/sklearn/neighbors/_classification.py:211: FutureWarning: Unlike other reduction functions (e.g. `skew`, `kurtosis`), the default behavior of `mode` typically preserves the axis it acts along. In SciPy 1.11.0, this behavior will change: the default value of `keepdims` will become False, the `axis` over which the statistic is taken will be eliminated, and the value None will no longer be accepted. Set `keepdims` to True or False to avoid this warning.\n",
      "  mode, _ = stats.mode(_y[neigh_ind, k], axis=1)\n",
      "/opt/conda/lib/python3.9/site-packages/sklearn/neighbors/_classification.py:211: FutureWarning: Unlike other reduction functions (e.g. `skew`, `kurtosis`), the default behavior of `mode` typically preserves the axis it acts along. In SciPy 1.11.0, this behavior will change: the default value of `keepdims` will become False, the `axis` over which the statistic is taken will be eliminated, and the value None will no longer be accepted. Set `keepdims` to True or False to avoid this warning.\n",
      "  mode, _ = stats.mode(_y[neigh_ind, k], axis=1)\n",
      "/opt/conda/lib/python3.9/site-packages/sklearn/neighbors/_classification.py:211: FutureWarning: Unlike other reduction functions (e.g. `skew`, `kurtosis`), the default behavior of `mode` typically preserves the axis it acts along. In SciPy 1.11.0, this behavior will change: the default value of `keepdims` will become False, the `axis` over which the statistic is taken will be eliminated, and the value None will no longer be accepted. Set `keepdims` to True or False to avoid this warning.\n",
      "  mode, _ = stats.mode(_y[neigh_ind, k], axis=1)\n"
     ]
    }
   ],
   "source": [
    "## knn - k Nearest Neighbours\n",
    "## Здесь будет храниться лучшая найденная модель в категории и интересующие параметры\n",
    "best_model_container_knn = {\n",
    "    \"model\":None,\n",
    "    \"accuracy\":0\n",
    "}\n",
    "\n",
    "for neighbours in range(3, 30):\n",
    "    knn_model = KNeighborsClassifier(n_neighbors=neighbours)\n",
    "    knn_model.fit(features_train, target_train)\n",
    "    prediction_knn = knn_model.predict(features_valid)\n",
    "    \n",
    "    accuracy_knn = accuracy_score(target_valid, prediction_knn)\n",
    "    \n",
    "    if accuracy_knn > best_model_container_knn[\"accuracy\"]:\n",
    "        best_model_container_knn[\"model\"] = knn_model\n",
    "        best_model_container_knn[\"accuracy\"] = accuracy_knn\n",
    "\n",
    "print(\n",
    "f\"\"\"Лучшая модель и ее параметры: \n",
    "{best_model_container_knn[\"model\"]}\n",
    "\n",
    "Имеет следующую точность:\n",
    "{best_model_container_knn[\"accuracy\"]:.4f}\n",
    "\"\"\")"
   ]
  },
  {
   "cell_type": "markdown",
   "id": "504c95c0",
   "metadata": {},
   "source": [
    "Выглядит как самая точная модель, интересно, как она себя покажет на тестовой выборке.\n",
    "\n",
    "Теперь остается только сделать финальную проверку на тестовой выборке и определиться с тем, какая модель будет рабочей."
   ]
  },
  {
   "cell_type": "markdown",
   "id": "b894989c",
   "metadata": {},
   "source": [
    "<div class=\"alert alert-success\">\n",
    "<b>ОТЛИЧНО! 👍</b>\n",
    "\n",
    "Здесь отлично: определили лучшую модель. На валидации ею оказалась модель \"случайного леса\". \n",
    "\n",
    "После того, как лучшая модель найдена – тестируем её (можно - только её) на тестовых данных. Все прочие модели нас уже больше не интересуют. \n",
    "</div>"
   ]
  },
  {
   "cell_type": "markdown",
   "id": "e0eeb703",
   "metadata": {},
   "source": [
    "### Выбор лучшей модели"
   ]
  },
  {
   "cell_type": "markdown",
   "id": "0b0def56",
   "metadata": {},
   "source": [
    "Дадим каждой из 4-х лучших моделей тестовую выборку и посмотрим, как они справятся. Модель с лучшим показателем точности и будет финальной."
   ]
  },
  {
   "cell_type": "code",
   "execution_count": 14,
   "id": "3b807f0b",
   "metadata": {},
   "outputs": [
    {
     "name": "stderr",
     "output_type": "stream",
     "text": [
      "/opt/conda/lib/python3.9/site-packages/sklearn/neighbors/_classification.py:211: FutureWarning: Unlike other reduction functions (e.g. `skew`, `kurtosis`), the default behavior of `mode` typically preserves the axis it acts along. In SciPy 1.11.0, this behavior will change: the default value of `keepdims` will become False, the `axis` over which the statistic is taken will be eliminated, and the value None will no longer be accepted. Set `keepdims` to True or False to avoid this warning.\n",
      "  mode, _ = stats.mode(_y[neigh_ind, k], axis=1)\n"
     ]
    },
    {
     "name": "stdout",
     "output_type": "stream",
     "text": [
      "\n",
      "    Модель\n",
      "    LogisticRegression()\n",
      "    Точность:\n",
      "    0.7434\n",
      "    \n",
      "\n",
      "    Модель\n",
      "    DecisionTreeClassifier(max_depth=3, max_leaf_nodes=4, random_state=6625)\n",
      "    Точность:\n",
      "    0.7807\n",
      "    \n",
      "\n",
      "    Модель\n",
      "    RandomForestClassifier(max_depth=3, max_leaf_nodes=8, n_estimators=18,\n",
      "                       random_state=7674)\n",
      "    Точность:\n",
      "    0.7792\n",
      "    \n",
      "\n",
      "    Модель\n",
      "    KNeighborsClassifier(n_neighbors=18)\n",
      "    Точность:\n",
      "    0.7807\n",
      "    \n"
     ]
    },
    {
     "data": {
      "image/png": "[encoded data removed]",
      "text/plain": [
       "<Figure size 864x432 with 1 Axes>"
      ]
     },
     "metadata": {
      "needs_background": "light"
     },
     "output_type": "display_data"
    }
   ],
   "source": [
    "accuracies = []\n",
    "model_names = [\"Логистическая регрессия\", \"Дерево решений\", \"Случайный лес\", \"k-NN\"]\n",
    "\n",
    "for model in [best_model_container_lr[\"model\"], best_model_container_dt[\"model\"],\n",
    "              best_model_container_rf[\"model\"], best_model_container_knn[\"model\"]]:\n",
    "    prediction = model.predict(features_test)\n",
    "    accuracy = accuracy_score(target_test, prediction)\n",
    "    accuracies.append(accuracy)\n",
    "    \n",
    "    print(\n",
    "    f\"\"\"\n",
    "    Модель\n",
    "    {model}\n",
    "    Точность:\n",
    "    {accuracy:.4f}\n",
    "    \"\"\"\n",
    "    )\n",
    "\n",
    "\n",
    "accuracies = pd.DataFrame(data={\"accuracy\":accuracies, \"model_name\":model_names})\n",
    "\n",
    "plt.figure(figsize=(12, 6))\n",
    "plt.axhline(.75, color=\"red\")\n",
    "plt.ylim(0, 1)\n",
    "sns.barplot(data=accuracies, x=\"model_name\", y=\"accuracy\");"
   ]
  },
  {
   "cell_type": "markdown",
   "id": "c3648562",
   "metadata": {},
   "source": [
    "<div class=\"alert alert-success\">\n",
    "<b>ОТЛИЧНО! 👍</b>\n",
    "\n",
    "Здесь отлично: проверили \"качество\" нашей лучшей модели на тестовых данных.\n",
    "</div>"
   ]
  },
  {
   "cell_type": "markdown",
   "id": "38a61757",
   "metadata": {},
   "source": [
    "Логистическая регрессия не проходит по критерию точности задания (<.75). Остальные три дают в целом сравнимые результаты. Любопытно, что kNN и дерево дали абсолютно одинаковую точность."
   ]
  },
  {
   "cell_type": "markdown",
   "id": "151f6a00",
   "metadata": {},
   "source": [
    "### Проверка на вменяемость"
   ]
  },
  {
   "cell_type": "markdown",
   "id": "060a44c7",
   "metadata": {},
   "source": [
    "В качестве проверки на вменяемость используем случайно сгенерированные значения. В нашем (бинарном) случае такая \"модель\" должна иметь точность около .5. Сейчас и проверим."
   ]
  },
  {
   "cell_type": "code",
   "execution_count": 15,
   "id": "cc45cc53",
   "metadata": {},
   "outputs": [
    {
     "name": "stdout",
     "output_type": "stream",
     "text": [
      "Точность случайной модели: 0.4743\n"
     ]
    }
   ],
   "source": [
    "random_array = np.random.randint(0, high=2, size=target_test.shape[0], dtype=\"bool\")\n",
    "#print(random_array.shape[0])\n",
    "\n",
    "accuracy_rnd = accuracy_score(target_test, random_array)\n",
    "print(f\"Точность случайной модели: {accuracy_rnd:.4f}\" )"
   ]
  },
  {
   "cell_type": "markdown",
   "id": "ac14464a",
   "metadata": {},
   "source": [
    "Как и ожидалось, получили результат близкий к .5. Он может отличаться до .05 в каждую сторону, но в среднем около .5 и получается.\n",
    "\n",
    "Из этого можно сделать вывод, что все обученные модели предсказывают интересующий нас параметр существенно лучше, чем случайный метод."
   ]
  },
  {
   "cell_type": "markdown",
   "id": "e8505943",
   "metadata": {},
   "source": [
    "<div class=\"alert alert-warning\">\n",
    "<b>Комментарий 👉</b>\n",
    "\n",
    "Для проверки модели на адекватность можно использовать DummyClassifier (из библиотеки sckit-learn). Это один вариант. \n",
    "    \n",
    "Второй вариант - сравнить самый часто встречающийся класс в наших данных (это is_ultra == 0). Таких значений 2.229 в нашем датафрейме. Всего же значений в датафрейме 3.214. Значит самый часто встречающийся класс \"занимает\" 69% (2229 / 3214 == 0.693528313627878). Вот мы и получили контрольные данные для сравнительной оценки, построенной нами \"лучшей\" модели. Наша лучшая модель должна \"побить\" этот скор.\n",
    "</div>"
   ]
  },
  {
   "cell_type": "markdown",
   "id": "60bbb0b8",
   "metadata": {},
   "source": [
    "## Выводы"
   ]
  },
  {
   "attachments": {
    "Accuracy_barplot.PNG": {
     "image/png": "[encoded data removed]"
    }
   },
   "cell_type": "markdown",
   "id": "0d5c8735",
   "metadata": {},
   "source": [
    "* Исходный датасет был разделен на обучающую, валидационную и тестовую выборки в пропорции 60% - 20% - 20% соответственно.\n",
    "* На обучающих выборках были обучены модели:\n",
    "    * Логистическая регрессия\n",
    "    * Дерево решений\n",
    "    * Случайный лес деревьев решений\n",
    "    * k ближайших соседей\n",
    "* Для каждой из моделей были подобраны гиперпараметры, дающие максимальную точность при проверке на валидационной выборке.\n",
    "* По результатам проверки на тестовой выборке модель логистической регрессии показала точность (.7434) ниже пороговой (.75). Остальные модели показали сравнимую друг с другом точность (.7792 - .7807).\n",
    ".\n",
    "<img src=attachment:Accuracy_barplot.PNG width=\"600\" height=\"500\">\n",
    "* Поскольку среди моделей, удовлетворяющих критерию точности, значения точности значительно друг от друга не отличаются, их можно считать равноценными и любая из них может быть использована как итоговая.\n",
    "* Все обученные модели прошли проверку на вменяемость, а именно, показали точность значительно выше, чем случайное предсказание."
   ]
  },
  {
   "cell_type": "markdown",
   "id": "3579506e",
   "metadata": {},
   "source": [
    "<div class=\"alert alert-success\">\n",
    "<b>ОТЛИЧНО! 👍</b>\n",
    "\n",
    "Всё отлично, результат достигнут.\n",
    "    \n",
    "Один совет (также, на будущее): как попытаться улучшить полученный результат, с минимум усилий? Ответ: мы использовали train для обучения модели, а valid - для поиска лучших значений гиперпараметров. Лучшие параметры нашли. Так почему бы теперь наши модели с выбранными гиперпараметрами не обучить на *общей* (тренировочной + валидационной) выборке (pd.concat() можно использовать для объединения). Чем больше данных, тем *лучше* модели смогут обучиться (надо проверять!). И вот теперь эту дообученную модель мы уже финально проверим на тестовой выборке (test).\n",
    "\n",
    "Но следует учесть вот какой момент: нужно быть аккуратным с подобным «улучшением», если мы кодируем или масштабируем наши выборки. Например, в следующем проекте мы обучаемся на train’е, а затем делаем transform на валидации и тесте. Если после этого объединить трейн и валид, то это будет не совсем верно.\n",
    "\n",
    "p.s. а вообще, достижение высокого скора не такая простая задача. Много моментов может влиять (подбор гиперпараметров - всего лишь один из них). В этой конкретно задаче мне кажется, что данных маловато, а также, возможно и фичей (столбцов в наших данных). Из-за этого модели не могут точно \"настроиться на данные\".\n",
    "</div>"
   ]
  },
  {
   "cell_type": "code",
   "execution_count": null,
   "id": "89a970e9",
   "metadata": {},
   "outputs": [],
   "source": []
  },
  {
   "cell_type": "markdown",
   "id": "7463cc87",
   "metadata": {},
   "source": [
    "<div class=\"alert alert-success\">\n",
    "<b>ОТЛИЧНО! 👍</b>\n",
    "\n",
    "Илья, у тебя хорошая работа, все четко, осмысленно. Выводы присутствуют, с комментированием кода тоже никаких проблем нет.\n",
    "\n",
    "Я отправляю тебе проект ещё раз лишь для того, чтобы удостовериться что у тебя нет вопросов ко мне. Если их нет - пошли мне тетрадку ещё раз, и я тут же, без слов приму твою работу! \n",
    "</div>\n"
   ]
  }
 ],
 "metadata": {
  "ExecuteTimeLog": [
   {
    "duration": 2402,
    "start_time": "2023-02-26T00:35:56.821Z"
   },
   {
    "duration": 68,
    "start_time": "2023-02-26T00:35:59.225Z"
   },
   {
    "duration": 11,
    "start_time": "2023-02-26T00:35:59.295Z"
   },
   {
    "duration": 45,
    "start_time": "2023-02-26T00:35:59.308Z"
   },
   {
    "duration": 10,
    "start_time": "2023-02-26T00:35:59.357Z"
   },
   {
    "duration": 483,
    "start_time": "2023-02-26T00:35:59.369Z"
   },
   {
    "duration": 10,
    "start_time": "2023-02-26T00:35:59.854Z"
   },
   {
    "duration": 24,
    "start_time": "2023-02-26T00:35:59.866Z"
   },
   {
    "duration": 27,
    "start_time": "2023-02-26T00:35:59.892Z"
   },
   {
    "duration": 4935,
    "start_time": "2023-02-26T00:35:59.921Z"
   },
   {
    "duration": 31446,
    "start_time": "2023-02-26T00:36:04.858Z"
   },
   {
    "duration": 60980,
    "start_time": "2023-02-26T00:36:36.306Z"
   },
   {
    "duration": 611,
    "start_time": "2023-02-26T00:37:37.288Z"
   },
   {
    "duration": 192,
    "start_time": "2023-02-26T00:37:37.902Z"
   },
   {
    "duration": 11,
    "start_time": "2023-02-26T00:37:38.096Z"
   }
  ],
  "kernelspec": {
   "display_name": "Python 3 (ipykernel)",
   "language": "python",
   "name": "python3"
  },
  "language_info": {
   "codemirror_mode": {
    "name": "ipython",
    "version": 3
   },
   "file_extension": ".py",
   "mimetype": "text/x-python",
   "name": "python",
   "nbconvert_exporter": "python",
   "pygments_lexer": "ipython3",
   "version": "3.9.7"
  },
  "toc": {
   "base_numbering": 1,
   "nav_menu": {},
   "number_sections": true,
   "sideBar": true,
   "skip_h1_title": true,
   "title_cell": "Table of Contents",
   "title_sidebar": "Contents",
   "toc_cell": true,
   "toc_position": {},
   "toc_section_display": true,
   "toc_window_display": true
  }
 },
 "nbformat": 4,
 "nbformat_minor": 5
}
